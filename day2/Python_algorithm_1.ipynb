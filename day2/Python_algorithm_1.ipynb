{
  "nbformat": 4,
  "nbformat_minor": 0,
  "metadata": {
    "colab": {
      "name": "Python_algorithm_1.ipynb",
      "provenance": [],
      "collapsed_sections": []
    },
    "kernelspec": {
      "name": "python3",
      "display_name": "Python 3"
    },
    "language_info": {
      "name": "python"
    }
  },
  "cells": [
    {
      "cell_type": "markdown",
      "source": [
        "# PART 1"
      ],
      "metadata": {
        "id": "6Ew5j0LPn8ac"
      }
    },
    {
      "cell_type": "markdown",
      "source": [
        "14 페이지"
      ],
      "metadata": {
        "id": "snhtDe1N7zcw"
      }
    },
    {
      "cell_type": "code",
      "execution_count": 1,
      "metadata": {
        "id": "-DJUoZog7KRh"
      },
      "outputs": [],
      "source": [
        "def insert(pos, elem) :\t\t\n",
        "   items.insert(pos, elem)\t\n",
        "\n",
        "def delete(pos) :\t\t   \n",
        "   items.pop(pos)\t\t   \n",
        "\n",
        "def getEntry(pos): return items[pos]\t\n",
        "\n",
        "def isEmpty( ):\n",
        "    if len(items) == 0 :\n",
        "        return True\t\t\n",
        "    else :\t\t\t\t\n",
        "        return False\t\n",
        "\n",
        "#def isEmpty( ): return len(items) == 0\t\n",
        "\n",
        "def size( ):\t    return len(items)\t\n",
        "def clear( ):      items = []\t\t       \n",
        "\n",
        "def find(item) : return items.index(item)\t\n",
        "def replace(pos, elem): items[pos] = elem\t\n",
        "def sort() : items.sort()\t\t\t\n",
        "def merge(lst) : items.extend(lst)\t\n",
        "\n",
        "def display(msg='ArrayList:' ):\t\t\n",
        "    print(msg, size(), items)\t\t\n"
      ]
    },
    {
      "cell_type": "code",
      "source": [
        "items = []\t\t\t       \n",
        "display('파이썬 리스트로 구현한 리스트 테스트')\n",
        "insert(0, 10);\t\tinsert(0, 20);    insert(1, 30)\n",
        "insert(size(), 40);\tinsert(2, 50)\n",
        "display(\"파이썬 리스트로 구현한 List(삽입x5): \")\n",
        "sort()\n",
        "display(\"파이썬 리스트로 구현한 List(정렬후): \")\n",
        "replace(2, 90)\n",
        "display(\"파이썬 리스트로 구현한 List(교체x1): \")\n",
        "delete(2);\tdelete(size() - 1);\tdelete(0)\n",
        "display(\"파이썬 리스트로 구현한 List(삭제x3): \")\n",
        "lst = [ 1, 2, 3 ]\n",
        "merge(lst)\n",
        "display(\"파이썬 리스트로 구현한 List(병합+3): \")\n",
        "clear()\n",
        "display(\"파이썬 리스트로 구현한 List(정리후): \")"
      ],
      "metadata": {
        "colab": {
          "base_uri": "https://localhost:8080/"
        },
        "id": "OqwDP_4w8F_4",
        "outputId": "feb6b977-069e-474a-8228-e09218a6d1a1"
      },
      "execution_count": 2,
      "outputs": [
        {
          "output_type": "stream",
          "name": "stdout",
          "text": [
            "파이썬 리스트로 구현한 리스트 테스트 0 []\n",
            "파이썬 리스트로 구현한 List(삽입x5):  5 [20, 30, 50, 10, 40]\n",
            "파이썬 리스트로 구현한 List(정렬후):  5 [10, 20, 30, 40, 50]\n",
            "파이썬 리스트로 구현한 List(교체x1):  5 [10, 20, 90, 40, 50]\n",
            "파이썬 리스트로 구현한 List(삭제x3):  2 [20, 40]\n",
            "파이썬 리스트로 구현한 List(병합+3):  5 [20, 40, 1, 2, 3]\n",
            "파이썬 리스트로 구현한 List(정리후):  5 [20, 40, 1, 2, 3]\n"
          ]
        }
      ]
    },
    {
      "cell_type": "code",
      "source": [
        "for i in range(0,3):\n",
        "  print(i)\n",
        "\n",
        "str = '0123456789'\n",
        "print (str[:1])\n",
        "print (str[:-1])\n",
        "print (str[2:-1:2])"
      ],
      "metadata": {
        "colab": {
          "base_uri": "https://localhost:8080/"
        },
        "id": "T9vGdT0XJrjp",
        "outputId": "2142fa3a-377a-4505-fed2-58fe8b26da3f"
      },
      "execution_count": 8,
      "outputs": [
        {
          "output_type": "stream",
          "name": "stdout",
          "text": [
            "0\n",
            "1\n",
            "2\n",
            "0\n",
            "012345678\n",
            "2468\n"
          ]
        }
      ]
    },
    {
      "cell_type": "markdown",
      "source": [
        "21 페이지"
      ],
      "metadata": {
        "id": "pxWpiRcs872Q"
      }
    },
    {
      "cell_type": "code",
      "source": [
        "def selection_sort(arr):\n",
        "    for i in range(len(arr) - 1):\n",
        "        min_idx = i\n",
        "        for j in range(i + 1, len(arr)):\n",
        "            if arr[j] < arr[min_idx]:\n",
        "                min_idx = j\n",
        "        arr[i], arr[min_idx] = arr[min_idx], arr[i]\n",
        "        # print('i:', i, ',j:',j, 'minidx:', min_idx)\n",
        "    return arr"
      ],
      "metadata": {
        "id": "4Xv5BbOf8og_"
      },
      "execution_count": 13,
      "outputs": []
    },
    {
      "cell_type": "code",
      "source": [
        "list = [5,3,8,4,9,1,6,2,7]\n",
        "print(selection_sort(list))"
      ],
      "metadata": {
        "colab": {
          "base_uri": "https://localhost:8080/"
        },
        "id": "_CP-k_ks8qT2",
        "outputId": "af4ee919-3ff7-4e49-f981-a5a4e2182114"
      },
      "execution_count": 14,
      "outputs": [
        {
          "output_type": "stream",
          "name": "stdout",
          "text": [
            "[1, 2, 3, 4, 5, 6, 7, 8, 9]\n"
          ]
        }
      ]
    },
    {
      "cell_type": "markdown",
      "source": [
        "23 페이지"
      ],
      "metadata": {
        "id": "5HCZiKbL98PN"
      }
    },
    {
      "cell_type": "code",
      "source": [
        "def insertion_sort(arr):\n",
        "    for end in range(1, len(arr)):\n",
        "        for i in range(end, 0, -1):\n",
        "            if arr[i - 1] > arr[i]:\n",
        "                arr[i - 1], arr[i] = arr[i], arr[i - 1]\n",
        "            # print('i:', i, ',end:',end)\n",
        "    return arr"
      ],
      "metadata": {
        "id": "5KLxSve49Kff"
      },
      "execution_count": 23,
      "outputs": []
    },
    {
      "cell_type": "code",
      "source": [
        "list = [5,3,8,4,9,1,6,2,7]\n",
        "print(insertion_sort(list))"
      ],
      "metadata": {
        "colab": {
          "base_uri": "https://localhost:8080/"
        },
        "id": "7Xhf_0Tx9PVh",
        "outputId": "d8c8c56f-b706-461d-d981-ee548438a668"
      },
      "execution_count": 24,
      "outputs": [
        {
          "output_type": "stream",
          "name": "stdout",
          "text": [
            "[1, 2, 3, 4, 5, 6, 7, 8, 9]\n"
          ]
        }
      ]
    },
    {
      "cell_type": "markdown",
      "source": [
        "25 페이지"
      ],
      "metadata": {
        "id": "g7c-5Nkl9-3t"
      }
    },
    {
      "cell_type": "code",
      "source": [
        "def bubble_sort(arr):\n",
        "    for i in range(len(arr) - 1, 0, -1):\n",
        "        for j in range(i):\n",
        "            if arr[j] > arr[j + 1]:\n",
        "                arr[j], arr[j + 1] = arr[j + 1], arr[j]\n",
        "            # print('i:', i, ',j:',j)\n",
        "        \n",
        "    return arr"
      ],
      "metadata": {
        "id": "ykVU-VlA94gY"
      },
      "execution_count": 29,
      "outputs": []
    },
    {
      "cell_type": "code",
      "source": [
        "list = [5,3,8,4,9,1,6,2,7]\n",
        "print(bubble_sort(list))"
      ],
      "metadata": {
        "colab": {
          "base_uri": "https://localhost:8080/"
        },
        "id": "kDhArn9r-RgB",
        "outputId": "4ab15385-1248-467e-f8c0-72ad460a81b8"
      },
      "execution_count": 30,
      "outputs": [
        {
          "output_type": "stream",
          "name": "stdout",
          "text": [
            "[1, 2, 3, 4, 5, 6, 7, 8, 9]\n"
          ]
        }
      ]
    },
    {
      "cell_type": "markdown",
      "source": [
        "29 페이지"
      ],
      "metadata": {
        "id": "xy1clAcm-m_O"
      }
    },
    {
      "cell_type": "code",
      "source": [
        "# 리스트에서 특정 숫자 위치 찾기\n",
        "# 입력: 리스트 a, 찾는 값 x \n",
        "# 출력: 찾으면 그 값의 위치, 찾지 못하면 -1\n",
        "\n",
        "def search_list(a, x):\n",
        "    n = len(a)              # 입력 크기 n\n",
        "    for i in range(0, n):   # 리스트 a의 모든 값을 차례로\n",
        "        if x == a[i]:       # x 값과 비교하여\n",
        "            return i        # 같으면 위치 돌려줍니다.\n",
        "\n",
        "    return -1   # 끝까지 비교해서 없으면 -1을 돌려줍니다.\n",
        "\n",
        "v = [17, 92, 18, 33, 58, 7, 33, 42]\n",
        "print(search_list(v, 18))   # 2(순서상 세 번째지만, 위치 번호는 2)\n",
        "print(search_list(v, 33))   # 3(33은 리스트에 두 번 나오지만 처음 나온 위치만 출력)\n",
        "print(search_list(v, 900))  # -1(900은 리스트에 없음)"
      ],
      "metadata": {
        "colab": {
          "base_uri": "https://localhost:8080/"
        },
        "id": "TRrgdevv-qDD",
        "outputId": "d21b7521-812b-4f39-9306-99d84d3ca55a"
      },
      "execution_count": 31,
      "outputs": [
        {
          "output_type": "stream",
          "name": "stdout",
          "text": [
            "2\n",
            "3\n",
            "-1\n"
          ]
        }
      ]
    },
    {
      "cell_type": "markdown",
      "source": [
        "31 페이지"
      ],
      "metadata": {
        "id": "HG1gTz27OAm4"
      }
    },
    {
      "cell_type": "code",
      "source": [
        "def binary_search(arr, value):\n",
        "    first, last = 0, len(arr)\n",
        "\n",
        "    while first <= last:\n",
        "        mid = (first + last) // 2\n",
        "        # print('mid:', mid, ', valuie:', value)\n",
        "        if arr[mid] == value:\n",
        "            return mid\n",
        "        if arr[mid] > value:\n",
        "            last = mid - 1\n",
        "        else:\n",
        "            first = mid + 1\n",
        "        "
      ],
      "metadata": {
        "id": "YopWqoslOCzv"
      },
      "execution_count": 38,
      "outputs": []
    },
    {
      "cell_type": "code",
      "source": [
        "arr = [1, 2, 3, 4, 5, 6, 7, 8, 9, 10]\n",
        "result_index = binary_search(arr, 6)\n",
        "print(result_index, arr[result_index])"
      ],
      "metadata": {
        "colab": {
          "base_uri": "https://localhost:8080/"
        },
        "id": "DNLMF6lmOHyG",
        "outputId": "eaf307e1-630e-442f-a35e-36c7d12e08b5"
      },
      "execution_count": 39,
      "outputs": [
        {
          "output_type": "stream",
          "name": "stdout",
          "text": [
            "5 6\n"
          ]
        }
      ]
    },
    {
      "cell_type": "markdown",
      "source": [
        "38 페이지"
      ],
      "metadata": {
        "id": "3mbu7wBvO5g-"
      }
    },
    {
      "cell_type": "code",
      "source": [
        "def contains(bag, e) :\n",
        "    return e in bag\t\t\n",
        "\n",
        "def append(bag, e) :\n",
        "    # print('APPEND')\n",
        "    bag.append(e)\t\n",
        "\n",
        "def insert(bag, e) :\n",
        "    # print('INSERT')\n",
        "    bag.insert(0, e)\t\n",
        "\n",
        "def remove(bag, e) :\t\n",
        "    bag.remove(e)\t\t\n",
        "\n",
        "def count(bag):\t\t  \n",
        "    return len(bag)\t\t"
      ],
      "metadata": {
        "id": "SVeh2VRGP7wy"
      },
      "execution_count": 40,
      "outputs": []
    },
    {
      "cell_type": "code",
      "source": [
        "import time\t\t\t\n",
        "\n",
        "myBag = []\t\t\n",
        "\n",
        "start = time.time()\t\t\n",
        "\n",
        "for i in range(10000):\n",
        "    insert(myBag, '축구공')\t\n",
        "# ...\n",
        "end = time.time()\t\t\n",
        "print('insert :', end-start,' sec')\n",
        "\n",
        "myBag = []\n",
        "\n",
        "start = time.time()\t\t\n",
        "\n",
        "for i in range(10000):\n",
        "    append(myBag, '농구공')\t\n",
        "# ...\n",
        "end = time.time()\t\n",
        "print('append : ', end-start,' sec')"
      ],
      "metadata": {
        "colab": {
          "base_uri": "https://localhost:8080/"
        },
        "id": "Rmg4Q5--Pzkl",
        "outputId": "051042ed-1c7f-4b8a-aa94-ca1c554b05a5"
      },
      "execution_count": 41,
      "outputs": [
        {
          "output_type": "stream",
          "name": "stdout",
          "text": [
            "insert : 0.027437686920166016  sec\n",
            "append :  0.0018796920776367188  sec\n"
          ]
        }
      ]
    },
    {
      "cell_type": "markdown",
      "source": [
        "39 페이지"
      ],
      "metadata": {
        "id": "t90ImmwCQcV9"
      }
    },
    {
      "cell_type": "code",
      "source": [
        "count=0\n",
        "count2=0\n",
        "count3=0\n",
        "\n",
        "n=10\n",
        "sum = n*n\n",
        "\n",
        "for i in range(n):\n",
        "    sum += n\n",
        "    count2+=1\n",
        "\n",
        "for i in range(n):\n",
        "    for j in range(n):\n",
        "        sum += n\n",
        "        count3+=1\n",
        "\n",
        "print('count1: ', count, ',count2: ', count2, ',count3: ', count3)"
      ],
      "metadata": {
        "colab": {
          "base_uri": "https://localhost:8080/"
        },
        "id": "5T6O8bUSQenn",
        "outputId": "005231b6-704c-48fa-a495-d14f69f09d97"
      },
      "execution_count": 42,
      "outputs": [
        {
          "output_type": "stream",
          "name": "stdout",
          "text": [
            "count1:  0 ,count2:  10 ,count3:  100\n"
          ]
        }
      ]
    },
    {
      "cell_type": "markdown",
      "source": [
        "44 페이지"
      ],
      "metadata": {
        "id": "H8V8xz_LQohU"
      }
    },
    {
      "cell_type": "code",
      "source": [
        "def power_iter(x, n) : \t\t \n",
        "    result = 1.0\n",
        "    for i in range(n):\t\t\n",
        "        result = result * x\n",
        "    return result\n",
        "\n",
        "def power(x, n) :\n",
        "    if n == 0 : return 1\n",
        "    elif (n % 2) == 0 :\t\t\t      \n",
        "        return power(x*x, n//2)\t\t  \n",
        "    else :\n",
        "        return x * power(x*x, (n-1)//2)\n",
        "\n",
        "\n",
        "print(power(2,16))"
      ],
      "metadata": {
        "colab": {
          "base_uri": "https://localhost:8080/"
        },
        "id": "ArZZVI5hQsBV",
        "outputId": "af4512e0-11c0-4ebe-cc16-923a706cbdcb"
      },
      "execution_count": 43,
      "outputs": [
        {
          "output_type": "stream",
          "name": "stdout",
          "text": [
            "65536\n"
          ]
        }
      ]
    },
    {
      "cell_type": "markdown",
      "source": [
        "46 페이지"
      ],
      "metadata": {
        "id": "sKO0WX4LQ_4Z"
      }
    },
    {
      "cell_type": "markdown",
      "source": [
        "반복문"
      ],
      "metadata": {
        "id": "zpP5MibWjh1k"
      }
    },
    {
      "cell_type": "code",
      "source": [
        "def fib(n):\n",
        "    _curr, _next = 0, 1\n",
        "    for _ in range(n):\n",
        "        _curr, _next = _next, _curr + _next\n",
        "    return _curr\n",
        "\n",
        "fib(50)"
      ],
      "metadata": {
        "colab": {
          "base_uri": "https://localhost:8080/"
        },
        "id": "-C1w4D3RRBmF",
        "outputId": "7ef8690c-380a-46ca-a072-c566b883c435"
      },
      "execution_count": 44,
      "outputs": [
        {
          "output_type": "execute_result",
          "data": {
            "text/plain": [
              "12586269025"
            ]
          },
          "metadata": {},
          "execution_count": 44
        }
      ]
    },
    {
      "cell_type": "markdown",
      "source": [
        "재귀"
      ],
      "metadata": {
        "id": "f-5u_RjBjlcT"
      }
    },
    {
      "cell_type": "code",
      "source": [
        "def fib(n):\n",
        "    if n == 0:\n",
        "        return 0\n",
        "    elif n == 1 or n == 2:\n",
        "        return 1\n",
        "    else:\n",
        "        return fib(n - 1) + fib(n - 2)\n",
        "\n",
        "fib(30)"
      ],
      "metadata": {
        "colab": {
          "base_uri": "https://localhost:8080/"
        },
        "id": "lytVlTzXjmzS",
        "outputId": "d45cb9d0-d2fe-4103-9828-9e2c0f27611c"
      },
      "execution_count": 45,
      "outputs": [
        {
          "output_type": "execute_result",
          "data": {
            "text/plain": [
              "832040"
            ]
          },
          "metadata": {},
          "execution_count": 45
        }
      ]
    },
    {
      "cell_type": "markdown",
      "source": [
        "메모이제이션(Memoization)\n",
        "이전에 계산한 값을 저장해서 중복된 계산을 피하는 방법으로 성능을 대폭 향상"
      ],
      "metadata": {
        "id": "AO9ucAPRjsK8"
      }
    },
    {
      "cell_type": "code",
      "source": [
        "from functools import lru_cache\n",
        "\n",
        "\n",
        "@lru_cache(maxsize=None)\n",
        "def fib(n):\n",
        "    if n == 0:\n",
        "        return 0\n",
        "    elif n == 1 or n == 2:\n",
        "        return 1\n",
        "    else:\n",
        "        return fib(n - 1) + fib(n - 2)\n",
        "\n",
        "\n",
        "n = 50\n",
        "print('Fibonacci({}): {}'.format(n, fib(n)))"
      ],
      "metadata": {
        "colab": {
          "base_uri": "https://localhost:8080/"
        },
        "id": "gUDkQZexjuZN",
        "outputId": "51c87d50-10d2-40c9-cb56-1e6951b89739"
      },
      "execution_count": 46,
      "outputs": [
        {
          "output_type": "stream",
          "name": "stdout",
          "text": [
            "Fibonacci(50): 12586269025\n"
          ]
        }
      ]
    },
    {
      "cell_type": "markdown",
      "source": [
        "52 페이지"
      ],
      "metadata": {
        "id": "-rVoQ1zlRHp0"
      }
    },
    {
      "cell_type": "code",
      "source": [
        "def hanoi_tower(n, fr, tmp, to) :\t\t        \n",
        "\n",
        "    if (n == 1) :\t\t\t\t                \n",
        "        print(\"원판 1: %s --> %s\" % (fr, to))\t\n",
        "    else :\n",
        "        hanoi_tower(n - 1, fr, to, tmp)\t\t    \n",
        "        print(\"원판 %d: %s --> %s\" % (n,fr,to))\t\n",
        "        hanoi_tower(n - 1, tmp, fr, to)\t\t    \n",
        "\n",
        "hanoi_tower(4, 'A', 'B', 'C')\t"
      ],
      "metadata": {
        "colab": {
          "base_uri": "https://localhost:8080/"
        },
        "id": "JpfsIt8sRJhm",
        "outputId": "25bbc1dd-b53b-498b-e304-dfde290f59fe"
      },
      "execution_count": 47,
      "outputs": [
        {
          "output_type": "stream",
          "name": "stdout",
          "text": [
            "원판 1: A --> B\n",
            "원판 2: A --> C\n",
            "원판 1: B --> C\n",
            "원판 3: A --> B\n",
            "원판 1: C --> A\n",
            "원판 2: C --> B\n",
            "원판 1: A --> B\n",
            "원판 4: A --> C\n",
            "원판 1: B --> C\n",
            "원판 2: B --> A\n",
            "원판 1: C --> A\n",
            "원판 3: B --> C\n",
            "원판 1: A --> B\n",
            "원판 2: A --> C\n",
            "원판 1: B --> C\n"
          ]
        }
      ]
    },
    {
      "cell_type": "markdown",
      "source": [
        "# PART 2"
      ],
      "metadata": {
        "id": "lq7GgBSYn25_"
      }
    },
    {
      "cell_type": "markdown",
      "source": [
        "60 페이지"
      ],
      "metadata": {
        "id": "1EQEVO87oC6l"
      }
    },
    {
      "cell_type": "code",
      "source": [
        "class Node:\t\t\t\t                    \n",
        "    def __init__ (self, elem, link=None):\t\n",
        "        self.data = elem \t\t\t        \n",
        "        self.link = link"
      ],
      "metadata": {
        "id": "qr2dOaMWpJ7Q"
      },
      "execution_count": null,
      "outputs": []
    },
    {
      "cell_type": "code",
      "source": [
        "class LinkedList:\t\t\t\n",
        "    def __init__( self ):\t\t\t\n",
        "        self.head = None\t\t\t\n",
        "\n",
        "    def isEmpty( self ): return self.head == None\t\n",
        "    def clear( self ) : self.head = None\t\t    \n",
        "\n",
        "    def size( self ):\t\t\t\n",
        "        node = self.head\t\t\n",
        "        count = 0\n",
        "        while not node == None :\n",
        "            node = node.link\t\n",
        "            count += 1\t\t\t\n",
        "        return count\t\t\t\n",
        "\n",
        "    def display( self, msg='LinkedList:'): \n",
        "        print(msg, end='')\t\t        \n",
        "        node = self.head\t\t\t    \n",
        "        while not node == None :\t\t\n",
        "            print(node.data, end=' ')\t\n",
        "            node = node.link\t\t    \n",
        "        print()\n",
        "\n",
        "    def getNode(self, pos) :\t\t     \n",
        "        if pos < 0 : return None\n",
        "        node = self.head;\t\t\t     \n",
        "        while pos > 0 and node != None :\n",
        "            node = node.link\t\t     \n",
        "            pos -= 1\t\t\t         \n",
        "        return node\t\n",
        "\n",
        "    def getEntry(self, pos) :\t\t    \n",
        "        node = self.getNode(pos)\t\t\n",
        "        if node == None : return None\t\n",
        "        else : return node.data\t\t    \n",
        "\n",
        "    def replace(self, pos, elem) :\t    \n",
        "        node = self.getNode(pos)\t\t\n",
        "        if node != None: node.data = elem\t\n",
        "\n",
        "    def find(self, data) :\t\t    \n",
        "        node = self.head;\n",
        "        while node is not None:\t\t\n",
        "            if node.data == data : return node\t\n",
        "            node = node.link\n",
        "        return node\t\t\t\n",
        "\n",
        "    def insert(self, pos, elem) :\n",
        "        before = self.getNode(pos-1)\t\t    \n",
        "        if before == None :         \t\t    \n",
        "            self.head = Node(elem, self.head)\t\n",
        "        else :\t\t\t\t\t                \n",
        "            node = Node(elem, before.link)\t\t\n",
        "            before.link = node\t\t\n",
        "\n",
        "\n",
        "    def delete(self, pos) :\n",
        "        before = self.getNode(pos-1)\t\t\n",
        "        if before == None :         \t\t\n",
        "            if self.head is not None :\t\t\n",
        "                self.head = self.head.link\t\n",
        "        elif before.link != None :\t\t    \n",
        "            before.link = before.link.link\t\n",
        "  "
      ],
      "metadata": {
        "id": "s5-yrku8oCNU"
      },
      "execution_count": null,
      "outputs": []
    },
    {
      "cell_type": "code",
      "source": [
        "s = LinkedList()\n",
        "s.display('단순연결리스트로 구현한 리스트(초기상태):')\n",
        "s.insert(0, 10)\t\n",
        "s.insert(0, 20)     \n",
        "s.insert(1, 30)\n",
        "s.insert(s.size(), 40);\ts.insert(2, 50)\n",
        "s.display(\"단순연결리스트로 구현한 리스트(삽입x5): \")\n",
        "s.replace(2, 90)\n",
        "s.display(\"단순연결리스트로 구현한 리스트(교체x1): \")\n",
        "s.delete(2);\ts.delete(s.size() - 1);\ts.delete(0)\n",
        "s.display(\"단순연결리스트로 구현한 리스트(삭제x3): \")\n",
        "s.clear()\n",
        "s.display(\"단순연결리스트로 구현한 리스트(정리후): \")"
      ],
      "metadata": {
        "colab": {
          "base_uri": "https://localhost:8080/"
        },
        "id": "RHjGxrcRozoK",
        "outputId": "0ae6f597-d7ca-4d82-d57e-22a6bafcd8f0"
      },
      "execution_count": null,
      "outputs": [
        {
          "output_type": "stream",
          "name": "stdout",
          "text": [
            "단순연결리스트로 구현한 리스트(초기상태):\n",
            "단순연결리스트로 구현한 리스트(삽입x5): 20 30 50 10 40 \n",
            "단순연결리스트로 구현한 리스트(교체x1): 20 30 90 10 40 \n",
            "단순연결리스트로 구현한 리스트(삭제x3): 30 10 \n",
            "단순연결리스트로 구현한 리스트(정리후): \n"
          ]
        }
      ]
    },
    {
      "cell_type": "markdown",
      "source": [
        "70 페이지"
      ],
      "metadata": {
        "id": "SW4JcbNcp11M"
      }
    },
    {
      "cell_type": "code",
      "source": [
        "top=[]\n",
        "\n",
        "def isEmpty( ): return top == None\n",
        "def clear(  ): top = None\t\t    \n",
        "def push( item ):\t                \t\n",
        "  \ttop.append(item)\n",
        "\n",
        "def pop(  ):\t\t\t\n",
        "    if not isEmpty():\t\n",
        "        return top.pop(-1)\t\t\n",
        "\n",
        "def peek(  ):\t\t\t\n",
        "    if not isEmpty():\t\n",
        "        return top[-1]\n",
        "\n",
        "\n",
        "def size(  ):\t\t\t\n",
        "    return len(top)\t\t\t\n",
        "\t\n",
        "def clear():\n",
        "    global top\n",
        "    top = []\n",
        "\n",
        "for i in range(1,6):\n",
        "  push(i)\n",
        "\n",
        "print('push 5회: ', top)\n",
        "print('pop())--> ', pop())\n",
        "print('pop())--> ', pop())\n",
        "print('pop 2회: ', top)"
      ],
      "metadata": {
        "colab": {
          "base_uri": "https://localhost:8080/"
        },
        "id": "GZUPHeMup6kt",
        "outputId": "88d74934-db2a-4323-e4c6-e91f0388e8e9"
      },
      "execution_count": null,
      "outputs": [
        {
          "output_type": "stream",
          "name": "stdout",
          "text": [
            "push 5회:  [1, 2, 3, 4, 5]\n",
            "pop())-->  5\n",
            "pop())-->  4\n",
            "pop 2회:  [1, 2, 3]\n"
          ]
        }
      ]
    }
  ]
}