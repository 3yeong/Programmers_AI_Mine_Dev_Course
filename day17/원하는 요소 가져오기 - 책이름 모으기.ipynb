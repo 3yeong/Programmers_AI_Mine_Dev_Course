{
 "cells": [
  {
   "cell_type": "code",
   "execution_count": 1,
   "id": "410e0a12",
   "metadata": {},
   "outputs": [],
   "source": [
    "#스크래핑에 필요한 라이브러리 불러오기\n",
    "\n",
    "import requests\n",
    "from bs4 import BeautifulSoup"
   ]
  },
  {
   "cell_type": "code",
   "execution_count": 2,
   "id": "6ef0de24",
   "metadata": {},
   "outputs": [],
   "source": [
    "# 예시 사이트에 요청을 진행하고, 응답을 바탕으로 BeautifulSoup 객체 만들기\n",
    "\n",
    "res = requests.get(\"http://books.toscrape.com/catalogue/category/books/travel_2/index.html\")\n",
    "\n",
    "soup = BeautifulSoup(res.text, \"html.parser\")"
   ]
  },
  {
   "cell_type": "code",
   "execution_count": 8,
   "id": "2ff35bfe",
   "metadata": {},
   "outputs": [],
   "source": [
    "# <h3> 태그에 해당하는 요소를 하나 찾기\n",
    "\n",
    "book = soup.find(\"h3\") #객체"
   ]
  },
  {
   "cell_type": "code",
   "execution_count": 9,
   "id": "06903ba3",
   "metadata": {},
   "outputs": [
    {
     "data": {
      "text/plain": [
       "<h3><a href=\"../../../its-only-the-himalayas_981/index.html\" title=\"It's Only the Himalayas\">It's Only the Himalayas</a></h3>"
      ]
     },
     "execution_count": 9,
     "metadata": {},
     "output_type": "execute_result"
    }
   ],
   "source": [
    "# <h3> 태그에 해당하는 요소 모두 찾기\n",
    "\n",
    "h3_results = soup.find_all(\"h3\")\n",
    "\n",
    "h3_results[0]"
   ]
  },
  {
   "cell_type": "code",
   "execution_count": 15,
   "id": "cd7fd2b9",
   "metadata": {},
   "outputs": [
    {
     "name": "stdout",
     "output_type": "stream",
     "text": [
      "It's Only the Himalayas\n",
      "Full Moon over Noahâs Ark: An Odyssey to Mount Ararat and Beyond\n",
      "See America: A Celebration of Our National Parks & Treasured Sites\n",
      "Vagabonding: An Uncommon Guide to the Art of Long-Term World Travel\n",
      "Under the Tuscan Sun\n",
      "A Summer In Europe\n",
      "The Great Railway Bazaar\n",
      "A Year in Provence (Provence #1)\n",
      "The Road to Little Dribbling: Adventures of an American in Britain (Notes From a Small Island #2)\n",
      "Neither Here nor There: Travels in Europe\n",
      "1,000 Places to See Before You Die\n"
     ]
    }
   ],
   "source": [
    "# book_list에서 원하는 제목(title)만 추출\n",
    "\n",
    "for book in h3_results:\n",
    "    print(book.a[\"title\"])"
   ]
  },
  {
   "cell_type": "code",
   "execution_count": null,
   "id": "07cc4d58",
   "metadata": {},
   "outputs": [],
   "source": []
  },
  {
   "cell_type": "code",
   "execution_count": null,
   "id": "968b8157",
   "metadata": {},
   "outputs": [],
   "source": []
  }
 ],
 "metadata": {
  "kernelspec": {
   "display_name": "Python 3 (ipykernel)",
   "language": "python",
   "name": "python3"
  },
  "language_info": {
   "codemirror_mode": {
    "name": "ipython",
    "version": 3
   },
   "file_extension": ".py",
   "mimetype": "text/x-python",
   "name": "python",
   "nbconvert_exporter": "python",
   "pygments_lexer": "ipython3",
   "version": "3.9.12"
  }
 },
 "nbformat": 4,
 "nbformat_minor": 5
}
