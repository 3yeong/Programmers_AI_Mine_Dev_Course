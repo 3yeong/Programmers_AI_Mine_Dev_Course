{
 "cells": [
  {
   "cell_type": "code",
   "execution_count": 2,
   "id": "5afd6901",
   "metadata": {},
   "outputs": [],
   "source": [
    "import numpy as np"
   ]
  },
  {
   "cell_type": "code",
   "execution_count": 7,
   "id": "2acb761c",
   "metadata": {},
   "outputs": [
    {
     "name": "stdout",
     "output_type": "stream",
     "text": [
      "더하기 :  [6 7 8]\n",
      "빼기 :  [-4 -3 -2]\n",
      "곱하기 :  [ 5 10 15]\n",
      "나누기 :  [0.2 0.4 0.6]\n"
     ]
    }
   ],
   "source": [
    "##벡터와 스칼라\n",
    "x = np.array([1,2,3])\n",
    "c = 5\n",
    "\n",
    "print(\"더하기 :  {}\".format(x + c))\n",
    "print(\"빼기 :  {}\".format(x - c))\n",
    "print(\"곱하기 :  {}\".format(x * c))\n",
    "print(\"나누기 :  {}\".format(x / c))"
   ]
  },
  {
   "cell_type": "code",
   "execution_count": 8,
   "id": "850ab838",
   "metadata": {},
   "outputs": [
    {
     "name": "stdout",
     "output_type": "stream",
     "text": [
      "더하기 :  [ 3 12 25]\n",
      "빼기 :  [ -1  -6 -15]\n",
      "곱하기 :  [  2  27 100]\n",
      "나누기 :  [0.5        0.33333333 0.25      ]\n"
     ]
    }
   ],
   "source": [
    "##벡터와 벡터\n",
    "y = np.array([1,3,5])\n",
    "z = np.array([2,9,20])\n",
    "\n",
    "print(\"더하기 :  {}\".format(y + z))\n",
    "print(\"빼기 :  {}\".format(y - z))\n",
    "print(\"곱하기 :  {}\".format(y * z))\n",
    "print(\"나누기 :  {}\".format(y / z))"
   ]
  },
  {
   "cell_type": "code",
   "execution_count": 10,
   "id": "7a4e37df",
   "metadata": {},
   "outputs": [
    {
     "name": "stdout",
     "output_type": "stream",
     "text": [
      "[[ 1  2  3  4]\n",
      " [ 5  6  7  8]\n",
      " [ 9 10 11 12]]\n"
     ]
    }
   ],
   "source": [
    "##Array Indexing\n",
    "W = np.array([[1,2,3,4,],[5,6,7,8,],[9,10,11,12]])\n",
    "print(W)"
   ]
  },
  {
   "cell_type": "code",
   "execution_count": 14,
   "id": "a3a51911",
   "metadata": {},
   "outputs": [
    {
     "data": {
      "text/plain": [
       "array([[1, 2, 3, 4],\n",
       "       [5, 6, 7, 8]])"
      ]
     },
     "execution_count": 14,
     "metadata": {},
     "output_type": "execute_result"
    }
   ],
   "source": [
    "##Array Slicing\n",
    "\n",
    "W = np.array([[1,2,3,4,],[5,6,7,8,],[9,10,11,12]])\n",
    "W [0:2,  0:4]"
   ]
  },
  {
   "cell_type": "code",
   "execution_count": 6,
   "id": "74396387",
   "metadata": {},
   "outputs": [
    {
     "name": "stdout",
     "output_type": "stream",
     "text": [
      "[[1 2 3]\n",
      " [5 6 7]\n",
      " [7 8 9]]\n"
     ]
    }
   ],
   "source": [
    "##Array의 Broadcasting\n",
    "\n",
    "a = np.array([[1,2,3],[4,5,6],[7,8,9]])\n",
    "x = np.array([0,1,0])\n",
    "\n",
    "x = x[:,None]\n",
    "print(a+x)"
   ]
  },
  {
   "cell_type": "code",
   "execution_count": 7,
   "id": "15115297",
   "metadata": {},
   "outputs": [
    {
     "name": "stdout",
     "output_type": "stream",
     "text": [
      "[array([[ 0,  2, -3],\n",
      "       [ 0,  5, -6],\n",
      "       [ 0,  8, -9]])]\n"
     ]
    }
   ],
   "source": [
    "y = np.array([0,1,-1])\n",
    "\n",
    "print([a*y])"
   ]
  },
  {
   "cell_type": "code",
   "execution_count": 9,
   "id": "3174f2f3",
   "metadata": {},
   "outputs": [
    {
     "name": "stdout",
     "output_type": "stream",
     "text": [
      "[[ 3  1 -1]\n",
      " [ 4  2  0]\n",
      " [ 5  3  1]]\n"
     ]
    }
   ],
   "source": [
    "t = np.array([1,2,3])\n",
    "t = t[:, None]\n",
    "u = np.array([2,0,-2])\n",
    "\n",
    "print(t + u)"
   ]
  },
  {
   "cell_type": "code",
   "execution_count": 14,
   "id": "645b9351",
   "metadata": {},
   "outputs": [
    {
     "data": {
      "text/plain": [
       "array([[0],\n",
       "       [1],\n",
       "       [0]])"
      ]
     },
     "execution_count": 14,
     "metadata": {},
     "output_type": "execute_result"
    }
   ],
   "source": []
  },
  {
   "cell_type": "code",
   "execution_count": null,
   "id": "23039333",
   "metadata": {},
   "outputs": [],
   "source": []
  }
 ],
 "metadata": {
  "kernelspec": {
   "display_name": "Python 3 (ipykernel)",
   "language": "python",
   "name": "python3"
  },
  "language_info": {
   "codemirror_mode": {
    "name": "ipython",
    "version": 3
   },
   "file_extension": ".py",
   "mimetype": "text/x-python",
   "name": "python",
   "nbconvert_exporter": "python",
   "pygments_lexer": "ipython3",
   "version": "3.9.12"
  }
 },
 "nbformat": 4,
 "nbformat_minor": 5
}
