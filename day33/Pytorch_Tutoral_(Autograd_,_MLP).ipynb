{
  "nbformat": 4,
  "nbformat_minor": 0,
  "metadata": {
    "colab": {
      "name": "Pytorch Tutoral (Autograd , MLP).ipynb",
      "provenance": [],
      "collapsed_sections": []
    },
    "kernelspec": {
      "name": "python3",
      "display_name": "Python 3"
    },
    "accelerator": "GPU",
    "gpuClass": "standard"
  },
  "cells": [
    {
      "cell_type": "markdown",
      "metadata": {
        "id": "q_lGKmGGqnTa"
      },
      "source": [
        "# Pytorch Tutoral - Autograd & MLP(Multi-layer perceptron)"
      ]
    },
    {
      "cell_type": "markdown",
      "metadata": {
        "id": "4WO0S9d_uHX6"
      },
      "source": [
        "# Autograd\n",
        "\n",
        "- `autograd`패키지는 텐서의 모든 연산에 대한 자동 미분을 제공\n",
        "- 실행-기반-정의(define-by-run) 프레임워크로, 코드를 어떻게 작성하여 실행하느냐에 따라 역전파가 정의된다는 것을 의미\n",
        "- 역전파는 학습 과정의 매 단계마다 달라짐\n"
      ]
    },
    {
      "cell_type": "markdown",
      "metadata": {
        "id": "SF17xKuauw9r"
      },
      "source": [
        "## Tensor\n",
        "\n",
        "- `torch.Tensor` 클래스의 `.requires_grad` 속성을 `True`로 설정하면, 해당 텐서에서 이루어진 모든 연산을 추적(track)하기 시작\n",
        "- 계산이 완료된 후 `.backward()`를 호출하여 모든 변화도(gradient)를 자동으로 계산할 수 있으며 이 Tensor의 변화도는 `.grad` 속성에 누적됨\n",
        "- Tensor가 기록을 추적하는 것을 중단하게 하려면, `.detach()`를 호출하여 연산기록으로부터 분리하여 연산이 추적되는 것을 방지할 수 있음\n",
        "- 기록을 추적하는 것(과 메모리를 사용하는 것)을 방지하기 위해서 코드 블럭을 `with torch.no_grad():`로 감쌀 수 있음\n",
        "- 이는 변화도(gradient)는 필요 없지만 `requires_grad=True`가 설정되어 학습 가능한 매개변수를 갖는 모델을 평가(evaluate)할 때 유용\n",
        "- Autograd 구현에서 `Function` 클래스는 매우 중요한 역할을 수행\n",
        "- `Tensor`와 `Function`은 서로 연결되어 있고 모든 연산 과정을 부호화하여 순환하지 않는 그래프를 생성\n",
        "- 각 tensor는 `.grad_fn` 속성을 가지고 있는데 이는 `Tensor`를 생성한 `Function`을 참조함(단, 사용자가 만든 Tensor는 예외이며, 사용자가 만든 Tensor가 아닌 연산에 의해 생긴 텐서와 같은 경우는 모두 `Function`을 참조)\n",
        "- 도함수를 계산하기 위해서는 `Tensor`의 `.backward()`를 호출하면 됨"
      ]
    },
    {
      "cell_type": "code",
      "metadata": {
        "id": "gTKjPjHGtsW1",
        "colab": {
          "base_uri": "https://localhost:8080/"
        },
        "outputId": "c12da56b-a26b-4f64-f0b8-913a5bbfd3b5"
      },
      "source": [
        "import torch\n",
        "\n",
        "print(torch.__version__)"
      ],
      "execution_count": null,
      "outputs": [
        {
          "output_type": "stream",
          "name": "stdout",
          "text": [
            "1.12.1+cu113\n"
          ]
        }
      ]
    },
    {
      "cell_type": "code",
      "metadata": {
        "colab": {
          "base_uri": "https://localhost:8080/"
        },
        "id": "Fvs-s2KpPp-h",
        "outputId": "8dba6ce7-ebeb-4007-c032-15ce71d23cb4"
      },
      "source": [
        "# x의 연산 과적을 추적하기 위해 requires_grad=True로 설정\n",
        "x = torch.ones(2, 2, requires_grad=True)\n",
        "print(x)\n",
        "\n",
        "# 직접 생선한 Tensor이기 때문에 grad_fn이 None인 것을 확인할 수 있음\n",
        "print(x.grad_fn)"
      ],
      "execution_count": null,
      "outputs": [
        {
          "output_type": "stream",
          "name": "stdout",
          "text": [
            "tensor([[1., 1.],\n",
            "        [1., 1.]], requires_grad=True)\n",
            "None\n"
          ]
        }
      ]
    },
    {
      "cell_type": "code",
      "metadata": {
        "colab": {
          "base_uri": "https://localhost:8080/"
        },
        "id": "jaqxHcfkPvQP",
        "outputId": "2c375790-6438-4105-a400-ba37fe9c1609"
      },
      "source": [
        "# y는 연산의 결과로 생성된 것이기 때문에 grad_fn을 갖고 있는 것을 확인 가능\n",
        "y = x + 2\n",
        "print(y)"
      ],
      "execution_count": null,
      "outputs": [
        {
          "output_type": "stream",
          "name": "stdout",
          "text": [
            "tensor([[3., 3.],\n",
            "        [3., 3.]], grad_fn=<AddBackward0>)\n"
          ]
        }
      ]
    },
    {
      "cell_type": "code",
      "metadata": {
        "colab": {
          "base_uri": "https://localhost:8080/"
        },
        "id": "lw-YLFNBQoqa",
        "outputId": "67cb8571-f9cd-40de-fed7-b6a5cfff54e3"
      },
      "source": [
        "# 연산의 결과로 생성된 것이기 때문에 grad_fn을 갖는 것을 확인 가능\n",
        "print(y.grad_fn)"
      ],
      "execution_count": null,
      "outputs": [
        {
          "output_type": "stream",
          "name": "stdout",
          "text": [
            "<AddBackward0 object at 0x7fbda8c28590>\n"
          ]
        }
      ]
    },
    {
      "cell_type": "code",
      "metadata": {
        "colab": {
          "base_uri": "https://localhost:8080/"
        },
        "id": "Im5ImouqdyZd",
        "outputId": "4d6ca502-a328-4859-f580-a2380f0fdc53"
      },
      "source": [
        "z = y * y * 3\n",
        "out = z.mean()\n",
        "\n",
        "# 각각 사용한 func에 맞게 grad_fn이 생성된 것을 확인할 수 있음\n",
        "print(z)\n",
        "print(out)"
      ],
      "execution_count": null,
      "outputs": [
        {
          "output_type": "stream",
          "name": "stdout",
          "text": [
            "tensor([[27., 27.],\n",
            "        [27., 27.]], grad_fn=<MulBackward0>)\n",
            "tensor(27., grad_fn=<MeanBackward0>)\n"
          ]
        }
      ]
    },
    {
      "cell_type": "markdown",
      "metadata": {
        "id": "TF5JzkVjemZl"
      },
      "source": [
        "- `requires_grad_()`를 사용하면 기존 Tensor의 `requires_grad` 값을 바꿀 수 있음\n",
        "- 입력 값이 지정되지 않으면 기본 값은 `False`"
      ]
    },
    {
      "cell_type": "code",
      "metadata": {
        "id": "0NJ9HewEd_3_",
        "colab": {
          "base_uri": "https://localhost:8080/"
        },
        "outputId": "207a9763-2ca3-44ee-807a-fe12d8111b84"
      },
      "source": [
        "a = torch.randn(2, 2)\n",
        "print(a)"
      ],
      "execution_count": null,
      "outputs": [
        {
          "output_type": "stream",
          "name": "stdout",
          "text": [
            "tensor([[ 0.3018,  0.0148],\n",
            "        [ 0.6419, -0.3544]])\n"
          ]
        }
      ]
    },
    {
      "cell_type": "code",
      "metadata": {
        "colab": {
          "base_uri": "https://localhost:8080/"
        },
        "id": "pcnqPfCaezpt",
        "outputId": "22e9da77-3790-4db0-d10c-d05ea6c2f3d2"
      },
      "source": [
        "a = ((a * 3) / (a - 1))\n",
        "print(a)\n",
        "print(a.requires_grad)"
      ],
      "execution_count": null,
      "outputs": [
        {
          "output_type": "stream",
          "name": "stdout",
          "text": [
            "tensor([[-1.2968, -0.0450],\n",
            "        [-5.3774,  0.7851]])\n",
            "False\n"
          ]
        }
      ]
    },
    {
      "cell_type": "code",
      "metadata": {
        "colab": {
          "base_uri": "https://localhost:8080/"
        },
        "id": "ItC00jyde5_2",
        "outputId": "3996b539-5919-4df5-e526-6a5aa69f1db0"
      },
      "source": [
        "a.requires_grad_(True)"
      ],
      "execution_count": null,
      "outputs": [
        {
          "output_type": "execute_result",
          "data": {
            "text/plain": [
              "tensor([[-1.2968, -0.0450],\n",
              "        [-5.3774,  0.7851]], requires_grad=True)"
            ]
          },
          "metadata": {},
          "execution_count": 8
        }
      ]
    },
    {
      "cell_type": "code",
      "metadata": {
        "colab": {
          "base_uri": "https://localhost:8080/"
        },
        "id": "mnzFfYAOe7p_",
        "outputId": "b73a27a8-0f24-41cb-f42b-9eda18c3c503"
      },
      "source": [
        "print(a.requires_grad)"
      ],
      "execution_count": null,
      "outputs": [
        {
          "output_type": "stream",
          "name": "stdout",
          "text": [
            "True\n"
          ]
        }
      ]
    },
    {
      "cell_type": "code",
      "metadata": {
        "colab": {
          "base_uri": "https://localhost:8080/"
        },
        "id": "fzRsVdI6e9G_",
        "outputId": "9ecb28c7-7eb4-407c-909a-981d09658454"
      },
      "source": [
        "b = (a * a).sum()\n",
        "print(b)\n",
        "print(b.requires_grad)"
      ],
      "execution_count": null,
      "outputs": [
        {
          "output_type": "stream",
          "name": "stdout",
          "text": [
            "tensor(31.2167, grad_fn=<SumBackward0>)\n",
            "True\n"
          ]
        }
      ]
    },
    {
      "cell_type": "markdown",
      "metadata": {
        "id": "PvvApXb8fEwT"
      },
      "source": [
        "## 변화도(Gradient)\n"
      ]
    },
    {
      "cell_type": "code",
      "metadata": {
        "colab": {
          "base_uri": "https://localhost:8080/",
          "height": 418
        },
        "id": "IKQFqb7re_wB",
        "outputId": "7865b4bf-b121-4b23-c98a-9d1d507b3088"
      },
      "source": [
        "print(out)\n",
        "\n",
        "# 이전에 만든 out을 사용해서 역전파 진행\n",
        "# 여러번 역전파를 하기위해서는 retain_graph=True로 지정\n",
        "out.backward(retain_graph=True)\n",
        "# out.backward(torch.tensor(1.))을 진행하는 것과 동일"
      ],
      "execution_count": null,
      "outputs": [
        {
          "output_type": "stream",
          "name": "stdout",
          "text": [
            "tensor(27., grad_fn=<MeanBackward0>)\n"
          ]
        },
        {
          "output_type": "error",
          "ename": "RuntimeError",
          "evalue": "ignored",
          "traceback": [
            "\u001b[0;31m---------------------------------------------------------------------------\u001b[0m",
            "\u001b[0;31mRuntimeError\u001b[0m                              Traceback (most recent call last)",
            "\u001b[0;32m<ipython-input-20-39d70bb07b89>\u001b[0m in \u001b[0;36m<module>\u001b[0;34m\u001b[0m\n\u001b[1;32m      3\u001b[0m \u001b[0;31m# 이전에 만든 out을 사용해서 역전파 진행\u001b[0m\u001b[0;34m\u001b[0m\u001b[0;34m\u001b[0m\u001b[0;34m\u001b[0m\u001b[0m\n\u001b[1;32m      4\u001b[0m \u001b[0;31m# 여러번 역전파를 하기위해서는 retain_graph=True로 지정\u001b[0m\u001b[0;34m\u001b[0m\u001b[0;34m\u001b[0m\u001b[0;34m\u001b[0m\u001b[0m\n\u001b[0;32m----> 5\u001b[0;31m \u001b[0mout\u001b[0m\u001b[0;34m.\u001b[0m\u001b[0mbackward\u001b[0m\u001b[0;34m(\u001b[0m\u001b[0mretain_graph\u001b[0m\u001b[0;34m=\u001b[0m\u001b[0;32mTrue\u001b[0m\u001b[0;34m)\u001b[0m\u001b[0;34m\u001b[0m\u001b[0;34m\u001b[0m\u001b[0m\n\u001b[0m\u001b[1;32m      6\u001b[0m \u001b[0;31m# out.backward(torch.tensor(1.))을 진행하는 것과 동일\u001b[0m\u001b[0;34m\u001b[0m\u001b[0;34m\u001b[0m\u001b[0;34m\u001b[0m\u001b[0m\n",
            "\u001b[0;32m/usr/local/lib/python3.7/dist-packages/torch/_tensor.py\u001b[0m in \u001b[0;36mbackward\u001b[0;34m(self, gradient, retain_graph, create_graph, inputs)\u001b[0m\n\u001b[1;32m    394\u001b[0m                 \u001b[0mcreate_graph\u001b[0m\u001b[0;34m=\u001b[0m\u001b[0mcreate_graph\u001b[0m\u001b[0;34m,\u001b[0m\u001b[0;34m\u001b[0m\u001b[0;34m\u001b[0m\u001b[0m\n\u001b[1;32m    395\u001b[0m                 inputs=inputs)\n\u001b[0;32m--> 396\u001b[0;31m         \u001b[0mtorch\u001b[0m\u001b[0;34m.\u001b[0m\u001b[0mautograd\u001b[0m\u001b[0;34m.\u001b[0m\u001b[0mbackward\u001b[0m\u001b[0;34m(\u001b[0m\u001b[0mself\u001b[0m\u001b[0;34m,\u001b[0m \u001b[0mgradient\u001b[0m\u001b[0;34m,\u001b[0m \u001b[0mretain_graph\u001b[0m\u001b[0;34m,\u001b[0m \u001b[0mcreate_graph\u001b[0m\u001b[0;34m,\u001b[0m \u001b[0minputs\u001b[0m\u001b[0;34m=\u001b[0m\u001b[0minputs\u001b[0m\u001b[0;34m)\u001b[0m\u001b[0;34m\u001b[0m\u001b[0;34m\u001b[0m\u001b[0m\n\u001b[0m\u001b[1;32m    397\u001b[0m \u001b[0;34m\u001b[0m\u001b[0m\n\u001b[1;32m    398\u001b[0m     \u001b[0;32mdef\u001b[0m \u001b[0mregister_hook\u001b[0m\u001b[0;34m(\u001b[0m\u001b[0mself\u001b[0m\u001b[0;34m,\u001b[0m \u001b[0mhook\u001b[0m\u001b[0;34m)\u001b[0m\u001b[0;34m:\u001b[0m\u001b[0;34m\u001b[0m\u001b[0;34m\u001b[0m\u001b[0m\n",
            "\u001b[0;32m/usr/local/lib/python3.7/dist-packages/torch/autograd/__init__.py\u001b[0m in \u001b[0;36mbackward\u001b[0;34m(tensors, grad_tensors, retain_graph, create_graph, grad_variables, inputs)\u001b[0m\n\u001b[1;32m    173\u001b[0m     Variable._execution_engine.run_backward(  # Calls into the C++ engine to run the backward pass\n\u001b[1;32m    174\u001b[0m         \u001b[0mtensors\u001b[0m\u001b[0;34m,\u001b[0m \u001b[0mgrad_tensors_\u001b[0m\u001b[0;34m,\u001b[0m \u001b[0mretain_graph\u001b[0m\u001b[0;34m,\u001b[0m \u001b[0mcreate_graph\u001b[0m\u001b[0;34m,\u001b[0m \u001b[0minputs\u001b[0m\u001b[0;34m,\u001b[0m\u001b[0;34m\u001b[0m\u001b[0;34m\u001b[0m\u001b[0m\n\u001b[0;32m--> 175\u001b[0;31m         allow_unreachable=True, accumulate_grad=True)  # Calls into the C++ engine to run the backward pass\n\u001b[0m\u001b[1;32m    176\u001b[0m \u001b[0;34m\u001b[0m\u001b[0m\n\u001b[1;32m    177\u001b[0m def grad(\n",
            "\u001b[0;31mRuntimeError\u001b[0m: Trying to backward through the graph a second time (or directly access saved tensors after they have already been freed). Saved intermediate values of the graph are freed when you call .backward() or autograd.grad(). Specify retain_graph=True if you need to backward through the graph a second time or if you need to access saved tensors after calling backward."
          ]
        }
      ]
    },
    {
      "cell_type": "code",
      "metadata": {
        "colab": {
          "base_uri": "https://localhost:8080/"
        },
        "id": "O214sRSHfTYO",
        "outputId": "0222e34f-56c6-41d5-c3bc-1f00a0874c81"
      },
      "source": [
        "# 역전파를 진행한 후의 x값\n",
        "# d(out) / dx \n",
        "print(x.grad)\n",
        "print(y.grad)\n",
        "print(z.is_leaf)"
      ],
      "execution_count": null,
      "outputs": [
        {
          "output_type": "stream",
          "name": "stdout",
          "text": [
            "tensor([[4.5000, 4.5000],\n",
            "        [4.5000, 4.5000]])\n",
            "tensor([[4.5000, 4.5000],\n",
            "        [4.5000, 4.5000]])\n",
            "False\n"
          ]
        }
      ]
    },
    {
      "cell_type": "markdown",
      "metadata": {
        "id": "aEfWBA_IhY6V"
      },
      "source": [
        "$$ out = \\frac{1}{4} \\sum_{i} z_i $$\n",
        "$$ z_i = 3(x_i + 2)^2 $$\n",
        "- `z_i`를 미분한 값에 적용하면 4.5를 동일하게 출력할 수 있음\n",
        "\n",
        "\n",
        "\n",
        "\n"
      ]
    },
    {
      "cell_type": "markdown",
      "metadata": {
        "id": "jYSGfXrMhU9S"
      },
      "source": [
        "out(미분결과) = 1/4 * 6 * (x + 2) = 3/2(x+2) "
      ]
    },
    {
      "cell_type": "markdown",
      "metadata": {
        "id": "o0XT_UAPj01j"
      },
      "source": [
        "\n",
        "\n",
        "---\n",
        "\n",
        "\n"
      ]
    },
    {
      "cell_type": "markdown",
      "metadata": {
        "id": "EUbsQZvyjPw6"
      },
      "source": [
        "- 일반적으로 `torch.autograd`는 벡터-야코비안 곱을 계산하는 엔진\n",
        "- `torch.autograd`를 사용하면 전체 야코비안을 직접 계산할 수는 없지만, 벡터-야코비안 곱은 `backward`에 해당 벡터를 인자로 제공하여 얻을 수 있음"
      ]
    },
    {
      "cell_type": "code",
      "metadata": {
        "colab": {
          "base_uri": "https://localhost:8080/"
        },
        "id": "6i9NlL6NhBxo",
        "outputId": "91d74b44-f2e2-4f54-b134-adbe03ad3603"
      },
      "source": [
        "x = torch.randn(3, requires_grad=True)\n",
        "\n",
        "y = x * 2\n",
        "\n",
        "while y.data.norm() < 1000:\n",
        "  y = y * 2\n",
        "\n",
        "print(y)"
      ],
      "execution_count": null,
      "outputs": [
        {
          "output_type": "stream",
          "name": "stdout",
          "text": [
            "tensor([ 310.2404,  540.6014, 1302.1823], grad_fn=<MulBackward0>)\n"
          ]
        }
      ]
    },
    {
      "cell_type": "code",
      "metadata": {
        "colab": {
          "base_uri": "https://localhost:8080/"
        },
        "id": "GQM3R2CAkEvw",
        "outputId": "92e4e900-9f3d-48ae-d8ac-9e333e5904a9"
      },
      "source": [
        "# scalar값이 아닌 y의 벡터-야코비안 곱을 구하는 과정\n",
        "v = torch.tensor([0.1, 1.0, 0.0001], dtype=torch.float)\n",
        "y.backward(v)\n",
        "\n",
        "print(x.grad)"
      ],
      "execution_count": null,
      "outputs": [
        {
          "output_type": "stream",
          "name": "stdout",
          "text": [
            "tensor([1.0240e+02, 1.0240e+03, 1.0240e-01])\n"
          ]
        }
      ]
    },
    {
      "cell_type": "markdown",
      "metadata": {
        "id": "HOpIFRDiknBR"
      },
      "source": [
        "- `with torch.no_grad()`로 코드 블록을 감싸서 `autograd`가 `.requires_grad=True`인 Tensor의 연산 기록을 추적하는 것을 멈출 수도 있음"
      ]
    },
    {
      "cell_type": "code",
      "metadata": {
        "colab": {
          "base_uri": "https://localhost:8080/"
        },
        "id": "pVcZI7_ykkBy",
        "outputId": "1ea5c266-b343-440d-cb9c-26ad89cad52b"
      },
      "source": [
        "print(x.requires_grad)\n",
        "print((x ** 2).requires_grad)\n",
        "\n",
        "with torch.no_grad():\n",
        "  print((x ** 2).requires_grad)"
      ],
      "execution_count": null,
      "outputs": [
        {
          "output_type": "stream",
          "name": "stdout",
          "text": [
            "True\n",
            "True\n",
            "False\n"
          ]
        }
      ]
    },
    {
      "cell_type": "markdown",
      "metadata": {
        "id": "64f5Z32tk5Kd"
      },
      "source": [
        "- 또는 `.detach()`를 호출하여 내용물은 같지만 `requires_grad`가 다른 새로운 텐서를 가져올 수 있음"
      ]
    },
    {
      "cell_type": "code",
      "metadata": {
        "colab": {
          "base_uri": "https://localhost:8080/"
        },
        "id": "kpct8uBPk3st",
        "outputId": "0c8695f3-eeeb-4611-ce46-dd78b2693d84"
      },
      "source": [
        "print(x.requires_grad)\n",
        "y = x.detach()\n",
        "print(y.requires_grad)\n",
        "print(x.eq(y).all())"
      ],
      "execution_count": null,
      "outputs": [
        {
          "output_type": "stream",
          "name": "stdout",
          "text": [
            "True\n",
            "False\n",
            "tensor(True)\n"
          ]
        }
      ]
    },
    {
      "cell_type": "markdown",
      "metadata": {
        "id": "kw0wgV63lLfa"
      },
      "source": [
        "# ANN(Artificial Neural Networks)\n",
        "\n",
        "- 신경망은 `torch.nn` 패키지를 사용하여 생성할 수 있음\n",
        "- `nn`은 모델을 정의하고 미분하기 위해서 위에서 살펴본 `autograd`를 사용\n",
        "- `nn.Module`은 계층(layer)과 `output`을 반환하는 `forward(input)` 메소드를 포함"
      ]
    },
    {
      "cell_type": "markdown",
      "metadata": {
        "id": "K1CPO19LwmAI"
      },
      "source": [
        "\n",
        "\n",
        "---\n",
        "\n"
      ]
    },
    {
      "cell_type": "markdown",
      "metadata": {
        "id": "UIVy4DXNmqEN"
      },
      "source": [
        "- 간단한 순전파 네트워크(feed-forward-network)\n",
        "- 입력을 받아 여러 계층에 차례로 전달한 후, 최종 출력을 제공\n",
        "- 신경망의 일반적인 학습 과정\n",
        "\n",
        "\n",
        "> - 학습 가능한 매개변수(가중치)를 갖는 신경망을 정의\n",
        "> - 데이터 셋 입력을 반복\n",
        "> - 입력을 신경망에서 전파(process)\n",
        "> - 손실(loss; 입력 값과 예측 값과의 차이)를 계산\n",
        "> - 변화도(gradient)를 신경망의 매개변수들에 역으로 전파 - 역전파 과정\n",
        "> - 신경망의 가중치를 갱신\n",
        "> > - `새로운 가중치(weight) = 가중치(weight) - 학습률(learning rate) * 변화도(gradient)`\n",
        "\n"
      ]
    },
    {
      "cell_type": "code",
      "metadata": {
        "id": "lSK4LCt5lGiJ"
      },
      "source": [
        "import pandas as pd\n",
        "\n",
        "from sklearn.datasets import load_iris\n",
        "\n",
        "import torch\n",
        "import torch.nn as nn\n",
        "from torch.utils.data import DataLoader, TensorDataset"
      ],
      "execution_count": null,
      "outputs": []
    },
    {
      "cell_type": "code",
      "metadata": {
        "id": "Q-G_wst4GaFd"
      },
      "source": [
        "class Net(nn.Module):\n",
        "\n",
        "    def __init__(self):\n",
        "        super(Net, self).__init__()\n",
        "\n",
        "        self.layer0 = nn.Linear(4, 128)\n",
        "        self.layer1 = nn.Linear(128, 64)\n",
        "        self.layer2 = nn.Linear(64, 32)\n",
        "        self.layer3 = nn.Linear(32, 16)\n",
        "        self.layer4 = nn.Linear(16, 3)\n",
        "\n",
        "        self.bn0 = nn.BatchNorm1d(128) # 정규화 하는 기능이 있음 - 학습을 조금 더 잘 할  수 있도록 도와줌\n",
        "        self.bn1 = nn.BatchNorm1d(64)\n",
        "        self.bn2 = nn.BatchNorm1d(32)\n",
        "\n",
        "        self.act = nn.ReLU()\n",
        "\n",
        "    def forward(self, x):\n",
        "      x = self.act(self.bn0(self.layer0(x)))\n",
        "      x = self.act(self.bn1(self.layer1(x)))\n",
        "      x = self.act(self.bn2(self.layer2(x)))\n",
        "      x = self.act(self.layer3(x))\n",
        "      x = self.layer4(x)\n",
        "\n",
        "      return x"
      ],
      "execution_count": null,
      "outputs": []
    },
    {
      "cell_type": "markdown",
      "metadata": {
        "id": "1iriyhtY-wZy"
      },
      "source": [
        "## 손실 함수(Loss Function)\n",
        "\n",
        "- 손실 함수는 (output, target)을 한 쌍으로 입력 받아, 출력이 정답으로부터 얼마나 떨어져있는지 추정하는 값을 계산\n"
      ]
    },
    {
      "cell_type": "markdown",
      "metadata": {
        "id": "OZ8bodFU5R0q"
      },
      "source": [
        "- `forward`함수만 정의하고 나면 `backward`함수는 `autograd`를 사용하여 자동으로 정의됨\n",
        "- 모델의 학습 가능한 매개 변수는 `net.parameters()`에 의해 변환됨"
      ]
    },
    {
      "cell_type": "code",
      "metadata": {
        "colab": {
          "base_uri": "https://localhost:8080/",
          "height": 164
        },
        "id": "RFQQ1Hd9-wDv",
        "outputId": "d13504c5-f44e-4133-cade-c674678305e7"
      },
      "source": [
        "# 랜덤 값 생성\n",
        "criterion = nn.CrossEntropyLoss() # 다중 분류 문제로 사용\n",
        "\n",
        "ex_X, ex_y = torch.randn([4, 4]), torch.tensor([1, 0, 2, 0])\n",
        "\n",
        "net = Net()\n",
        "output = net(ex_X)\n",
        "loss = criterion(output, ex_y)\n",
        "print('loss: ', loss.item())\n",
        "  \n",
        "net.zero_grad()\n",
        "\n",
        "print('layer0.bias.grad before backward')\n",
        "print(net.layer4.bias.grad)\n",
        "\n",
        "print(net.layer4.bias.is_leaf)\n",
        "\n",
        "loss.backward()\n",
        "\n",
        "print('layer0.bias.grad after backward')\n",
        "print(net.layer4.bias.grad)\n",
        "\n",
        "\"\"\"\n",
        "이 부분에서 .retain_grad() 를 사용하지 않아도 되는 이유는 weight와 bias의 파라미터가 leaf 노드이기 때문이라고 합니다.\n",
        "설명이 포함된 링크들을 아래에 첨부해두니 읽어보시면 좋을 것 같습니다 :)\n",
        "\n",
        "어떤 경우가 leaf 노드 인지 - https://discuss.pytorch.org/t/leaf-variable-was-used-in-an-inplace-operation/308/20\n",
        "왜 leaf 노드인 경우에는 retain_grad()를 하지 않아도 grad 값이 나오는지 - https://discuss.pytorch.org/t/what-is-the-purpose-of-is-leaf/87000/7\n",
        "\"\"\""
      ],
      "execution_count": null,
      "outputs": [
        {
          "output_type": "stream",
          "name": "stdout",
          "text": [
            "loss:  1.0475999116897583\n",
            "layer0.bias.grad before backward\n",
            "None\n",
            "True\n",
            "layer0.bias.grad after backward\n",
            "tensor([-0.0971,  0.0760,  0.0211])\n"
          ]
        },
        {
          "output_type": "execute_result",
          "data": {
            "text/plain": [
              "'\\n이 부분에서 .retain_grad() 를 사용하지 않아도 되는 이유는 weight와 bias의 파라미터가 leaf 노드이기 때문이라고 합니다.\\n설명이 포함된 링크들을 아래에 첨부해두니 읽어보시면 좋을 것 같습니다 :)\\n\\n어떤 경우가 leaf 노드 인지 - https://discuss.pytorch.org/t/leaf-variable-was-used-in-an-inplace-operation/308/20\\n왜 leaf 노드인 경우에는 retain_grad()를 하지 않아도 grad 값이 나오는지 - https://discuss.pytorch.org/t/what-is-the-purpose-of-is-leaf/87000/7\\n'"
            ],
            "application/vnd.google.colaboratory.intrinsic+json": {
              "type": "string"
            }
          },
          "metadata": {},
          "execution_count": 25
        }
      ]
    },
    {
      "cell_type": "code",
      "metadata": {
        "colab": {
          "base_uri": "https://localhost:8080/"
        },
        "id": "tJ8Re3qL-ICi",
        "outputId": "528d11e1-9590-47fc-8bb8-cde886b16deb"
      },
      "source": [
        "params = list(net.parameters())\n",
        "print(len(params)) # 각각의 층의 weight와 bias값이 포함되어있다. 층의 2배만큼 들어있다고 생각하면 된다.\n",
        "print(params[0].size())  # layer0의 weight"
      ],
      "execution_count": null,
      "outputs": [
        {
          "output_type": "stream",
          "name": "stdout",
          "text": [
            "16\n",
            "torch.Size([128, 4])\n"
          ]
        }
      ]
    },
    {
      "cell_type": "markdown",
      "metadata": {
        "id": "stc5MlORHVss"
      },
      "source": [
        "## 가중치 갱신\n",
        "- 가장 단순한 갱신 규칙은 확률적 경사하강법(SGD; Stochastic Gradient Descent)\n",
        "- `새로운 가중치(weight) = 가중치(weight) - 학습률(learning rate) * 변화도(gradient)`"
      ]
    },
    {
      "cell_type": "code",
      "metadata": {
        "id": "do674u-5HYdI"
      },
      "source": [
        "# torch.optim 패키지에 다양한 갱신 규칙이 규현되어 있음\n",
        "\n",
        "import torch.optim as optim\n",
        "\n",
        "optimizer = optim.SGD(net.parameters(), lr=0.001)\n",
        "\n",
        "optimizer.zero_grad()\n",
        "output = net(ex_X)\n",
        "loss = criterion(output, ex_y)\n",
        "loss.backward()\n",
        "optimizer.step()  # 업데이트 진행"
      ],
      "execution_count": null,
      "outputs": []
    },
    {
      "cell_type": "markdown",
      "metadata": {
        "id": "bS5ZVLPDnVYN"
      },
      "source": [
        "## MLP 모델"
      ]
    },
    {
      "cell_type": "code",
      "metadata": {
        "colab": {
          "base_uri": "https://localhost:8080/"
        },
        "id": "xyLsrD2AoMsz",
        "outputId": "adb94ad4-fe38-4a29-fa10-8e0ebe62e6a8"
      },
      "source": [
        "dataset = load_iris()\n",
        "\n",
        "data = dataset.data\n",
        "label = dataset.target\n",
        "\n",
        "print(dataset.DESCR)"
      ],
      "execution_count": null,
      "outputs": [
        {
          "output_type": "stream",
          "name": "stdout",
          "text": [
            ".. _iris_dataset:\n",
            "\n",
            "Iris plants dataset\n",
            "--------------------\n",
            "\n",
            "**Data Set Characteristics:**\n",
            "\n",
            "    :Number of Instances: 150 (50 in each of three classes)\n",
            "    :Number of Attributes: 4 numeric, predictive attributes and the class\n",
            "    :Attribute Information:\n",
            "        - sepal length in cm\n",
            "        - sepal width in cm\n",
            "        - petal length in cm\n",
            "        - petal width in cm\n",
            "        - class:\n",
            "                - Iris-Setosa\n",
            "                - Iris-Versicolour\n",
            "                - Iris-Virginica\n",
            "                \n",
            "    :Summary Statistics:\n",
            "\n",
            "    ============== ==== ==== ======= ===== ====================\n",
            "                    Min  Max   Mean    SD   Class Correlation\n",
            "    ============== ==== ==== ======= ===== ====================\n",
            "    sepal length:   4.3  7.9   5.84   0.83    0.7826\n",
            "    sepal width:    2.0  4.4   3.05   0.43   -0.4194\n",
            "    petal length:   1.0  6.9   3.76   1.76    0.9490  (high!)\n",
            "    petal width:    0.1  2.5   1.20   0.76    0.9565  (high!)\n",
            "    ============== ==== ==== ======= ===== ====================\n",
            "\n",
            "    :Missing Attribute Values: None\n",
            "    :Class Distribution: 33.3% for each of 3 classes.\n",
            "    :Creator: R.A. Fisher\n",
            "    :Donor: Michael Marshall (MARSHALL%PLU@io.arc.nasa.gov)\n",
            "    :Date: July, 1988\n",
            "\n",
            "The famous Iris database, first used by Sir R.A. Fisher. The dataset is taken\n",
            "from Fisher's paper. Note that it's the same as in R, but not as in the UCI\n",
            "Machine Learning Repository, which has two wrong data points.\n",
            "\n",
            "This is perhaps the best known database to be found in the\n",
            "pattern recognition literature.  Fisher's paper is a classic in the field and\n",
            "is referenced frequently to this day.  (See Duda & Hart, for example.)  The\n",
            "data set contains 3 classes of 50 instances each, where each class refers to a\n",
            "type of iris plant.  One class is linearly separable from the other 2; the\n",
            "latter are NOT linearly separable from each other.\n",
            "\n",
            ".. topic:: References\n",
            "\n",
            "   - Fisher, R.A. \"The use of multiple measurements in taxonomic problems\"\n",
            "     Annual Eugenics, 7, Part II, 179-188 (1936); also in \"Contributions to\n",
            "     Mathematical Statistics\" (John Wiley, NY, 1950).\n",
            "   - Duda, R.O., & Hart, P.E. (1973) Pattern Classification and Scene Analysis.\n",
            "     (Q327.D83) John Wiley & Sons.  ISBN 0-471-22361-1.  See page 218.\n",
            "   - Dasarathy, B.V. (1980) \"Nosing Around the Neighborhood: A New System\n",
            "     Structure and Classification Rule for Recognition in Partially Exposed\n",
            "     Environments\".  IEEE Transactions on Pattern Analysis and Machine\n",
            "     Intelligence, Vol. PAMI-2, No. 1, 67-71.\n",
            "   - Gates, G.W. (1972) \"The Reduced Nearest Neighbor Rule\".  IEEE Transactions\n",
            "     on Information Theory, May 1972, 431-433.\n",
            "   - See also: 1988 MLC Proceedings, 54-64.  Cheeseman et al\"s AUTOCLASS II\n",
            "     conceptual clustering system finds 3 classes in the data.\n",
            "   - Many, many more ...\n"
          ]
        }
      ]
    },
    {
      "cell_type": "code",
      "metadata": {
        "colab": {
          "base_uri": "https://localhost:8080/"
        },
        "id": "G8loKlfN0JOc",
        "outputId": "d2e54e5b-6d38-4e80-9643-6b60b5f8d6bb"
      },
      "source": [
        "print('shape of data: ', data.shape)\n",
        "print('shape of label: ',label.shape)"
      ],
      "execution_count": null,
      "outputs": [
        {
          "output_type": "stream",
          "name": "stdout",
          "text": [
            "shape of data:  (150, 4)\n",
            "shape of label:  (150,)\n"
          ]
        }
      ]
    },
    {
      "cell_type": "code",
      "metadata": {
        "colab": {
          "base_uri": "https://localhost:8080/"
        },
        "id": "y3xw0IFk0XjL",
        "outputId": "c0ecf945-1ff3-4822-9f79-33701c47117a"
      },
      "source": [
        "# 훈련과 테스트 데이터로 나누기\n",
        "from sklearn.model_selection import train_test_split\n",
        "\n",
        "X_train, X_test, y_train, y_test = train_test_split(data, label, test_size=0.25) # 전체의 테스트 데이터는 25%\n",
        "print(len(X_train))\n",
        "print(len(X_test))"
      ],
      "execution_count": null,
      "outputs": [
        {
          "output_type": "stream",
          "name": "stdout",
          "text": [
            "112\n",
            "38\n"
          ]
        }
      ]
    },
    {
      "cell_type": "code",
      "metadata": {
        "id": "qiHojNiZ0XgW"
      },
      "source": [
        "# DataLoader 생성\n",
        "X_train = torch.from_numpy(X_train).float()\n",
        "y_train = torch.from_numpy(y_train).long()\n",
        "\n",
        "X_test = torch.from_numpy(X_test).float()\n",
        "y_test = torch.from_numpy(y_test).long()\n",
        "\n",
        "train_set = TensorDataset(X_train, y_train)\n",
        "\n",
        "train_loader = DataLoader(train_set, batch_size=4, shuffle=True) # batch 한번에 몇 개를 볼 것인지"
      ],
      "execution_count": null,
      "outputs": []
    },
    {
      "cell_type": "code",
      "metadata": {
        "id": "RKMCSkmw0XdW"
      },
      "source": [
        "class Net(nn.Module):\n",
        "\n",
        "    def __init__(self):\n",
        "        super(Net, self).__init__()\n",
        "\n",
        "        self.layer0 = nn.Linear(4, 128)\n",
        "        self.layer1 = nn.Linear(128, 64)\n",
        "        self.layer2 = nn.Linear(64, 32)\n",
        "        self.layer3 = nn.Linear(32, 16)\n",
        "        self.layer4 = nn.Linear(16, 3)\n",
        "\n",
        "        self.bn0 = nn.BatchNorm1d(128)\n",
        "        self.bn1 = nn.BatchNorm1d(64)\n",
        "        self.bn2 = nn.BatchNorm1d(32)\n",
        "\n",
        "        self.act = nn.ReLU()\n",
        "\n",
        "    def forward(self, x):\n",
        "      x = self.act(self.bn0(self.layer0(x)))\n",
        "      x = self.act(self.bn1(self.layer1(x)))\n",
        "      x = self.act(self.bn2(self.layer2(x)))\n",
        "      x = self.act(self.layer3(x))\n",
        "      x = self.layer4(x)\n",
        "\n",
        "      return x\n",
        "      # return nn.Softmax(x)"
      ],
      "execution_count": null,
      "outputs": []
    },
    {
      "cell_type": "code",
      "metadata": {
        "colab": {
          "base_uri": "https://localhost:8080/"
        },
        "id": "_JwxsEnD0XWK",
        "outputId": "5fa984cf-dd9d-433a-ea50-f0671bc8d4f2"
      },
      "source": [
        "net = Net()\n",
        "print(net)"
      ],
      "execution_count": null,
      "outputs": [
        {
          "output_type": "stream",
          "name": "stdout",
          "text": [
            "Net(\n",
            "  (layer0): Linear(in_features=4, out_features=128, bias=True)\n",
            "  (layer1): Linear(in_features=128, out_features=64, bias=True)\n",
            "  (layer2): Linear(in_features=64, out_features=32, bias=True)\n",
            "  (layer3): Linear(in_features=32, out_features=16, bias=True)\n",
            "  (layer4): Linear(in_features=16, out_features=3, bias=True)\n",
            "  (bn0): BatchNorm1d(128, eps=1e-05, momentum=0.1, affine=True, track_running_stats=True)\n",
            "  (bn1): BatchNorm1d(64, eps=1e-05, momentum=0.1, affine=True, track_running_stats=True)\n",
            "  (bn2): BatchNorm1d(32, eps=1e-05, momentum=0.1, affine=True, track_running_stats=True)\n",
            "  (act): ReLU()\n",
            ")\n"
          ]
        }
      ]
    },
    {
      "cell_type": "code",
      "metadata": {
        "id": "tTzItXLv24HR"
      },
      "source": [
        "optimizer = torch.optim.SGD(net.parameters(), lr=0.001)\n",
        "criterion = nn.CrossEntropyLoss()\n",
        "epochs = 200"
      ],
      "execution_count": null,
      "outputs": []
    },
    {
      "cell_type": "code",
      "metadata": {
        "colab": {
          "base_uri": "https://localhost:8080/"
        },
        "id": "s7TSeMPP3TwB",
        "outputId": "3c8cb213-d487-4750-ce3f-77c34bb2e0e8"
      },
      "source": [
        "losses = list()\n",
        "accuracies = list()\n",
        "\n",
        "for epoch in range(epochs):\n",
        "  epoch_loss = 0  \n",
        "  epoch_accuracy = 0\n",
        "  for X, y in train_loader:\n",
        "  \n",
        "    optimizer.zero_grad()\n",
        "    \n",
        "    output = net(X)\n",
        "\n",
        "    loss = criterion(output, y)\n",
        "    loss.backward()\n",
        "    \n",
        "    optimizer.step()\n",
        "    # output = [0.11, 0.5, 0.8]  --> 예측 클래스 값\n",
        "    _, predicted = torch.max(output, dim=1)\n",
        "    accuracy = (predicted == y).sum().item()\n",
        "    epoch_loss += loss.item()\n",
        "    epoch_accuracy += accuracy\n",
        "  \n",
        "\n",
        "  epoch_loss /= len(train_loader)\n",
        "  epoch_accuracy /= len(X_train)\n",
        "  print(\"epoch :{}, \\tloss :{}, \\taccuracy :{}\".format(str(epoch+1).zfill(3),round(epoch_loss,4), round(epoch_accuracy,4)))\n",
        "  \n",
        "  losses.append(epoch_loss)\n",
        "  accuracies.append(epoch_accuracy)"
      ],
      "execution_count": null,
      "outputs": [
        {
          "output_type": "stream",
          "name": "stdout",
          "text": [
            "epoch :001, \tloss :1.1203, \taccuracy :0.2321\n",
            "epoch :002, \tloss :1.0893, \taccuracy :0.3304\n",
            "epoch :003, \tloss :1.0822, \taccuracy :0.3571\n",
            "epoch :004, \tloss :1.0674, \taccuracy :0.4643\n",
            "epoch :005, \tloss :1.0605, \taccuracy :0.5\n",
            "epoch :006, \tloss :1.0499, \taccuracy :0.5268\n",
            "epoch :007, \tloss :1.0193, \taccuracy :0.5893\n",
            "epoch :008, \tloss :1.0195, \taccuracy :0.6429\n",
            "epoch :009, \tloss :1.0288, \taccuracy :0.5804\n",
            "epoch :010, \tloss :0.9982, \taccuracy :0.6964\n",
            "epoch :011, \tloss :0.987, \taccuracy :0.7232\n",
            "epoch :012, \tloss :0.9892, \taccuracy :0.6964\n",
            "epoch :013, \tloss :0.9723, \taccuracy :0.7232\n",
            "epoch :014, \tloss :0.9669, \taccuracy :0.6786\n",
            "epoch :015, \tloss :0.9253, \taccuracy :0.7321\n",
            "epoch :016, \tloss :0.9534, \taccuracy :0.6696\n",
            "epoch :017, \tloss :0.9749, \taccuracy :0.6786\n",
            "epoch :018, \tloss :0.9722, \taccuracy :0.6696\n",
            "epoch :019, \tloss :0.9393, \taccuracy :0.7232\n",
            "epoch :020, \tloss :0.8804, \taccuracy :0.7857\n",
            "epoch :021, \tloss :0.8877, \taccuracy :0.7589\n",
            "epoch :022, \tloss :0.8756, \taccuracy :0.7768\n",
            "epoch :023, \tloss :0.8722, \taccuracy :0.7589\n",
            "epoch :024, \tloss :0.8984, \taccuracy :0.7411\n",
            "epoch :025, \tloss :0.8743, \taccuracy :0.7589\n",
            "epoch :026, \tloss :0.87, \taccuracy :0.7679\n",
            "epoch :027, \tloss :0.8672, \taccuracy :0.7589\n",
            "epoch :028, \tloss :0.8387, \taccuracy :0.7768\n",
            "epoch :029, \tloss :0.8343, \taccuracy :0.7946\n",
            "epoch :030, \tloss :0.799, \taccuracy :0.8125\n",
            "epoch :031, \tloss :0.8686, \taccuracy :0.7143\n",
            "epoch :032, \tloss :0.8046, \taccuracy :0.8214\n",
            "epoch :033, \tloss :0.8158, \taccuracy :0.7857\n",
            "epoch :034, \tloss :0.8383, \taccuracy :0.7411\n",
            "epoch :035, \tloss :0.8449, \taccuracy :0.6696\n",
            "epoch :036, \tloss :0.7898, \taccuracy :0.7768\n",
            "epoch :037, \tloss :0.7913, \taccuracy :0.7768\n",
            "epoch :038, \tloss :0.7553, \taccuracy :0.7946\n",
            "epoch :039, \tloss :0.7558, \taccuracy :0.8036\n",
            "epoch :040, \tloss :0.8172, \taccuracy :0.7232\n",
            "epoch :041, \tloss :0.8026, \taccuracy :0.7679\n",
            "epoch :042, \tloss :0.7812, \taccuracy :0.7589\n",
            "epoch :043, \tloss :0.8278, \taccuracy :0.7054\n",
            "epoch :044, \tloss :0.7547, \taccuracy :0.7768\n",
            "epoch :045, \tloss :0.7954, \taccuracy :0.75\n",
            "epoch :046, \tloss :0.8049, \taccuracy :0.7857\n",
            "epoch :047, \tloss :0.8181, \taccuracy :0.6429\n",
            "epoch :048, \tloss :0.746, \taccuracy :0.75\n",
            "epoch :049, \tloss :0.7153, \taccuracy :0.8036\n",
            "epoch :050, \tloss :0.8128, \taccuracy :0.6339\n",
            "epoch :051, \tloss :0.6825, \taccuracy :0.8393\n",
            "epoch :052, \tloss :0.7575, \taccuracy :0.7321\n",
            "epoch :053, \tloss :0.7402, \taccuracy :0.7321\n",
            "epoch :054, \tloss :0.7694, \taccuracy :0.7679\n",
            "epoch :055, \tloss :0.7233, \taccuracy :0.7411\n",
            "epoch :056, \tloss :0.7101, \taccuracy :0.7857\n",
            "epoch :057, \tloss :0.7529, \taccuracy :0.7321\n",
            "epoch :058, \tloss :0.7163, \taccuracy :0.7589\n",
            "epoch :059, \tloss :0.7019, \taccuracy :0.75\n",
            "epoch :060, \tloss :0.7664, \taccuracy :0.6786\n",
            "epoch :061, \tloss :0.7457, \taccuracy :0.7232\n",
            "epoch :062, \tloss :0.7209, \taccuracy :0.7411\n",
            "epoch :063, \tloss :0.6363, \taccuracy :0.8125\n",
            "epoch :064, \tloss :0.6451, \taccuracy :0.8125\n",
            "epoch :065, \tloss :0.7118, \taccuracy :0.75\n",
            "epoch :066, \tloss :0.6171, \taccuracy :0.8125\n",
            "epoch :067, \tloss :0.7275, \taccuracy :0.7054\n",
            "epoch :068, \tloss :0.6721, \taccuracy :0.7679\n",
            "epoch :069, \tloss :0.738, \taccuracy :0.7321\n",
            "epoch :070, \tloss :0.6391, \taccuracy :0.7946\n",
            "epoch :071, \tloss :0.6339, \taccuracy :0.8036\n",
            "epoch :072, \tloss :0.5826, \taccuracy :0.8125\n",
            "epoch :073, \tloss :0.6317, \taccuracy :0.7857\n",
            "epoch :074, \tloss :0.6417, \taccuracy :0.7589\n",
            "epoch :075, \tloss :0.7205, \taccuracy :0.7232\n",
            "epoch :076, \tloss :0.5916, \taccuracy :0.8214\n",
            "epoch :077, \tloss :0.6566, \taccuracy :0.7411\n",
            "epoch :078, \tloss :0.6254, \taccuracy :0.7679\n",
            "epoch :079, \tloss :0.5477, \taccuracy :0.8304\n",
            "epoch :080, \tloss :0.6234, \taccuracy :0.7857\n",
            "epoch :081, \tloss :0.5972, \taccuracy :0.7946\n",
            "epoch :082, \tloss :0.5319, \taccuracy :0.8661\n",
            "epoch :083, \tloss :0.6117, \taccuracy :0.7589\n",
            "epoch :084, \tloss :0.6621, \taccuracy :0.7143\n",
            "epoch :085, \tloss :0.5906, \taccuracy :0.7679\n",
            "epoch :086, \tloss :0.6469, \taccuracy :0.7679\n",
            "epoch :087, \tloss :0.5889, \taccuracy :0.7857\n",
            "epoch :088, \tloss :0.5969, \taccuracy :0.7768\n",
            "epoch :089, \tloss :0.5626, \taccuracy :0.8125\n",
            "epoch :090, \tloss :0.5522, \taccuracy :0.7946\n",
            "epoch :091, \tloss :0.6325, \taccuracy :0.7321\n",
            "epoch :092, \tloss :0.6093, \taccuracy :0.7589\n",
            "epoch :093, \tloss :0.502, \taccuracy :0.8482\n",
            "epoch :094, \tloss :0.613, \taccuracy :0.7589\n",
            "epoch :095, \tloss :0.6175, \taccuracy :0.7321\n",
            "epoch :096, \tloss :0.7357, \taccuracy :0.6875\n",
            "epoch :097, \tloss :0.52, \taccuracy :0.8393\n",
            "epoch :098, \tloss :0.4699, \taccuracy :0.8571\n",
            "epoch :099, \tloss :0.5672, \taccuracy :0.7679\n",
            "epoch :100, \tloss :0.489, \taccuracy :0.8393\n",
            "epoch :101, \tloss :0.558, \taccuracy :0.7946\n",
            "epoch :102, \tloss :0.5547, \taccuracy :0.8125\n",
            "epoch :103, \tloss :0.6223, \taccuracy :0.7589\n",
            "epoch :104, \tloss :0.5793, \taccuracy :0.7679\n",
            "epoch :105, \tloss :0.5594, \taccuracy :0.7857\n",
            "epoch :106, \tloss :0.623, \taccuracy :0.7589\n",
            "epoch :107, \tloss :0.6219, \taccuracy :0.7679\n",
            "epoch :108, \tloss :0.5203, \taccuracy :0.8214\n",
            "epoch :109, \tloss :0.5444, \taccuracy :0.7679\n",
            "epoch :110, \tloss :0.5268, \taccuracy :0.7857\n",
            "epoch :111, \tloss :0.5731, \taccuracy :0.7589\n",
            "epoch :112, \tloss :0.6289, \taccuracy :0.7411\n",
            "epoch :113, \tloss :0.5473, \taccuracy :0.7768\n",
            "epoch :114, \tloss :0.5968, \taccuracy :0.7857\n",
            "epoch :115, \tloss :0.4398, \taccuracy :0.9018\n",
            "epoch :116, \tloss :0.5488, \taccuracy :0.8214\n",
            "epoch :117, \tloss :0.5156, \taccuracy :0.7857\n",
            "epoch :118, \tloss :0.6256, \taccuracy :0.7143\n",
            "epoch :119, \tloss :0.4789, \taccuracy :0.8036\n",
            "epoch :120, \tloss :0.5599, \taccuracy :0.7768\n",
            "epoch :121, \tloss :0.5555, \taccuracy :0.8036\n",
            "epoch :122, \tloss :0.5712, \taccuracy :0.7679\n",
            "epoch :123, \tloss :0.5083, \taccuracy :0.8125\n",
            "epoch :124, \tloss :0.5579, \taccuracy :0.7589\n",
            "epoch :125, \tloss :0.4756, \taccuracy :0.8482\n",
            "epoch :126, \tloss :0.5011, \taccuracy :0.8125\n",
            "epoch :127, \tloss :0.5005, \taccuracy :0.8304\n",
            "epoch :128, \tloss :0.5481, \taccuracy :0.7589\n",
            "epoch :129, \tloss :0.4841, \taccuracy :0.8393\n",
            "epoch :130, \tloss :0.5829, \taccuracy :0.7321\n",
            "epoch :131, \tloss :0.5713, \taccuracy :0.7411\n",
            "epoch :132, \tloss :0.5373, \taccuracy :0.7768\n",
            "epoch :133, \tloss :0.5516, \taccuracy :0.8036\n",
            "epoch :134, \tloss :0.4149, \taccuracy :0.8571\n",
            "epoch :135, \tloss :0.5574, \taccuracy :0.7679\n",
            "epoch :136, \tloss :0.5251, \taccuracy :0.7946\n",
            "epoch :137, \tloss :0.5177, \taccuracy :0.7589\n",
            "epoch :138, \tloss :0.4773, \taccuracy :0.8304\n",
            "epoch :139, \tloss :0.4455, \taccuracy :0.8482\n",
            "epoch :140, \tloss :0.4216, \taccuracy :0.8571\n",
            "epoch :141, \tloss :0.3737, \taccuracy :0.9018\n",
            "epoch :142, \tloss :0.4433, \taccuracy :0.8125\n",
            "epoch :143, \tloss :0.4413, \taccuracy :0.8393\n",
            "epoch :144, \tloss :0.4888, \taccuracy :0.7946\n",
            "epoch :145, \tloss :0.5295, \taccuracy :0.7411\n",
            "epoch :146, \tloss :0.3804, \taccuracy :0.9018\n",
            "epoch :147, \tloss :0.4962, \taccuracy :0.7857\n",
            "epoch :148, \tloss :0.5321, \taccuracy :0.7589\n",
            "epoch :149, \tloss :0.4372, \taccuracy :0.8661\n",
            "epoch :150, \tloss :0.5478, \taccuracy :0.75\n",
            "epoch :151, \tloss :0.5708, \taccuracy :0.7768\n",
            "epoch :152, \tloss :0.5275, \taccuracy :0.7857\n",
            "epoch :153, \tloss :0.4783, \taccuracy :0.8036\n",
            "epoch :154, \tloss :0.4474, \taccuracy :0.8393\n",
            "epoch :155, \tloss :0.5006, \taccuracy :0.7946\n",
            "epoch :156, \tloss :0.4863, \taccuracy :0.8214\n",
            "epoch :157, \tloss :0.5801, \taccuracy :0.7679\n",
            "epoch :158, \tloss :0.491, \taccuracy :0.8393\n",
            "epoch :159, \tloss :0.5167, \taccuracy :0.7679\n",
            "epoch :160, \tloss :0.4637, \taccuracy :0.8036\n",
            "epoch :161, \tloss :0.5015, \taccuracy :0.7857\n",
            "epoch :162, \tloss :0.4754, \taccuracy :0.7768\n",
            "epoch :163, \tloss :0.4416, \taccuracy :0.8661\n",
            "epoch :164, \tloss :0.44, \taccuracy :0.8304\n",
            "epoch :165, \tloss :0.4378, \taccuracy :0.8393\n",
            "epoch :166, \tloss :0.4645, \taccuracy :0.8393\n",
            "epoch :167, \tloss :0.4194, \taccuracy :0.8304\n",
            "epoch :168, \tloss :0.4758, \taccuracy :0.8125\n",
            "epoch :169, \tloss :0.6166, \taccuracy :0.75\n",
            "epoch :170, \tloss :0.4509, \taccuracy :0.8571\n",
            "epoch :171, \tloss :0.4565, \taccuracy :0.8036\n",
            "epoch :172, \tloss :0.5549, \taccuracy :0.7679\n",
            "epoch :173, \tloss :0.4727, \taccuracy :0.8036\n",
            "epoch :174, \tloss :0.4257, \taccuracy :0.8304\n",
            "epoch :175, \tloss :0.4874, \taccuracy :0.7768\n",
            "epoch :176, \tloss :0.3949, \taccuracy :0.8482\n",
            "epoch :177, \tloss :0.505, \taccuracy :0.8036\n",
            "epoch :178, \tloss :0.4614, \taccuracy :0.8304\n",
            "epoch :179, \tloss :0.4362, \taccuracy :0.8304\n",
            "epoch :180, \tloss :0.3664, \taccuracy :0.8839\n",
            "epoch :181, \tloss :0.4529, \taccuracy :0.8214\n",
            "epoch :182, \tloss :0.3854, \taccuracy :0.8661\n",
            "epoch :183, \tloss :0.4628, \taccuracy :0.7946\n",
            "epoch :184, \tloss :0.4759, \taccuracy :0.8304\n",
            "epoch :185, \tloss :0.5306, \taccuracy :0.7679\n",
            "epoch :186, \tloss :0.4699, \taccuracy :0.8393\n",
            "epoch :187, \tloss :0.4546, \taccuracy :0.8214\n",
            "epoch :188, \tloss :0.3443, \taccuracy :0.9196\n",
            "epoch :189, \tloss :0.445, \taccuracy :0.8482\n",
            "epoch :190, \tloss :0.3871, \taccuracy :0.8482\n",
            "epoch :191, \tloss :0.5295, \taccuracy :0.7768\n",
            "epoch :192, \tloss :0.4482, \taccuracy :0.8125\n",
            "epoch :193, \tloss :0.4311, \taccuracy :0.8482\n",
            "epoch :194, \tloss :0.4364, \taccuracy :0.8036\n",
            "epoch :195, \tloss :0.4846, \taccuracy :0.7857\n",
            "epoch :196, \tloss :0.4708, \taccuracy :0.7946\n",
            "epoch :197, \tloss :0.5786, \taccuracy :0.7589\n",
            "epoch :198, \tloss :0.3901, \taccuracy :0.8929\n",
            "epoch :199, \tloss :0.3428, \taccuracy :0.9107\n",
            "epoch :200, \tloss :0.4109, \taccuracy :0.8839\n"
          ]
        }
      ]
    },
    {
      "cell_type": "code",
      "metadata": {
        "colab": {
          "base_uri": "https://localhost:8080/",
          "height": 367
        },
        "id": "jyD5qnrK36oE",
        "outputId": "ec29cb33-bdc9-4b11-c6aa-3bc7e942f958"
      },
      "source": [
        "# Plot result\n",
        "\n",
        "import matplotlib.pyplot as plt\n",
        "\n",
        "plt.figure(figsize=(20,5))\n",
        "plt.subplots_adjust(wspace=0.2)\n",
        "\n",
        "plt.subplot(1,2,1)\n",
        "plt.title(\"$loss$\",fontsize = 18)\n",
        "plt.plot(losses)\n",
        "plt.grid()\n",
        "plt.xlabel(\"$epochs$\", fontsize = 16)\n",
        "plt.xticks(fontsize = 14)\n",
        "plt.yticks(fontsize = 14)\n",
        "\n",
        "\n",
        "plt.subplot(1,2,2)\n",
        "plt.title(\"$accuracy$\", fontsize = 18)\n",
        "plt.plot(accuracies)\n",
        "plt.grid()\n",
        "plt.xlabel(\"$epochs$\", fontsize = 16)\n",
        "plt.xticks(fontsize = 14)\n",
        "plt.yticks(fontsize = 14)\n",
        "\n",
        "plt.show()"
      ],
      "execution_count": null,
      "outputs": [
        {
          "output_type": "display_data",
          "data": {
            "text/plain": [
              "<Figure size 1440x360 with 2 Axes>"
            ],
            "image/png": "[encoded data removed]"
          },
          "metadata": {
            "needs_background": "light"
          }
        }
      ]
    },
    {
      "cell_type": "code",
      "metadata": {
        "colab": {
          "base_uri": "https://localhost:8080/"
        },
        "id": "RY6hOROnnaRG",
        "outputId": "54f22d20-36da-4286-8df5-af1f9ab61d2f"
      },
      "source": [
        "# Test\n",
        "\n",
        "output = net(X_test)\n",
        "print(torch.max(output, dim=1))\n",
        "_, predicted = torch.max(output, dim=1)\n",
        "accuracy = round((predicted == y_test).sum().item() / len(y_test),4)\n",
        "\n",
        "\n",
        "print(\"test_set accuracy :\", round(accuracy,4))"
      ],
      "execution_count": null,
      "outputs": [
        {
          "output_type": "stream",
          "name": "stdout",
          "text": [
            "torch.return_types.max(\n",
            "values=tensor([1.3945, 1.3722, 2.0009, 1.7509, 2.2641, 1.2397, 1.5353, 1.8058, 2.4710,\n",
            "        2.1986, 1.1107, 2.0139, 1.9796, 2.0933, 2.2266, 2.3169, 2.1060, 2.3824,\n",
            "        2.0023, 1.9895, 1.8090, 1.8925, 1.6113, 1.4593, 1.8539, 2.0103, 2.1267,\n",
            "        2.1298, 2.2506, 1.7069, 2.0361, 0.8345, 2.0338, 1.6693, 2.8102, 2.3393,\n",
            "        0.4558, 1.7679], grad_fn=<MaxBackward0>),\n",
            "indices=tensor([0, 0, 0, 1, 0, 2, 2, 2, 1, 1, 1, 2, 1, 0, 0, 0, 2, 1, 2, 0, 0, 1, 2, 2,\n",
            "        0, 0, 0, 0, 1, 1, 2, 2, 0, 2, 1, 0, 1, 1]))\n",
            "test_set accuracy : 0.9474\n"
          ]
        }
      ]
    },
    {
      "cell_type": "code",
      "metadata": {
        "id": "MeVLbpX342HJ"
      },
      "source": [
        ""
      ],
      "execution_count": null,
      "outputs": []
    }
  ]
}