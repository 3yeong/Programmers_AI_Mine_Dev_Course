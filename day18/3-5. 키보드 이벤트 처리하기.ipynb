{
 "cells": [
  {
   "cell_type": "code",
   "execution_count": 2,
   "id": "292bc424",
   "metadata": {},
   "outputs": [],
   "source": [
    "# 스크래핑에 필요한 라이브러리 불러오기\n",
    "\n",
    "from selenium import webdriver \n",
    "from selenium.webdriver import ActionChains\n",
    "from selenium.webdriver.common.actions.action_builder import ActionBuilder\n",
    "from selenium.webdriver.chrome.service import Service\n",
    "from selenium.webdriver.common.by import By\n",
    "from webdriver_manager.chrome import ChromeDriverManager"
   ]
  },
  {
   "cell_type": "code",
   "execution_count": 7,
   "id": "c42a9304",
   "metadata": {},
   "outputs": [
    {
     "name": "stdout",
     "output_type": "stream",
     "text": [
      "\n"
     ]
    }
   ],
   "source": [
    "# https://www.naver.com\n",
    "# link_login\n",
    "# id\n",
    "# pw\n",
    "# log.login\n",
    "    \n",
    "import time\n",
    "\n",
    "driver = webdriver.Chrome(service = Service(ChromeDriverManager().install()))\n",
    "driver.get(\"https://www.naver.com\")\n",
    "time.sleep(0.5)\n",
    "\n",
    "#내비게이션 바에서 \"로그인\" 버튼 찾아 누르기\n",
    "button = driver.find_element(By.CLASS_NAME, \"link_login\")\n",
    "ActionChains(driver).click(button).perform()\n",
    "time.sleep(0.5)\n",
    "\n",
    "#\"아이디\"  input 요소에 아이디 입력\n",
    "id_input = driver.find_element(By.ID,\"id\")\n",
    "ActionChains(driver).send_keys_to_element(id_input,\"hello\").perform()\n",
    "time.sleep(1)\n",
    "\n",
    "#\"패스워드\" input 요소에 비밀번호 입력\n",
    "pw_input = driver.find_element(By.ID,\"pw\")\n",
    "ActionChains(driver).send_keys_to_element(id_input,\"hello\").perform()\n",
    "time.sleep(1)\n",
    "\n",
    "#\"로그인\" 버튼 눌러서 로그인 완료\n",
    "login_button = driver.find_element(By.ID, \"log.login\")\n",
    "ActionChains(driver).click(login_button).perform()\n",
    "time.sleep(0.5)"
   ]
  },
  {
   "cell_type": "code",
   "execution_count": null,
   "id": "f0c0140e",
   "metadata": {},
   "outputs": [],
   "source": []
  }
 ],
 "metadata": {
  "kernelspec": {
   "display_name": "Python 3 (ipykernel)",
   "language": "python",
   "name": "python3"
  },
  "language_info": {
   "codemirror_mode": {
    "name": "ipython",
    "version": 3
   },
   "file_extension": ".py",
   "mimetype": "text/x-python",
   "name": "python",
   "nbconvert_exporter": "python",
   "pygments_lexer": "ipython3",
   "version": "3.9.12"
  }
 },
 "nbformat": 4,
 "nbformat_minor": 5
}
