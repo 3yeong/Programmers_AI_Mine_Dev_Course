{
 "cells": [
  {
   "cell_type": "code",
   "execution_count": 19,
   "id": "6af20246",
   "metadata": {},
   "outputs": [],
   "source": [
    "def primenumber(x):\n",
    "    for i in range(2, x):\n",
    "        if x % i == 0:\n",
    "            return False\n",
    "    return True\n",
    "\n",
    "def solution():\n",
    "    answer = 0\n",
    "    newitem = list(combinations(items, 3))\n",
    "    for item in newitem:\n",
    "        if primenumber(sum(item)):\n",
    "            answer += 1\n",
    "        \n",
    "    return answer;"
   ]
  },
  {
   "cell_type": "code",
   "execution_count": 20,
   "id": "bc318eb5",
   "metadata": {},
   "outputs": [
    {
     "data": {
      "text/plain": [
       "1"
      ]
     },
     "execution_count": 20,
     "metadata": {},
     "output_type": "execute_result"
    }
   ],
   "source": [
    "solution()"
   ]
  },
  {
   "cell_type": "code",
   "execution_count": 30,
   "id": "e460d527",
   "metadata": {},
   "outputs": [],
   "source": [
    "items = [3,3,3,2,2,2]"
   ]
  },
  {
   "cell_type": "code",
   "execution_count": 31,
   "id": "8743cb2d",
   "metadata": {},
   "outputs": [],
   "source": [
    "def solution():\n",
    "    answer = 0\n",
    "    \n",
    "    div = len(items) / 2\n",
    "    count = len(set(items))\n",
    "    \n",
    "    answer = int(min(div,count))\n",
    "        \n",
    "    return answer;"
   ]
  },
  {
   "cell_type": "code",
   "execution_count": 32,
   "id": "f3acb8bc",
   "metadata": {},
   "outputs": [
    {
     "data": {
      "text/plain": [
       "2"
      ]
     },
     "execution_count": 32,
     "metadata": {},
     "output_type": "execute_result"
    }
   ],
   "source": [
    "solution()"
   ]
  },
  {
   "cell_type": "code",
   "execution_count": 33,
   "id": "45bd7a99",
   "metadata": {},
   "outputs": [],
   "source": [
    "def solution(n,a,b):\n",
    "    answer = 0\n",
    "    \n",
    "    while a != b:\n",
    "        a, b = (a+1)//2 , (b+1)//2\n",
    "        answer += 1\n",
    "    \n",
    "\n",
    "    return answer"
   ]
  },
  {
   "cell_type": "code",
   "execution_count": 34,
   "id": "18a01e2c",
   "metadata": {},
   "outputs": [
    {
     "data": {
      "text/plain": [
       "3"
      ]
     },
     "execution_count": 34,
     "metadata": {},
     "output_type": "execute_result"
    }
   ],
   "source": [
    "solution(8,4,7)"
   ]
  },
  {
   "cell_type": "code",
   "execution_count": 44,
   "id": "8812e423",
   "metadata": {},
   "outputs": [
    {
     "data": {
      "text/plain": [
       "3"
      ]
     },
     "execution_count": 44,
     "metadata": {},
     "output_type": "execute_result"
    }
   ],
   "source": [
    "a = [5,1,3,7]\n",
    "b = [2,2,6,8]\n",
    "\n",
    "a.sort(reverse = True)\n",
    "b.sort(reverse = True)\n",
    "\n",
    "answer = 0\n",
    "\n",
    "for i in a:\n",
    "    if i >=b[0]:\n",
    "        continue\n",
    "    else:\n",
    "        del b[0]\n",
    "        answer += 1\n",
    "\n",
    "answer"
   ]
  },
  {
   "cell_type": "code",
   "execution_count": null,
   "id": "b4e387c1",
   "metadata": {},
   "outputs": [],
   "source": []
  }
 ],
 "metadata": {
  "kernelspec": {
   "display_name": "Python 3 (ipykernel)",
   "language": "python",
   "name": "python3"
  },
  "language_info": {
   "codemirror_mode": {
    "name": "ipython",
    "version": 3
   },
   "file_extension": ".py",
   "mimetype": "text/x-python",
   "name": "python",
   "nbconvert_exporter": "python",
   "pygments_lexer": "ipython3",
   "version": "3.9.12"
  }
 },
 "nbformat": 4,
 "nbformat_minor": 5
}
