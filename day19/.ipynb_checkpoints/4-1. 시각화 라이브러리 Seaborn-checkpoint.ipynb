{
 "cells": [
  {
   "cell_type": "markdown",
   "metadata": {},
   "source": [
    "## 4-1. 시각화 라이브러리, Seaborn\n",
    "\n",
    "- Seaborn을 이용해서 데이터를 요약해서 보여주는 시각화를 진행해봅시다."
   ]
  },
  {
   "cell_type": "markdown",
   "metadata": {},
   "source": [
    "### Seaborn 라이브러리\n",
    "\n",
    "`seaborn`은 파이썬의 데이터 시각화 라이브러리입니다. 이를 기반으로 수려한 그래프를 그릴 수 있습니다.\n",
    "\n",
    "우선, 이를 사용하기 위해서 `pip`를 사용해 다운로드를 받아봅시다.\n",
    "\n",
    "> Tip: `%`를 이용해서 노트북(.ipynb) 환경에서 터미널 코드를 실행할 수 있습니다."
   ]
  },
  {
   "cell_type": "code",
   "execution_count": null,
   "metadata": {},
   "outputs": [],
   "source": [
    "# seaborn 라이브러리를 설치해봅시다.\n",
    "\n"
   ]
  },
  {
   "cell_type": "markdown",
   "metadata": {},
   "source": [
    "설치를 다 진행했다면, 이제 `seaborn` 모듈을 사용할 준비가 되었습니다."
   ]
  },
  {
   "cell_type": "markdown",
   "metadata": {},
   "source": [
    "### Seaborn Essentials\n",
    "\n",
    "`seaborn` 은 다양한 그래프를 그릴 수 있습니다.  \n",
    "이 링크를 통해 어떤 그래프를 그릴 수 있는지 확인할 수 있습니다.\n",
    "\n",
    "저희는 이중에서 자주 사용되는 꺾은선 그래프와 막대 그래프를 그려보면서 사용 방법을 익혀보도록 하겠습니다."
   ]
  },
  {
   "cell_type": "code",
   "execution_count": null,
   "metadata": {
    "tags": []
   },
   "outputs": [],
   "source": [
    "# 시각화에 필요한 라이브러리를 불러와봅시다.\n",
    "\n"
   ]
  },
  {
   "cell_type": "markdown",
   "metadata": {
    "tags": []
   },
   "source": [
    "### 꺾은선 그래프(Line Plot)\n",
    "\n",
    "두 변수의 값에 따른 추이를 선으로 이은 그래프입니다. \n",
    "`.lineplot()`를 이용해서 이를 그릴 수 있습니다."
   ]
  },
  {
   "cell_type": "code",
   "execution_count": null,
   "metadata": {},
   "outputs": [],
   "source": [
    "# Scatterplot을 직접 그려봅시다\n",
    "# 값 x=[1, 3, 2, 4]\n",
    "# 값 y=[0.7,0.2,0.1,0.05]\n",
    "\n"
   ]
  },
  {
   "cell_type": "markdown",
   "metadata": {
    "tags": []
   },
   "source": [
    "### 막대 그래프(Bar Plot)\n",
    "\n",
    "범주형 데이터의 \"값\"과 그 값의 크기를 직사각형으로 나타낸 그림입니다.  \n",
    "`.barplot()`를 이용해서 이를 그릴 수 있습니다.  "
   ]
  },
  {
   "cell_type": "markdown",
   "metadata": {},
   "source": [
    "지난 실습에서 다룬 마우스 실습을 통해 로그인 창에 접속하는 것에 성공했는데요,  \n",
    "여기에 이제 키보드 입력을 넣어서 로그인을 완료해봅시다."
   ]
  },
  {
   "cell_type": "code",
   "execution_count": null,
   "metadata": {},
   "outputs": [],
   "source": [
    "# Barplot을 직접 그려봅시다\n",
    "# 범주 x=[1,2,3,4]\n",
    "# 값 y=[0.7,0.2,0.1,0.05]\n",
    "\n"
   ]
  },
  {
   "cell_type": "markdown",
   "metadata": {},
   "source": [
    "### Plot의 속성\n",
    "\n",
    "`seaborn`은 파이썬의 시각화 라이브러리 `matplotlib`을 기반으로 만들어졌습니다.  \n",
    "`matplotlib.pyplot`의 속성을 변경해서 그래프에 다양한 요소를 변경/추가할 수 있습니다."
   ]
  },
  {
   "cell_type": "code",
   "execution_count": null,
   "metadata": {},
   "outputs": [],
   "source": [
    "# matplotlib.pyplot을 불러와봅시다.\n",
    "\n"
   ]
  },
  {
   "cell_type": "markdown",
   "metadata": {},
   "source": [
    "`plt.title()` : 그래프에 **제목** 을 추가합니다"
   ]
  },
  {
   "cell_type": "code",
   "execution_count": null,
   "metadata": {},
   "outputs": [],
   "source": [
    "#TODO: 제목을 추가해봅시다.\n",
    "\n",
    "sns.barplot(x=[1,2,3,4],y=[0.7,0.2,0.1,0.05])\n",
    "\n",
    "\n",
    "plt.show()"
   ]
  },
  {
   "cell_type": "markdown",
   "metadata": {},
   "source": [
    "`plt._label()` : 그래프의 축에 **설명** 을 추가합니다"
   ]
  },
  {
   "cell_type": "code",
   "execution_count": null,
   "metadata": {},
   "outputs": [],
   "source": [
    "#TODO: xlabel과 ylabel을 추가해봅시다.\n",
    "\n",
    "sns.barplot(x=[1,2,3,4],y=[0.7,0.2,0.1,0.05])\n",
    "\n",
    "\n",
    "plt.show()"
   ]
  },
  {
   "cell_type": "markdown",
   "metadata": {},
   "source": [
    "`plt._lim()` : 그래프의 축의 **범위** 를 지정합니다."
   ]
  },
  {
   "cell_type": "code",
   "execution_count": null,
   "metadata": {},
   "outputs": [],
   "source": [
    "#TODO: lineplot에서 ylim을 2~3으로 제한해봅시다.\n",
    "\n",
    "sns.lineplot(x=[1, 3, 2, 4], y=[4, 3, 2, 1])\n",
    "\n",
    "\n",
    "plt.show()"
   ]
  },
  {
   "cell_type": "markdown",
   "metadata": {},
   "source": [
    "`plt.figure(figsize = (x, y))` : 그래프의 **크기** 를 지정합니다."
   ]
  },
  {
   "cell_type": "code",
   "execution_count": null,
   "metadata": {},
   "outputs": [],
   "source": [
    "#TODO: 크기를 (20, 10)으로 지정해봅시다.\n",
    "\n",
    "sns.lineplot(x=[1, 3, 2, 4], y=[4, 3, 2, 1])\n",
    "\n",
    "\n",
    "plt.show()"
   ]
  },
  {
   "cell_type": "markdown",
   "metadata": {},
   "source": [
    "간단한 사용법을 확인했으니, 이제 이를 활용해서 스크래핑과 함께 사용해봅시다!\n",
    "\n",
    "Tip: 이 외에도 다양한 그래프를 그릴 수 있습니다.  \n",
    "[이 링크](https://seaborn.pydata.org/examples/index.html)를 통해 더 자세히 살펴보실 수 있습니다. :)"
   ]
  }
 ],
 "metadata": {
  "kernelspec": {
   "display_name": "Python 3",
   "language": "python",
   "name": "python3"
  },
  "language_info": {
   "codemirror_mode": {
    "name": "ipython",
    "version": 3
   },
   "file_extension": ".py",
   "mimetype": "text/x-python",
   "name": "python",
   "nbconvert_exporter": "python",
   "pygments_lexer": "ipython3",
   "version": "3.8.5"
  }
 },
 "nbformat": 4,
 "nbformat_minor": 5
}
