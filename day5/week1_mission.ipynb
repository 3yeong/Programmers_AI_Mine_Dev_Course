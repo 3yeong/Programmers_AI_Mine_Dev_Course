{
 "cells": [
  {
   "cell_type": "markdown",
   "metadata": {},
   "source": [
    "## Mission 1. Netfilx and Code\n",
    "\n",
    "호주니는 요즘 넷플릭스를 보는데 심취해있다. 최근 넷플릭스와 협업하는 K-Contents가 늘어가는 것을 보면서 자부심을 느끼는 한편, 넷플릭스에 얼마나 많은 한국 작품이 있는지 궁금해졌다. 호주니를 도와 넷플릭스에 얼마나 많은 한국 작품이 있는지 알아보자."
   ]
  },
  {
   "cell_type": "markdown",
   "metadata": {},
   "source": [
    "### Mandatory Part\n",
    "\n",
    "#### 1)한국 작품은 총 얼마나 있는가?\n",
    "\n",
    "1. country column을 기준 \n",
    "\n",
    "2. \"South Korea\"인 경우만 인정"
   ]
  },
  {
   "cell_type": "code",
   "execution_count": 131,
   "metadata": {},
   "outputs": [],
   "source": [
    "import numpy as np\n",
    "import pandas as pd\n",
    "import matplotlib.pyplot as plt"
   ]
  },
  {
   "cell_type": "code",
   "execution_count": 132,
   "metadata": {},
   "outputs": [
    {
     "data": {
      "text/html": [
       "<div>\n",
       "<style scoped>\n",
       "    .dataframe tbody tr th:only-of-type {\n",
       "        vertical-align: middle;\n",
       "    }\n",
       "\n",
       "    .dataframe tbody tr th {\n",
       "        vertical-align: top;\n",
       "    }\n",
       "\n",
       "    .dataframe thead th {\n",
       "        text-align: right;\n",
       "    }\n",
       "</style>\n",
       "<table border=\"1\" class=\"dataframe\">\n",
       "  <thead>\n",
       "    <tr style=\"text-align: right;\">\n",
       "      <th></th>\n",
       "      <th>show_id</th>\n",
       "      <th>type</th>\n",
       "      <th>title</th>\n",
       "      <th>director</th>\n",
       "      <th>cast</th>\n",
       "      <th>country</th>\n",
       "      <th>date_added</th>\n",
       "      <th>release_year</th>\n",
       "      <th>rating</th>\n",
       "      <th>duration</th>\n",
       "      <th>listed_in</th>\n",
       "      <th>description</th>\n",
       "    </tr>\n",
       "  </thead>\n",
       "  <tbody>\n",
       "    <tr>\n",
       "      <th>0</th>\n",
       "      <td>s1</td>\n",
       "      <td>Movie</td>\n",
       "      <td>Dick Johnson Is Dead</td>\n",
       "      <td>Kirsten Johnson</td>\n",
       "      <td>NaN</td>\n",
       "      <td>United States</td>\n",
       "      <td>September 25, 2021</td>\n",
       "      <td>2020</td>\n",
       "      <td>PG-13</td>\n",
       "      <td>90 min</td>\n",
       "      <td>Documentaries</td>\n",
       "      <td>As her father nears the end of his life, filmm...</td>\n",
       "    </tr>\n",
       "    <tr>\n",
       "      <th>1</th>\n",
       "      <td>s2</td>\n",
       "      <td>TV Show</td>\n",
       "      <td>Blood &amp; Water</td>\n",
       "      <td>NaN</td>\n",
       "      <td>Ama Qamata, Khosi Ngema, Gail Mabalane, Thaban...</td>\n",
       "      <td>South Africa</td>\n",
       "      <td>September 24, 2021</td>\n",
       "      <td>2021</td>\n",
       "      <td>TV-MA</td>\n",
       "      <td>2 Seasons</td>\n",
       "      <td>International TV Shows, TV Dramas, TV Mysteries</td>\n",
       "      <td>After crossing paths at a party, a Cape Town t...</td>\n",
       "    </tr>\n",
       "    <tr>\n",
       "      <th>2</th>\n",
       "      <td>s3</td>\n",
       "      <td>TV Show</td>\n",
       "      <td>Ganglands</td>\n",
       "      <td>Julien Leclercq</td>\n",
       "      <td>Sami Bouajila, Tracy Gotoas, Samuel Jouy, Nabi...</td>\n",
       "      <td>NaN</td>\n",
       "      <td>September 24, 2021</td>\n",
       "      <td>2021</td>\n",
       "      <td>TV-MA</td>\n",
       "      <td>1 Season</td>\n",
       "      <td>Crime TV Shows, International TV Shows, TV Act...</td>\n",
       "      <td>To protect his family from a powerful drug lor...</td>\n",
       "    </tr>\n",
       "    <tr>\n",
       "      <th>3</th>\n",
       "      <td>s4</td>\n",
       "      <td>TV Show</td>\n",
       "      <td>Jailbirds New Orleans</td>\n",
       "      <td>NaN</td>\n",
       "      <td>NaN</td>\n",
       "      <td>NaN</td>\n",
       "      <td>September 24, 2021</td>\n",
       "      <td>2021</td>\n",
       "      <td>TV-MA</td>\n",
       "      <td>1 Season</td>\n",
       "      <td>Docuseries, Reality TV</td>\n",
       "      <td>Feuds, flirtations and toilet talk go down amo...</td>\n",
       "    </tr>\n",
       "    <tr>\n",
       "      <th>4</th>\n",
       "      <td>s5</td>\n",
       "      <td>TV Show</td>\n",
       "      <td>Kota Factory</td>\n",
       "      <td>NaN</td>\n",
       "      <td>Mayur More, Jitendra Kumar, Ranjan Raj, Alam K...</td>\n",
       "      <td>India</td>\n",
       "      <td>September 24, 2021</td>\n",
       "      <td>2021</td>\n",
       "      <td>TV-MA</td>\n",
       "      <td>2 Seasons</td>\n",
       "      <td>International TV Shows, Romantic TV Shows, TV ...</td>\n",
       "      <td>In a city of coaching centers known to train I...</td>\n",
       "    </tr>\n",
       "  </tbody>\n",
       "</table>\n",
       "</div>"
      ],
      "text/plain": [
       "  show_id     type                  title         director  \\\n",
       "0      s1    Movie   Dick Johnson Is Dead  Kirsten Johnson   \n",
       "1      s2  TV Show          Blood & Water              NaN   \n",
       "2      s3  TV Show              Ganglands  Julien Leclercq   \n",
       "3      s4  TV Show  Jailbirds New Orleans              NaN   \n",
       "4      s5  TV Show           Kota Factory              NaN   \n",
       "\n",
       "                                                cast        country  \\\n",
       "0                                                NaN  United States   \n",
       "1  Ama Qamata, Khosi Ngema, Gail Mabalane, Thaban...   South Africa   \n",
       "2  Sami Bouajila, Tracy Gotoas, Samuel Jouy, Nabi...            NaN   \n",
       "3                                                NaN            NaN   \n",
       "4  Mayur More, Jitendra Kumar, Ranjan Raj, Alam K...          India   \n",
       "\n",
       "           date_added  release_year rating   duration  \\\n",
       "0  September 25, 2021          2020  PG-13     90 min   \n",
       "1  September 24, 2021          2021  TV-MA  2 Seasons   \n",
       "2  September 24, 2021          2021  TV-MA   1 Season   \n",
       "3  September 24, 2021          2021  TV-MA   1 Season   \n",
       "4  September 24, 2021          2021  TV-MA  2 Seasons   \n",
       "\n",
       "                                           listed_in  \\\n",
       "0                                      Documentaries   \n",
       "1    International TV Shows, TV Dramas, TV Mysteries   \n",
       "2  Crime TV Shows, International TV Shows, TV Act...   \n",
       "3                             Docuseries, Reality TV   \n",
       "4  International TV Shows, Romantic TV Shows, TV ...   \n",
       "\n",
       "                                         description  \n",
       "0  As her father nears the end of his life, filmm...  \n",
       "1  After crossing paths at a party, a Cape Town t...  \n",
       "2  To protect his family from a powerful drug lor...  \n",
       "3  Feuds, flirtations and toilet talk go down amo...  \n",
       "4  In a city of coaching centers known to train I...  "
      ]
     },
     "execution_count": 132,
     "metadata": {},
     "output_type": "execute_result"
    }
   ],
   "source": [
    "netfilx = pd.read_csv(\"./netflix_titles.csv\")\n",
    "\n",
    "netfilx.head(5)"
   ]
  },
  {
   "cell_type": "code",
   "execution_count": 133,
   "metadata": {},
   "outputs": [
    {
     "data": {
      "text/plain": [
       "199"
      ]
     },
     "execution_count": 133,
     "metadata": {},
     "output_type": "execute_result"
    }
   ],
   "source": [
    "netfilx_count = (netfilx[\"country\"] == 'South Korea').value_counts()\n",
    "netfilx_count[1]"
   ]
  },
  {
   "cell_type": "markdown",
   "metadata": {},
   "source": [
    "생각보다 많은 작품이 있었음에 놀란 호주니는 K-콘텐츠를 넘어 글로벌 콘텐츠에 관심을 가지게 되었다. 이 과정에서 가장 많은 콘텐츠가 있는 국가는 어디일지 궁금해졌다. 호주니를 도와 이번에는 넷플릭스에서 가장 많은 작품을 만든 나라가 어디이고, 얼마나 많은 작품을 produce했는지 알아보자."
   ]
  },
  {
   "cell_type": "markdown",
   "metadata": {},
   "source": [
    "### Bonus Part\n",
    "\n",
    "#### 2) 가장 많은 작품이 올라간 국가는 어디이고, 얼마나 많은 작품이 있는가?\n",
    "\n",
    "1. country column을 기준으로 한다.\n",
    "2. 단일 국가인 경우를 기준으로 결과를 구해보자.\n"
   ]
  },
  {
   "cell_type": "code",
   "execution_count": 134,
   "metadata": {},
   "outputs": [
    {
     "data": {
      "text/plain": [
       "United States    2818\n",
       "Name: country, dtype: int64"
      ]
     },
     "execution_count": 134,
     "metadata": {},
     "output_type": "execute_result"
    }
   ],
   "source": [
    "netfilx['country'].value_counts().head(1)"
   ]
  },
  {
   "cell_type": "markdown",
   "metadata": {},
   "source": [
    "## Mission 2. 가즈아! \n",
    "**날짜 오류 수정 필요**\n",
    "\n",
    "서울의 소시민 나일론 마스크는 요즘 가상화폐에 푹 빠져있다. 매일매일 극락과 지옥을 오가는 매운맛에 정신을 못 차리고 있는데, 그의 친구인 호주니는 그에게 정신차리게 하기 위해 비트코인 광풍이 일었던 2017년 한 해의 가격의 변화를 보여주려고 한다. 그런데 매일매일의 데이터를 보여주는 것보다 이것의 추세를 표현해주면 좋겠다는 생각이 들어 Moving Average(이동평균법) 를 도입하고자 한다. 호주니를 도와 마스크씨를 설득해보자."
   ]
  },
  {
   "cell_type": "markdown",
   "metadata": {},
   "source": [
    "### Mandatory Part\n",
    "\n",
    "#### 1) 2016.6 ~ 2017.6 기간의 5-MA(Moving Average) 비트코인 가격 그래프를 그려보기\n",
    "\n",
    "1. 선의 색깔은 노란색(#f2a900) 으로 해야합니다.\n",
    "2. x-axis label과 y-axis label은 적절한 텍스트로 추가되어야 합니다.\n",
    "3. 이동평균의 기준은 Open Column으로 계산합니다.\n",
    "4. 이외에도 그래프를 알아보기 쉽게 하기 위한 정보(Text, Facet 등)을 추가하는 것도 좋습니다.\n",
    "\n",
    "hint. 이동평균(Moving Average)법은 시계열 데이터를 표현하는 데에 많이 사용하는 방법 중 하나입니다."
   ]
  },
  {
   "cell_type": "code",
   "execution_count": 135,
   "metadata": {},
   "outputs": [
    {
     "data": {
      "text/plain": [
       "pandas.core.frame.DataFrame"
      ]
     },
     "execution_count": 135,
     "metadata": {},
     "output_type": "execute_result"
    }
   ],
   "source": [
    "bit = pd.read_csv(\"./BitCoin.csv\")\n",
    "\n",
    "bit.head(5)\n",
    "type(bit)"
   ]
  },
  {
   "cell_type": "code",
   "execution_count": 160,
   "metadata": {},
   "outputs": [
    {
     "data": {
      "text/html": [
       "<div>\n",
       "<style scoped>\n",
       "    .dataframe tbody tr th:only-of-type {\n",
       "        vertical-align: middle;\n",
       "    }\n",
       "\n",
       "    .dataframe tbody tr th {\n",
       "        vertical-align: top;\n",
       "    }\n",
       "\n",
       "    .dataframe thead th {\n",
       "        text-align: right;\n",
       "    }\n",
       "</style>\n",
       "<table border=\"1\" class=\"dataframe\">\n",
       "  <thead>\n",
       "    <tr style=\"text-align: right;\">\n",
       "      <th></th>\n",
       "      <th>Unnamed: 0</th>\n",
       "      <th>Date</th>\n",
       "      <th>Open</th>\n",
       "      <th>High</th>\n",
       "      <th>Low</th>\n",
       "      <th>Close</th>\n",
       "      <th>Volume</th>\n",
       "      <th>Market Cap</th>\n",
       "    </tr>\n",
       "  </thead>\n",
       "  <tbody>\n",
       "    <tr>\n",
       "      <th>16</th>\n",
       "      <td>16</td>\n",
       "      <td>2017-06-09</td>\n",
       "      <td>4376.59</td>\n",
       "      <td>4617.25</td>\n",
       "      <td>4376.59</td>\n",
       "      <td>4597.12</td>\n",
       "      <td>2.172100e+09</td>\n",
       "      <td>72418700000</td>\n",
       "    </tr>\n",
       "    <tr>\n",
       "      <th>17</th>\n",
       "      <td>17</td>\n",
       "      <td>2017-05-09</td>\n",
       "      <td>4228.29</td>\n",
       "      <td>4427.84</td>\n",
       "      <td>3998.11</td>\n",
       "      <td>4376.53</td>\n",
       "      <td>2.697970e+09</td>\n",
       "      <td>69954400000</td>\n",
       "    </tr>\n",
       "    <tr>\n",
       "      <th>18</th>\n",
       "      <td>18</td>\n",
       "      <td>2017-04-09</td>\n",
       "      <td>4591.63</td>\n",
       "      <td>4591.63</td>\n",
       "      <td>4108.40</td>\n",
       "      <td>4236.31</td>\n",
       "      <td>2.987330e+09</td>\n",
       "      <td>75955500000</td>\n",
       "    </tr>\n",
       "    <tr>\n",
       "      <th>19</th>\n",
       "      <td>19</td>\n",
       "      <td>2017-03-09</td>\n",
       "      <td>4585.27</td>\n",
       "      <td>4714.08</td>\n",
       "      <td>4417.59</td>\n",
       "      <td>4582.96</td>\n",
       "      <td>1.933190e+09</td>\n",
       "      <td>75841700000</td>\n",
       "    </tr>\n",
       "    <tr>\n",
       "      <th>20</th>\n",
       "      <td>20</td>\n",
       "      <td>2017-02-09</td>\n",
       "      <td>4901.42</td>\n",
       "      <td>4975.04</td>\n",
       "      <td>4469.24</td>\n",
       "      <td>4578.77</td>\n",
       "      <td>2.722140e+09</td>\n",
       "      <td>81060600000</td>\n",
       "    </tr>\n",
       "  </tbody>\n",
       "</table>\n",
       "</div>"
      ],
      "text/plain": [
       "    Unnamed: 0        Date     Open     High      Low    Close        Volume  \\\n",
       "16          16  2017-06-09  4376.59  4617.25  4376.59  4597.12  2.172100e+09   \n",
       "17          17  2017-05-09  4228.29  4427.84  3998.11  4376.53  2.697970e+09   \n",
       "18          18  2017-04-09  4591.63  4591.63  4108.40  4236.31  2.987330e+09   \n",
       "19          19  2017-03-09  4585.27  4714.08  4417.59  4582.96  1.933190e+09   \n",
       "20          20  2017-02-09  4901.42  4975.04  4469.24  4578.77  2.722140e+09   \n",
       "\n",
       "     Market Cap  \n",
       "16  72418700000  \n",
       "17  69954400000  \n",
       "18  75955500000  \n",
       "19  75841700000  \n",
       "20  81060600000  "
      ]
     },
     "execution_count": 160,
     "metadata": {},
     "output_type": "execute_result"
    }
   ],
   "source": [
    "bit_split = bit[(bit['Date'] < '2017-07')&(bit['Date']>'2016-06')] ##기간으로 자르기\n",
    "\n",
    "bit_split.head(5)"
   ]
  },
  {
   "cell_type": "code",
   "execution_count": 137,
   "metadata": {},
   "outputs": [
    {
     "data": {
      "text/plain": [
       "16          NaN\n",
       "17          NaN\n",
       "18          NaN\n",
       "19          NaN\n",
       "20     4536.640\n",
       "         ...   \n",
       "621     421.644\n",
       "622     437.018\n",
       "623     451.208\n",
       "624     447.574\n",
       "625     444.206\n",
       "Name: Open, Length: 377, dtype: float64"
      ]
     },
     "execution_count": 137,
     "metadata": {},
     "output_type": "execute_result"
    }
   ],
   "source": [
    "bit_ma5 = bit_split['Open'].rolling(5).mean() #5개의 이동평균을 구하는 코드\n",
    "\n",
    "bit_ma5"
   ]
  },
  {
   "cell_type": "code",
   "execution_count": 138,
   "metadata": {},
   "outputs": [
    {
     "data": {
      "image/png": "[encoded data removed]",
      "text/plain": [
       "<Figure size 1440x360 with 1 Axes>"
      ]
     },
     "metadata": {
      "needs_background": "light"
     },
     "output_type": "display_data"
    }
   ],
   "source": [
    "fig = plt.figure(figsize=(20,5))\n",
    "\n",
    "plt.plot(bit_split.Date, bit_ma5,'#f2a900', label='Moving Average') #x축은 Date, y축은 이동평균\n",
    "\n",
    "plt.xlabel('Date')\n",
    "plt.ylabel('Average')\n",
    "\n",
    "plt.title('5 - MA Moving Average')\n",
    "plt.legend(loc='upper right')\n",
    "\n",
    "plt.show()"
   ]
  },
  {
   "cell_type": "markdown",
   "metadata": {},
   "source": [
    "해당 그래프를 본 나일론 마스크씨는 정신을 차렸다. 정확히는 비트코인만 바라본 본인을 말이다. 정말 많은 가상화폐가 있는데 비트코인만 바라본 본인을 돌아보게 되었다. 더불어 가장 핫한 코인인 이더리움 또한 관심이 생겼는데, 마스크씨는 2017년 한 해에 이 두개의 추세를 비교하고싶어한다. 마스크씨를 도와 비트코인과 이더리움의 가격 추세 비교를 도와주자."
   ]
  },
  {
   "cell_type": "markdown",
   "metadata": {},
   "source": [
    "### Bonus Part\n",
    "\n",
    "#### 2) 2016.6 ~ 2017.6 기간에 해당하는 비트코인의 5-MA 그래프와 이더리움의 5-MA 그래프를 동시에 그려라\n",
    "\n",
    "1. 선의 색깔은 비트코인 : 노란색(#f2a900), 이더리움 : 검은색(#3c3c3d) 으로 해야합니다.\n",
    "2. x-axis label과 y-axis label은 적절한 텍스트로 추가되어야 합니다.\n",
    "3. 이동평균의 기준은 Open Column으로 계산합니다.\n",
    "4. 이외에도 그래프를 알아보기 쉽게 하기 위한 정보(Text, Facet 등)을 추가하는 것도 좋습니다."
   ]
  },
  {
   "cell_type": "code",
   "execution_count": 139,
   "metadata": {},
   "outputs": [
    {
     "data": {
      "text/html": [
       "<div>\n",
       "<style scoped>\n",
       "    .dataframe tbody tr th:only-of-type {\n",
       "        vertical-align: middle;\n",
       "    }\n",
       "\n",
       "    .dataframe tbody tr th {\n",
       "        vertical-align: top;\n",
       "    }\n",
       "\n",
       "    .dataframe thead th {\n",
       "        text-align: right;\n",
       "    }\n",
       "</style>\n",
       "<table border=\"1\" class=\"dataframe\">\n",
       "  <thead>\n",
       "    <tr style=\"text-align: right;\">\n",
       "      <th></th>\n",
       "      <th>Date</th>\n",
       "      <th>Symbol</th>\n",
       "      <th>Open</th>\n",
       "      <th>High</th>\n",
       "      <th>Low</th>\n",
       "      <th>Close</th>\n",
       "      <th>Volume ETH</th>\n",
       "      <th>Volume USD</th>\n",
       "    </tr>\n",
       "  </thead>\n",
       "  <tbody>\n",
       "    <tr>\n",
       "      <th>0</th>\n",
       "      <td>2020-04-15</td>\n",
       "      <td>ETHUSD</td>\n",
       "      <td>158.61</td>\n",
       "      <td>158.61</td>\n",
       "      <td>158.61</td>\n",
       "      <td>158.61</td>\n",
       "      <td>0.00</td>\n",
       "      <td>0.00</td>\n",
       "    </tr>\n",
       "    <tr>\n",
       "      <th>1</th>\n",
       "      <td>2020-04-14</td>\n",
       "      <td>ETHUSD</td>\n",
       "      <td>156.97</td>\n",
       "      <td>162.15</td>\n",
       "      <td>155.74</td>\n",
       "      <td>158.61</td>\n",
       "      <td>18061.58</td>\n",
       "      <td>2872210.44</td>\n",
       "    </tr>\n",
       "    <tr>\n",
       "      <th>2</th>\n",
       "      <td>2020-04-13</td>\n",
       "      <td>ETHUSD</td>\n",
       "      <td>158.56</td>\n",
       "      <td>159.51</td>\n",
       "      <td>150.12</td>\n",
       "      <td>156.97</td>\n",
       "      <td>15698.32</td>\n",
       "      <td>2416728.28</td>\n",
       "    </tr>\n",
       "    <tr>\n",
       "      <th>3</th>\n",
       "      <td>2020-04-12</td>\n",
       "      <td>ETHUSD</td>\n",
       "      <td>158.66</td>\n",
       "      <td>165.37</td>\n",
       "      <td>155.21</td>\n",
       "      <td>158.56</td>\n",
       "      <td>12877.33</td>\n",
       "      <td>2082804.05</td>\n",
       "    </tr>\n",
       "    <tr>\n",
       "      <th>4</th>\n",
       "      <td>2020-04-11</td>\n",
       "      <td>ETHUSD</td>\n",
       "      <td>158.26</td>\n",
       "      <td>161.49</td>\n",
       "      <td>154.25</td>\n",
       "      <td>158.66</td>\n",
       "      <td>13761.72</td>\n",
       "      <td>2172914.57</td>\n",
       "    </tr>\n",
       "  </tbody>\n",
       "</table>\n",
       "</div>"
      ],
      "text/plain": [
       "         Date  Symbol    Open    High     Low   Close  Volume ETH  Volume USD\n",
       "0  2020-04-15  ETHUSD  158.61  158.61  158.61  158.61        0.00        0.00\n",
       "1  2020-04-14  ETHUSD  156.97  162.15  155.74  158.61    18061.58  2872210.44\n",
       "2  2020-04-13  ETHUSD  158.56  159.51  150.12  156.97    15698.32  2416728.28\n",
       "3  2020-04-12  ETHUSD  158.66  165.37  155.21  158.56    12877.33  2082804.05\n",
       "4  2020-04-11  ETHUSD  158.26  161.49  154.25  158.66    13761.72  2172914.57"
      ]
     },
     "execution_count": 139,
     "metadata": {},
     "output_type": "execute_result"
    }
   ],
   "source": [
    "eth = pd.read_csv(\"./ETH_day.csv\")\n",
    "eth.head(5)"
   ]
  },
  {
   "cell_type": "code",
   "execution_count": 140,
   "metadata": {},
   "outputs": [
    {
     "data": {
      "text/html": [
       "<div>\n",
       "<style scoped>\n",
       "    .dataframe tbody tr th:only-of-type {\n",
       "        vertical-align: middle;\n",
       "    }\n",
       "\n",
       "    .dataframe tbody tr th {\n",
       "        vertical-align: top;\n",
       "    }\n",
       "\n",
       "    .dataframe thead th {\n",
       "        text-align: right;\n",
       "    }\n",
       "</style>\n",
       "<table border=\"1\" class=\"dataframe\">\n",
       "  <thead>\n",
       "    <tr style=\"text-align: right;\">\n",
       "      <th></th>\n",
       "      <th>Date</th>\n",
       "      <th>Symbol</th>\n",
       "      <th>Open</th>\n",
       "      <th>High</th>\n",
       "      <th>Low</th>\n",
       "      <th>Close</th>\n",
       "      <th>Volume ETH</th>\n",
       "      <th>Volume USD</th>\n",
       "    </tr>\n",
       "  </thead>\n",
       "  <tbody>\n",
       "    <tr>\n",
       "      <th>1020</th>\n",
       "      <td>2017-06-30</td>\n",
       "      <td>ETHUSD</td>\n",
       "      <td>293.80</td>\n",
       "      <td>304.94</td>\n",
       "      <td>270.77</td>\n",
       "      <td>280.80</td>\n",
       "      <td>146545.22</td>\n",
       "      <td>42337469.59</td>\n",
       "    </tr>\n",
       "    <tr>\n",
       "      <th>1021</th>\n",
       "      <td>2017-06-29</td>\n",
       "      <td>ETHUSD</td>\n",
       "      <td>317.59</td>\n",
       "      <td>322.84</td>\n",
       "      <td>285.23</td>\n",
       "      <td>293.80</td>\n",
       "      <td>152271.32</td>\n",
       "      <td>46521350.06</td>\n",
       "    </tr>\n",
       "    <tr>\n",
       "      <th>1022</th>\n",
       "      <td>2017-06-28</td>\n",
       "      <td>ETHUSD</td>\n",
       "      <td>286.21</td>\n",
       "      <td>324.95</td>\n",
       "      <td>260.49</td>\n",
       "      <td>317.59</td>\n",
       "      <td>184030.56</td>\n",
       "      <td>54573461.77</td>\n",
       "    </tr>\n",
       "    <tr>\n",
       "      <th>1023</th>\n",
       "      <td>2017-06-27</td>\n",
       "      <td>ETHUSD</td>\n",
       "      <td>253.00</td>\n",
       "      <td>288.17</td>\n",
       "      <td>210.02</td>\n",
       "      <td>286.21</td>\n",
       "      <td>173179.40</td>\n",
       "      <td>42085473.60</td>\n",
       "    </tr>\n",
       "    <tr>\n",
       "      <th>1024</th>\n",
       "      <td>2017-06-26</td>\n",
       "      <td>ETHUSD</td>\n",
       "      <td>278.73</td>\n",
       "      <td>299.90</td>\n",
       "      <td>210.00</td>\n",
       "      <td>253.00</td>\n",
       "      <td>249076.24</td>\n",
       "      <td>60950252.99</td>\n",
       "    </tr>\n",
       "  </tbody>\n",
       "</table>\n",
       "</div>"
      ],
      "text/plain": [
       "            Date  Symbol    Open    High     Low   Close  Volume ETH  \\\n",
       "1020  2017-06-30  ETHUSD  293.80  304.94  270.77  280.80   146545.22   \n",
       "1021  2017-06-29  ETHUSD  317.59  322.84  285.23  293.80   152271.32   \n",
       "1022  2017-06-28  ETHUSD  286.21  324.95  260.49  317.59   184030.56   \n",
       "1023  2017-06-27  ETHUSD  253.00  288.17  210.02  286.21   173179.40   \n",
       "1024  2017-06-26  ETHUSD  278.73  299.90  210.00  253.00   249076.24   \n",
       "\n",
       "       Volume USD  \n",
       "1020  42337469.59  \n",
       "1021  46521350.06  \n",
       "1022  54573461.77  \n",
       "1023  42085473.60  \n",
       "1024  60950252.99  "
      ]
     },
     "execution_count": 140,
     "metadata": {},
     "output_type": "execute_result"
    }
   ],
   "source": [
    "eth_split = eth[(eth['Date'] < '2017-07')&(eth['Date']>'2016-06')] ##기간으로 자르기\n",
    "\n",
    "eth_split.head(5)"
   ]
  },
  {
   "cell_type": "code",
   "execution_count": 142,
   "metadata": {},
   "outputs": [
    {
     "data": {
      "text/plain": [
       "1020        NaN\n",
       "1021        NaN\n",
       "1022        NaN\n",
       "1023        NaN\n",
       "1024    285.866\n",
       "         ...   \n",
       "1410     14.188\n",
       "1411     14.090\n",
       "1412     13.970\n",
       "1413     13.928\n",
       "1414     13.982\n",
       "Name: Open, Length: 395, dtype: float64"
      ]
     },
     "execution_count": 142,
     "metadata": {},
     "output_type": "execute_result"
    }
   ],
   "source": [
    "eth_ma5 = eth_split['Open'].rolling(5).mean() #5개의 이동평균을 구하는 코드\n",
    "\n",
    "eth_ma5"
   ]
  },
  {
   "cell_type": "code",
   "execution_count": 167,
   "metadata": {},
   "outputs": [
    {
     "data": {
      "image/png": "[encoded data removed]",
      "text/plain": [
       "<Figure size 432x288 with 2 Axes>"
      ]
     },
     "metadata": {
      "needs_background": "light"
     },
     "output_type": "display_data"
    }
   ],
   "source": [
    "import matplotlib.pyplot as plt1\n",
    "\n",
    "fig, ax = plt.subplots()\n",
    "ax.plot(bit_split.Date, bit_ma5,'#f2a900', label='Bitcoin') #x축은 Date, y축은 이동평균\n",
    "ax.set_xlabel('Date')\n",
    "ax.set_ylabel('Bitcoin')\n",
    "ax.set_title('5 - MA Moving Average')\n",
    "\n",
    "ax1 = plt.twinx()\n",
    "ax1.plot(eth_split.Date, eth_ma5,'#3c3c3d', label='ETH') #x축은 Date, y축은 이동평균\n",
    "ax1.set_ylabel('ETH')\n",
    "\n",
    "fig.tight_layout()\n",
    "plt.show()"
   ]
  },
  {
   "cell_type": "code",
   "execution_count": null,
   "metadata": {},
   "outputs": [],
   "source": []
  }
 ],
 "metadata": {
  "kernelspec": {
   "display_name": "Python 3",
   "language": "python",
   "name": "python3"
  },
  "language_info": {
   "codemirror_mode": {
    "name": "ipython",
    "version": 3
   },
   "file_extension": ".py",
   "mimetype": "text/x-python",
   "name": "python",
   "nbconvert_exporter": "python",
   "pygments_lexer": "ipython3",
   "version": "3.8.5"
  }
 },
 "nbformat": 4,
 "nbformat_minor": 5
}
