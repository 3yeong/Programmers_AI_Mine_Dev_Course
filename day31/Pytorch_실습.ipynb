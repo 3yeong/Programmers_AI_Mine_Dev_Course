{
  "cells": [
    {
      "cell_type": "code",
      "execution_count": null,
      "metadata": {
        "id": "vqxQFgMt7cXC"
      },
      "outputs": [],
      "source": [
        "%matplotlib inline"
      ]
    },
    {
      "cell_type": "markdown",
      "metadata": {
        "id": "Fl7w48Go7cXE"
      },
      "source": [
        "## What is PyTorch?\n",
        "python 기반의 과학 연산 패키지로 다음과 같은 두 집단을 대상으로 한다.:\n",
        "- NumPy를 대체하면서 GPU를 이용한 연산이 필요한 경우\n",
        "- 최대한의 유연성과 속도를 제공하는 딥러닝 연구 플랫폼이 필요한 경우. \n",
        "\n",
        "## Getting Started\n",
        "\n",
        "tensor는 NumPy의 ndarray와 유사하며, 추가로 GPU를 사용한 연산 가속도 가능하다."
      ]
    },
    {
      "cell_type": "code",
      "source": [
        "from __future__ import print_function\n",
        "import torch\n",
        "\n",
        "torch.__version__"
      ],
      "metadata": {
        "colab": {
          "base_uri": "https://localhost:8080/",
          "height": 35
        },
        "id": "19Oj84Pn7dxN",
        "outputId": "6d9fd401-a525-43ef-be5a-56deb7aa4636"
      },
      "execution_count": null,
      "outputs": [
        {
          "output_type": "execute_result",
          "data": {
            "text/plain": [
              "'1.12.1+cu113'"
            ],
            "application/vnd.google.colaboratory.intrinsic+json": {
              "type": "string"
            }
          },
          "metadata": {},
          "execution_count": 2
        }
      ]
    },
    {
      "cell_type": "markdown",
      "source": [
        "초기화 되지 않은 5x3 행렬 생성"
      ],
      "metadata": {
        "id": "YTGN5hdb8Fn0"
      }
    },
    {
      "cell_type": "code",
      "source": [
        "x = torch.empty(5,3)\n",
        "print(x)"
      ],
      "metadata": {
        "colab": {
          "base_uri": "https://localhost:8080/"
        },
        "id": "hmCy7EI18Ec9",
        "outputId": "0a33af1f-1fc3-42cc-9289-0e18d4f401ae"
      },
      "execution_count": null,
      "outputs": [
        {
          "output_type": "stream",
          "name": "stdout",
          "text": [
            "tensor([[8.4472e-35, 0.0000e+00, 3.3631e-44],\n",
            "        [0.0000e+00,        nan, 0.0000e+00],\n",
            "        [1.1578e+27, 1.1362e+30, 7.1547e+22],\n",
            "        [4.5828e+30, 1.2121e+04, 7.1846e+22],\n",
            "        [9.2198e-39, 7.0374e+22, 0.0000e+00]])\n"
          ]
        }
      ]
    },
    {
      "cell_type": "markdown",
      "source": [
        "무작위로 초기화 된 행렬 생성"
      ],
      "metadata": {
        "id": "290xQ9eR8XwG"
      }
    },
    {
      "cell_type": "code",
      "source": [
        "x = torch.randn(5,3)\n",
        "print(x)\n",
        "\n",
        "x = torch.rand(5,3)\n",
        "print(x)"
      ],
      "metadata": {
        "colab": {
          "base_uri": "https://localhost:8080/"
        },
        "id": "DcwWWXk58Vyk",
        "outputId": "9d0f8818-5782-418f-baef-0fb76446db85"
      },
      "execution_count": null,
      "outputs": [
        {
          "output_type": "stream",
          "name": "stdout",
          "text": [
            "tensor([[-0.1177, -0.0744, -0.8682],\n",
            "        [-1.2876,  1.5999, -0.1976],\n",
            "        [ 0.4303, -1.3419,  0.1220],\n",
            "        [-1.3445,  0.6327, -0.3568],\n",
            "        [ 0.0291, -1.0320,  0.5286]])\n",
            "tensor([[0.6371, 0.2361, 0.1910],\n",
            "        [0.5723, 0.8389, 0.9243],\n",
            "        [0.5389, 0.6901, 0.9777],\n",
            "        [0.3315, 0.3077, 0.2626],\n",
            "        [0.4068, 0.1487, 0.5437]])\n"
          ]
        }
      ]
    },
    {
      "cell_type": "markdown",
      "source": [
        "dtype이 long이고 0으로 채워진 행렬 생성"
      ],
      "metadata": {
        "id": "uKzI1_Lx8kIV"
      }
    },
    {
      "cell_type": "code",
      "source": [
        "x = torch.zeros(5, 3, dtype = torch.long)\n",
        "print(x)"
      ],
      "metadata": {
        "colab": {
          "base_uri": "https://localhost:8080/"
        },
        "id": "zdJIwjPC8i2U",
        "outputId": "f214d6bc-aebc-451e-e197-3350c780b686"
      },
      "execution_count": null,
      "outputs": [
        {
          "output_type": "stream",
          "name": "stdout",
          "text": [
            "tensor([[0, 0, 0],\n",
            "        [0, 0, 0],\n",
            "        [0, 0, 0],\n",
            "        [0, 0, 0],\n",
            "        [0, 0, 0]])\n"
          ]
        }
      ]
    },
    {
      "cell_type": "code",
      "source": [
        "x = torch.ones(5, 3, dtype=torch.long)\n",
        "print(x)"
      ],
      "metadata": {
        "colab": {
          "base_uri": "https://localhost:8080/"
        },
        "id": "731XfcsR80Nw",
        "outputId": "60ab85be-19fe-409d-e96b-7f22038ec943"
      },
      "execution_count": null,
      "outputs": [
        {
          "output_type": "stream",
          "name": "stdout",
          "text": [
            "tensor([[1, 1, 1],\n",
            "        [1, 1, 1],\n",
            "        [1, 1, 1],\n",
            "        [1, 1, 1],\n",
            "        [1, 1, 1]])\n"
          ]
        }
      ]
    },
    {
      "cell_type": "markdown",
      "source": [
        "데이터로 부터 tensor를 직접 생성"
      ],
      "metadata": {
        "id": "1ySOYrI286x6"
      }
    },
    {
      "cell_type": "code",
      "source": [
        "x = torch.tensor([5.5, 3])\n",
        "print(x)"
      ],
      "metadata": {
        "colab": {
          "base_uri": "https://localhost:8080/"
        },
        "id": "T64OoY3v85Q9",
        "outputId": "8f5760d3-e2ed-4a52-8c32-cb87cb1e1c07"
      },
      "execution_count": null,
      "outputs": [
        {
          "output_type": "stream",
          "name": "stdout",
          "text": [
            "tensor([5.5000, 3.0000])\n"
          ]
        }
      ]
    },
    {
      "cell_type": "markdown",
      "source": [
        "또는 존재하는 tensor를 바탕으로 tensor를 만든다. 이 메소드(method)들은 사용자로부터 제공된 새로운 값이 없는 한, 입력 tensor의 속성들(예, dtype)를 재사용한다."
      ],
      "metadata": {
        "id": "DymZRrzW9D-f"
      }
    },
    {
      "cell_type": "code",
      "source": [
        "x = x.new_ones(5, 3, dtype=torch.double) # new_* methods take in sizes\n",
        "print(x)\n",
        "\n",
        "x = torch.randn_like(x, dtype=torch.float)  # override dtype!\n",
        "print(x)                                    # result has the same size"
      ],
      "metadata": {
        "colab": {
          "base_uri": "https://localhost:8080/"
        },
        "id": "TU1nxPuX9CY_",
        "outputId": "cb1a722e-85ea-49c0-8ecc-39bacc7ef900"
      },
      "execution_count": null,
      "outputs": [
        {
          "output_type": "stream",
          "name": "stdout",
          "text": [
            "tensor([[1., 1., 1.],\n",
            "        [1., 1., 1.],\n",
            "        [1., 1., 1.],\n",
            "        [1., 1., 1.],\n",
            "        [1., 1., 1.]], dtype=torch.float64)\n",
            "tensor([[ 0.7606, -2.6408, -0.4516],\n",
            "        [-0.0837,  1.4243, -0.4723],\n",
            "        [-0.3101, -0.0658, -0.0149],\n",
            "        [ 1.9621, -1.6557, -0.4490],\n",
            "        [ 1.2055, -1.4121, -1.1780]])\n"
          ]
        }
      ]
    },
    {
      "cell_type": "markdown",
      "source": [
        "행렬의 크기 구하기"
      ],
      "metadata": {
        "id": "oaekjt9L9fBH"
      }
    },
    {
      "cell_type": "code",
      "source": [
        "print(x.size())\n",
        "print(x.shape)"
      ],
      "metadata": {
        "colab": {
          "base_uri": "https://localhost:8080/"
        },
        "id": "bWynyYLd9dcu",
        "outputId": "fbd97ba9-ef25-4d64-fe51-d4fdcc85a40b"
      },
      "execution_count": null,
      "outputs": [
        {
          "output_type": "stream",
          "name": "stdout",
          "text": [
            "torch.Size([5, 3])\n",
            "torch.Size([5, 3])\n"
          ]
        }
      ]
    },
    {
      "cell_type": "markdown",
      "source": [
        "덧셈 : 문법1"
      ],
      "metadata": {
        "id": "9PW6J6Ks-FRx"
      }
    },
    {
      "cell_type": "code",
      "source": [
        "y = torch.rand(5, 3)\n",
        "print(x)\n",
        "print(y)\n",
        "print(x + y)"
      ],
      "metadata": {
        "colab": {
          "base_uri": "https://localhost:8080/"
        },
        "id": "iCaHn7b--HLJ",
        "outputId": "d375e870-58c5-48b8-c84e-05a0f94efbb6"
      },
      "execution_count": null,
      "outputs": [
        {
          "output_type": "stream",
          "name": "stdout",
          "text": [
            "tensor([[ 0.7606, -2.6408, -0.4516],\n",
            "        [-0.0837,  1.4243, -0.4723],\n",
            "        [-0.3101, -0.0658, -0.0149],\n",
            "        [ 1.9621, -1.6557, -0.4490],\n",
            "        [ 1.2055, -1.4121, -1.1780]])\n",
            "tensor([[0.1065, 0.1293, 0.5893],\n",
            "        [0.5779, 0.3454, 0.4529],\n",
            "        [0.6527, 0.5052, 0.0562],\n",
            "        [0.4371, 0.6941, 0.0718],\n",
            "        [0.4961, 0.2165, 0.0087]])\n",
            "tensor([[ 0.8671, -2.5114,  0.1376],\n",
            "        [ 0.4942,  1.7697, -0.0194],\n",
            "        [ 0.3427,  0.4394,  0.0413],\n",
            "        [ 2.3992, -0.9617, -0.3772],\n",
            "        [ 1.7016, -1.1957, -1.1693]])\n"
          ]
        }
      ]
    },
    {
      "cell_type": "markdown",
      "source": [
        "덧셈 : 문법2"
      ],
      "metadata": {
        "id": "6l6C49cj-Wva"
      }
    },
    {
      "cell_type": "code",
      "source": [
        "print(torch.add(x, y))"
      ],
      "metadata": {
        "colab": {
          "base_uri": "https://localhost:8080/"
        },
        "id": "mylQSlkn-QKJ",
        "outputId": "89a4ea92-e89d-4b34-f753-69b9031ad9d3"
      },
      "execution_count": null,
      "outputs": [
        {
          "output_type": "stream",
          "name": "stdout",
          "text": [
            "tensor([[ 0.8671, -2.5114,  0.1376],\n",
            "        [ 0.4942,  1.7697, -0.0194],\n",
            "        [ 0.3427,  0.4394,  0.0413],\n",
            "        [ 2.3992, -0.9617, -0.3772],\n",
            "        [ 1.7016, -1.1957, -1.1693]])\n"
          ]
        }
      ]
    },
    {
      "cell_type": "markdown",
      "source": [
        "덧셈 : 결과 tensor를 인자로 제공"
      ],
      "metadata": {
        "id": "1xW9MBXG-cZ-"
      }
    },
    {
      "cell_type": "code",
      "source": [
        "result = torch.empty(5,3)\n",
        "print(result)\n",
        "\n",
        "torch.add(x, y, out = result)\n",
        "print(result)"
      ],
      "metadata": {
        "colab": {
          "base_uri": "https://localhost:8080/"
        },
        "id": "PZSpkPvE-ai8",
        "outputId": "850e2f45-20de-4561-f90f-7cde5ebd115e"
      },
      "execution_count": null,
      "outputs": [
        {
          "output_type": "stream",
          "name": "stdout",
          "text": [
            "tensor([[ 8.4494e-35,  0.0000e+00,  4.4842e-44],\n",
            "        [ 0.0000e+00,         nan,  1.6255e-43],\n",
            "        [ 1.0948e+21,  9.2868e-04,  1.3556e-19],\n",
            "        [ 9.8864e-33,  1.0008e+01,  5.5095e+11],\n",
            "        [ 7.6510e-39,  0.0000e+00, -1.1693e+00]])\n",
            "tensor([[ 0.8671, -2.5114,  0.1376],\n",
            "        [ 0.4942,  1.7697, -0.0194],\n",
            "        [ 0.3427,  0.4394,  0.0413],\n",
            "        [ 2.3992, -0.9617, -0.3772],\n",
            "        [ 1.7016, -1.1957, -1.1693]])\n"
          ]
        }
      ]
    },
    {
      "cell_type": "markdown",
      "source": [
        "덧셈 : 바꿔치기 (In-place) 방식"
      ],
      "metadata": {
        "id": "O6ag1kG2-v95"
      }
    },
    {
      "cell_type": "code",
      "source": [
        "# adds x to y\n",
        "\n",
        "print(y)\n",
        "y.add_(x)\n",
        "print(y)"
      ],
      "metadata": {
        "colab": {
          "base_uri": "https://localhost:8080/"
        },
        "id": "zEJ5Alt0-rm6",
        "outputId": "b6d80160-8141-49de-eb69-b6b4063bf6ab"
      },
      "execution_count": null,
      "outputs": [
        {
          "output_type": "stream",
          "name": "stdout",
          "text": [
            "tensor([[0.1065, 0.1293, 0.5893],\n",
            "        [0.5779, 0.3454, 0.4529],\n",
            "        [0.6527, 0.5052, 0.0562],\n",
            "        [0.4371, 0.6941, 0.0718],\n",
            "        [0.4961, 0.2165, 0.0087]])\n",
            "tensor([[ 0.8671, -2.5114,  0.1376],\n",
            "        [ 0.4942,  1.7697, -0.0194],\n",
            "        [ 0.3427,  0.4394,  0.0413],\n",
            "        [ 2.3992, -0.9617, -0.3772],\n",
            "        [ 1.7016, -1.1957, -1.1693]])\n"
          ]
        }
      ]
    },
    {
      "cell_type": "markdown",
      "source": [
        "Note\n",
        "바꿔치기(In-place)방식으로 tensor의 값을 변경하는 연산은 _를 접미사로 갖는다.\n",
        "예 : x.copy_(y), x.t_()는 x를 변경\n",
        "NumPy스러운 인덱싱 표기 방법을 사용할 수도 있다."
      ],
      "metadata": {
        "id": "7_qXgZUW-9VA"
      }
    },
    {
      "cell_type": "code",
      "source": [
        "print(x)\n",
        "print(x[:,1])"
      ],
      "metadata": {
        "colab": {
          "base_uri": "https://localhost:8080/"
        },
        "id": "O5pMXt-u_TPu",
        "outputId": "5e2b3afb-5931-48c9-ef44-3ab862113abe"
      },
      "execution_count": null,
      "outputs": [
        {
          "output_type": "stream",
          "name": "stdout",
          "text": [
            "tensor([[ 0.7606, -2.6408, -0.4516],\n",
            "        [-0.0837,  1.4243, -0.4723],\n",
            "        [-0.3101, -0.0658, -0.0149],\n",
            "        [ 1.9621, -1.6557, -0.4490],\n",
            "        [ 1.2055, -1.4121, -1.1780]])\n",
            "tensor([-2.6408,  1.4243, -0.0658, -1.6557, -1.4121])\n"
          ]
        }
      ]
    },
    {
      "cell_type": "markdown",
      "source": [
        "크기 변경: tensor의 크기(size)나 모양(shape)을 변경하고 싶다면 torch.view를 사용"
      ],
      "metadata": {
        "id": "ZoSJGBuM_bp3"
      }
    },
    {
      "cell_type": "code",
      "source": [
        "import torch\n",
        "\n",
        "x = torch.randn(4, 4)\n",
        "print(x)\n",
        "\n",
        "y = x.view(16)\n",
        "z = y.view(-1,2) # the size -1 is inferred from other dimensions\n",
        "print(y)\n",
        "print(z)\n",
        "print(y.size(), z.size())"
      ],
      "metadata": {
        "colab": {
          "base_uri": "https://localhost:8080/"
        },
        "id": "daHUTW60_YtN",
        "outputId": "7994a721-aaeb-4070-9532-c9226db603cc"
      },
      "execution_count": null,
      "outputs": [
        {
          "output_type": "stream",
          "name": "stdout",
          "text": [
            "tensor([[ 0.8279,  2.3514, -0.3649, -0.9402],\n",
            "        [-0.0713, -1.1328,  1.1920,  0.5220],\n",
            "        [ 0.1158,  0.5057, -0.3647,  1.0930],\n",
            "        [-0.3609, -0.7821, -0.1155,  1.2848]])\n",
            "tensor([ 0.8279,  2.3514, -0.3649, -0.9402, -0.0713, -1.1328,  1.1920,  0.5220,\n",
            "         0.1158,  0.5057, -0.3647,  1.0930, -0.3609, -0.7821, -0.1155,  1.2848])\n",
            "tensor([[ 0.8279,  2.3514],\n",
            "        [-0.3649, -0.9402],\n",
            "        [-0.0713, -1.1328],\n",
            "        [ 1.1920,  0.5220],\n",
            "        [ 0.1158,  0.5057],\n",
            "        [-0.3647,  1.0930],\n",
            "        [-0.3609, -0.7821],\n",
            "        [-0.1155,  1.2848]])\n",
            "torch.Size([16]) torch.Size([8, 2])\n"
          ]
        }
      ]
    },
    {
      "cell_type": "markdown",
      "source": [
        "만약 tensor에 하나의 값만 존재한다면, `.item()`을 사용하면 숫자값을 얻을 수 있다."
      ],
      "metadata": {
        "id": "WNMhfmRS_6OS"
      }
    },
    {
      "cell_type": "code",
      "source": [
        "x = torch.randn(1)\n",
        "print(x)\n",
        "\n",
        "print(type(x), type(x.item()))\n",
        "print(x.item())"
      ],
      "metadata": {
        "colab": {
          "base_uri": "https://localhost:8080/"
        },
        "id": "hIf-PEKsAB6R",
        "outputId": "c9f174fe-1568-46a7-a833-cedfa07e0e35"
      },
      "execution_count": null,
      "outputs": [
        {
          "output_type": "stream",
          "name": "stdout",
          "text": [
            "tensor([-1.7275])\n",
            "<class 'torch.Tensor'> <class 'float'>\n",
            "-1.72751784324646\n"
          ]
        }
      ]
    },
    {
      "cell_type": "markdown",
      "source": [
        "**읽을 거리**\n",
        "전치(transposiong), 인덱싱(indexing), 슬라이싱(slising), 수학계산, 선형대수, 난수(random number) 등과 같은 100가지 이상의 Tensor연산은 <http://pytorch.org/docs/torch>에 설명되어있다."
      ],
      "metadata": {
        "id": "0NSchh_LAtSL"
      }
    },
    {
      "cell_type": "markdown",
      "source": [
        "## NumPy 변환(Bridge)\n",
        "Torch Tensor를 NumPy 배열(array)로 변환하거나, 그 반대로 하는 것은 매우 쉽다.\n",
        "(CPU 상의)Torch Tensor와 NumPy배열은 저장 공간을 공유하기 때문에, 하나를 변경하면 다른 하나도 벼경된다.\n",
        "- Torch Tensor를 NumPy 배열로 변환하기"
      ],
      "metadata": {
        "id": "7LKbPDR9BFfI"
      }
    },
    {
      "cell_type": "code",
      "source": [
        "a = torch.ones(5)\n",
        "print(a)"
      ],
      "metadata": {
        "colab": {
          "base_uri": "https://localhost:8080/"
        },
        "id": "f6v3qk7DAkJX",
        "outputId": "789af484-26da-4d40-b629-95a2e092e78b"
      },
      "execution_count": null,
      "outputs": [
        {
          "output_type": "stream",
          "name": "stdout",
          "text": [
            "tensor([1., 1., 1., 1., 1.])\n"
          ]
        }
      ]
    },
    {
      "cell_type": "code",
      "source": [
        "b = a.numpy()\n",
        "print(b)"
      ],
      "metadata": {
        "colab": {
          "base_uri": "https://localhost:8080/"
        },
        "id": "JItT8nVeBeyr",
        "outputId": "e8d53c24-3144-4357-e7a5-f5f80822501f"
      },
      "execution_count": null,
      "outputs": [
        {
          "output_type": "stream",
          "name": "stdout",
          "text": [
            "[1. 1. 1. 1. 1.]\n"
          ]
        }
      ]
    },
    {
      "cell_type": "markdown",
      "source": [
        "Numpy 배열의 값이 어떻게 변하는지 확인\n"
      ],
      "metadata": {
        "id": "zEn4i72bBkBQ"
      }
    },
    {
      "cell_type": "code",
      "source": [
        "a.add_(1)\n",
        "print(a)\n",
        "print(b)"
      ],
      "metadata": {
        "colab": {
          "base_uri": "https://localhost:8080/"
        },
        "id": "2Jw67n_ZBiUQ",
        "outputId": "53afd02a-9c27-4d7e-bc5b-f6dd4dc7b548"
      },
      "execution_count": null,
      "outputs": [
        {
          "output_type": "stream",
          "name": "stdout",
          "text": [
            "tensor([2., 2., 2., 2., 2.])\n",
            "[2. 2. 2. 2. 2.]\n"
          ]
        }
      ]
    },
    {
      "cell_type": "code",
      "source": [
        "temp = a.clone()\n",
        "temp_numpy = temp.numpy()\n",
        "\n",
        "a.add_(1)\n",
        "print(a)\n",
        "print(temp_numpy)"
      ],
      "metadata": {
        "colab": {
          "base_uri": "https://localhost:8080/"
        },
        "id": "l2wqH1hTBsAL",
        "outputId": "ac2eae9d-b30e-475c-91b9-59edca0be3b7"
      },
      "execution_count": null,
      "outputs": [
        {
          "output_type": "stream",
          "name": "stdout",
          "text": [
            "tensor([3., 3., 3., 3., 3.])\n",
            "[2. 2. 2. 2. 2.]\n"
          ]
        }
      ]
    },
    {
      "cell_type": "markdown",
      "source": [
        "- NumPy 배열을 Torch Tensor로 변환하기\n",
        "\n",
        "NumPy(np) 배열을 변경하면 Troch Tensor의 값도 자동 변경되는 것을 확인 할 수 있다."
      ],
      "metadata": {
        "id": "C-XLSmIrB232"
      }
    },
    {
      "cell_type": "code",
      "source": [
        "import numpy as np\n",
        "a = np.ones(5)\n",
        "print(a)\n",
        "b = torch.from_numpy(a)\n",
        "np.add(a, 1, out=a)\n",
        "print(a)\n",
        "print(b)"
      ],
      "metadata": {
        "colab": {
          "base_uri": "https://localhost:8080/"
        },
        "id": "MmMiXwraB2Ef",
        "outputId": "e5297d52-4382-4f8d-de48-ec5f901953b5"
      },
      "execution_count": null,
      "outputs": [
        {
          "output_type": "stream",
          "name": "stdout",
          "text": [
            "[1. 1. 1. 1. 1.]\n",
            "[2. 2. 2. 2. 2.]\n",
            "tensor([2., 2., 2., 2., 2.], dtype=torch.float64)\n"
          ]
        }
      ]
    },
    {
      "cell_type": "markdown",
      "source": [
        "CharTensor를 제외한 CPU 상의 모든 Tensor는 NumPy로의 변환을 지원하며, (NumPy에서 Tensor로의)반대 변환도 지원"
      ],
      "metadata": {
        "id": "gyQlBeBdCTkc"
      }
    },
    {
      "cell_type": "markdown",
      "source": [
        "## CUDA Tensors\n",
        "`.to`메소드를 사용하여 Tensor를 어떠한 장치로도 옮길 수 있다"
      ],
      "metadata": {
        "id": "XROxi26UCgLR"
      }
    },
    {
      "cell_type": "code",
      "source": [
        "import torch\n",
        "\n",
        "# 이 코드는 CUDA가 사용 가능한 환경에서만 실행한다.\n",
        "# ``torch.device``를 사용하여 tensor를 GPU 안 팎으로 이동하기\n",
        "\n",
        "x = torch.rand(4,4)\n",
        "if torch.cuda.is_available():\n",
        "  device = \"cuda:0\" # torch.device(\"cuda:0\")   # CUDA 장치 객치 (device object)로\n",
        "  y = torch.ones_like(x, device = device) # GPU 상에 직접적으로 tensor를 생성하거나\n",
        "  print(y)\n",
        "\n",
        "  x = x.to(device)                        # ``.to(\"cuda\")``를 사용하면 된다.\n",
        "  z = x + y\n",
        "  print(z)\n",
        "  print(z.to(\"cpu\", torch.double))        # ``.to``는 dtype도 함께 변경한다.!"
      ],
      "metadata": {
        "colab": {
          "base_uri": "https://localhost:8080/"
        },
        "id": "JIJlwyHhCSNl",
        "outputId": "e7a4ed1b-b80b-4b90-cfda-c4bdd8af7408"
      },
      "execution_count": null,
      "outputs": [
        {
          "output_type": "stream",
          "name": "stdout",
          "text": [
            "tensor([[1., 1., 1., 1.],\n",
            "        [1., 1., 1., 1.],\n",
            "        [1., 1., 1., 1.],\n",
            "        [1., 1., 1., 1.]], device='cuda:0')\n",
            "tensor([[1.0394, 1.2554, 1.7072, 1.9231],\n",
            "        [1.3219, 1.2982, 1.1669, 1.2017],\n",
            "        [1.9653, 1.1951, 1.9332, 1.3154],\n",
            "        [1.0173, 1.1453, 1.0042, 1.5964]], device='cuda:0')\n",
            "tensor([[1.0394, 1.2554, 1.7072, 1.9231],\n",
            "        [1.3219, 1.2982, 1.1669, 1.2017],\n",
            "        [1.9653, 1.1951, 1.9332, 1.3154],\n",
            "        [1.0173, 1.1453, 1.0042, 1.5964]], dtype=torch.float64)\n"
          ]
        }
      ]
    },
    {
      "cell_type": "code",
      "source": [
        "x = x.cuda()"
      ],
      "metadata": {
        "id": "coMDaz5VDaam"
      },
      "execution_count": null,
      "outputs": []
    },
    {
      "cell_type": "code",
      "source": [
        ""
      ],
      "metadata": {
        "id": "9mUfHg4nEBVH"
      },
      "execution_count": null,
      "outputs": []
    }
  ],
  "metadata": {
    "kernelspec": {
      "display_name": "Python 3",
      "language": "python",
      "name": "python3"
    },
    "language_info": {
      "codemirror_mode": {
        "name": "ipython",
        "version": 3
      },
      "file_extension": ".py",
      "mimetype": "text/x-python",
      "name": "python",
      "nbconvert_exporter": "python",
      "pygments_lexer": "ipython3",
      "version": "3.8.5"
    },
    "colab": {
      "name": "Pytorch 실습.ipynb",
      "provenance": [],
      "collapsed_sections": []
    },
    "accelerator": "GPU",
    "gpuClass": "standard"
  },
  "nbformat": 4,
  "nbformat_minor": 0
}