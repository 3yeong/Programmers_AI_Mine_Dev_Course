{
 "cells": [
  {
   "cell_type": "markdown",
   "metadata": {
    "id": "6Ew5j0LPn8ac"
   },
   "source": [
    "*이탤릭체 텍스트*# PART 1"
   ]
  },
  {
   "cell_type": "markdown",
   "metadata": {
    "id": "snhtDe1N7zcw"
   },
   "source": [
    "14 페이지"
   ]
  },
  {
   "cell_type": "code",
   "execution_count": null,
   "metadata": {
    "id": "-DJUoZog7KRh"
   },
   "outputs": [],
   "source": [
    "def insert(pos, elem) :\t\t\n",
    "   items.insert(pos, elem)\t\n",
    "\n",
    "def delete(pos) :\t\t   \n",
    "   items.pop(pos)\t\t   \n",
    "\n",
    "def getEntry(pos): return items[pos]\t\n",
    "\n",
    "def isEmpty( ):\n",
    "    if len(items) == 0 :\n",
    "        return True\t\t\n",
    "    else :\t\t\t\t\n",
    "        return False\t\n",
    "\n",
    "#def isEmpty( ): return len(items) == 0\t\n",
    "\n",
    "def size( ):\t    return len(items)\t\n",
    "def clear( ):      global items; items = []\t\t       \n",
    "\n",
    "def find(item) : return items.index(item)\t\n",
    "def replace(pos, elem): items[pos] = elem\t\n",
    "def sort() : items.sort()\t\t\t\n",
    "def merge(lst) : items.extend(lst)\t\n",
    "\n",
    "def display(msg='ArrayList:' ):\t\t\n",
    "    print(msg, size(), items)\t\t\n"
   ]
  },
  {
   "cell_type": "code",
   "execution_count": null,
   "metadata": {
    "colab": {
     "base_uri": "https://localhost:8080/"
    },
    "id": "OqwDP_4w8F_4",
    "outputId": "c5495edc-6fa3-48d8-8672-e8e607a2dfac"
   },
   "outputs": [
    {
     "name": "stdout",
     "output_type": "stream",
     "text": [
      "파이썬 리스트로 구현한 리스트 테스트 0 []\n",
      "파이썬 리스트로 구현한 List(삽입x5):  5 [20, 30, 50, 10, 40]\n",
      "파이썬 리스트로 구현한 List(정렬후):  5 [10, 20, 30, 40, 50]\n",
      "파이썬 리스트로 구현한 List(교체x1):  5 [10, 20, 90, 40, 50]\n",
      "파이썬 리스트로 구현한 List(삭제x3):  2 [20, 40]\n",
      "파이썬 리스트로 구현한 List(병합+3):  5 [20, 40, 1, 2, 3]\n",
      "파이썬 리스트로 구현한 List(정리후):  0 []\n"
     ]
    }
   ],
   "source": [
    "items = []\t\t\t       \n",
    "display('파이썬 리스트로 구현한 리스트 테스트')\n",
    "insert(0, 10);\t\tinsert(0, 20);    insert(1, 30)\n",
    "insert(size(), 40);\tinsert(2, 50)\n",
    "display(\"파이썬 리스트로 구현한 List(삽입x5): \")\n",
    "sort()\n",
    "display(\"파이썬 리스트로 구현한 List(정렬후): \")\n",
    "replace(2, 90)\n",
    "display(\"파이썬 리스트로 구현한 List(교체x1): \")\n",
    "delete(2);\tdelete(size() - 1);\tdelete(0)\n",
    "display(\"파이썬 리스트로 구현한 List(삭제x3): \")\n",
    "lst = [ 1, 2, 3 ]\n",
    "merge(lst)\n",
    "display(\"파이썬 리스트로 구현한 List(병합+3): \")\n",
    "clear()\n",
    "display(\"파이썬 리스트로 구현한 List(정리후): \")"
   ]
  },
  {
   "cell_type": "code",
   "execution_count": null,
   "metadata": {
    "colab": {
     "base_uri": "https://localhost:8080/"
    },
    "id": "T9vGdT0XJrjp",
    "outputId": "e3c9dce1-6f97-4120-9fb8-c1e914337c28"
   },
   "outputs": [
    {
     "name": "stdout",
     "output_type": "stream",
     "text": [
      "0\n",
      "1\n",
      "2\n",
      "=================\n",
      "0번부터 1개:  0\n",
      "마지막글자 1개 제거:  012345678\n",
      "처음 2글자, 맨끝에 한글자, 2글자씩 건너뛰어 출력 : 2468\n"
     ]
    }
   ],
   "source": [
    "for i in range(0,3):\n",
    "  print(i)\n",
    "\n",
    "print('=================')\n",
    "str = \"0123456789\"\n",
    "print ('0번부터 1개: ', str[:1])\n",
    "print ('마지막글자 1개 제거: ', str[:-1])\n",
    "print ('처음 2글자, 맨끝에 한글자, 2글자씩 건너뛰어 출력 :',str[2:-1:2])"
   ]
  },
  {
   "cell_type": "markdown",
   "metadata": {
    "id": "pxWpiRcs872Q"
   },
   "source": [
    "21 페이지"
   ]
  },
  {
   "cell_type": "code",
   "execution_count": null,
   "metadata": {
    "id": "4Xv5BbOf8og_"
   },
   "outputs": [],
   "source": [
    "def selection_sort(arr):\n",
    "    for i in range(len(arr) - 1):\n",
    "        min_idx = i\n",
    "        for j in range(i + 1, len(arr)):\n",
    "            if arr[j] < arr[min_idx]:\n",
    "                min_idx = j\n",
    "        arr[i], arr[min_idx] = arr[min_idx], arr[i]\n",
    "        # print('i:', i, ',j:',j, 'minidx:', min_idx)\n",
    "    return arr"
   ]
  },
  {
   "cell_type": "code",
   "execution_count": null,
   "metadata": {
    "colab": {
     "base_uri": "https://localhost:8080/"
    },
    "id": "_CP-k_ks8qT2",
    "outputId": "c4bb0181-4eca-4ed1-e09f-dc8eb0229de1"
   },
   "outputs": [
    {
     "name": "stdout",
     "output_type": "stream",
     "text": [
      "[1, 2, 3, 4, 5, 6, 7, 8, 9]\n"
     ]
    }
   ],
   "source": [
    "list = [5,3,8,4,9,1,6,2,7]\n",
    "print(selection_sort(list))"
   ]
  },
  {
   "cell_type": "markdown",
   "metadata": {
    "id": "5HCZiKbL98PN"
   },
   "source": [
    "23 페이지"
   ]
  },
  {
   "cell_type": "code",
   "execution_count": null,
   "metadata": {
    "id": "5KLxSve49Kff"
   },
   "outputs": [],
   "source": [
    "def insertion_sort(arr):\n",
    "    for end in range(1, len(arr)):\n",
    "        for i in range(end, 0, -1):\n",
    "            if arr[i - 1] > arr[i]:\n",
    "                arr[i - 1], arr[i] = arr[i], arr[i - 1]\n",
    "            # print('i:', i, ',end:',end)\n",
    "    return arr"
   ]
  },
  {
   "cell_type": "code",
   "execution_count": null,
   "metadata": {
    "colab": {
     "base_uri": "https://localhost:8080/"
    },
    "id": "7Xhf_0Tx9PVh",
    "outputId": "ecf78a09-105b-4bd3-cbb4-d9a127878db2"
   },
   "outputs": [
    {
     "name": "stdout",
     "output_type": "stream",
     "text": [
      "[1, 2, 3, 4, 5, 6, 7, 8, 9]\n"
     ]
    }
   ],
   "source": [
    "list = [5,3,8,4,9,1,6,2,7]\n",
    "print(insertion_sort(list))"
   ]
  },
  {
   "cell_type": "markdown",
   "metadata": {
    "id": "g7c-5Nkl9-3t"
   },
   "source": [
    "25 페이지"
   ]
  },
  {
   "cell_type": "code",
   "execution_count": null,
   "metadata": {
    "id": "ykVU-VlA94gY"
   },
   "outputs": [],
   "source": [
    "def bubble_sort(arr):\n",
    "    for i in range(len(arr) - 1, 0, -1):\n",
    "        for j in range(i):\n",
    "            if arr[j] > arr[j + 1]:\n",
    "                arr[j], arr[j + 1] = arr[j + 1], arr[j]\n",
    "            # print('i:', i, ',j:',j)\n",
    "        \n",
    "    return arr"
   ]
  },
  {
   "cell_type": "code",
   "execution_count": null,
   "metadata": {
    "colab": {
     "base_uri": "https://localhost:8080/"
    },
    "id": "kDhArn9r-RgB",
    "outputId": "5daf29ce-b33f-43dd-a26b-713892fa6700"
   },
   "outputs": [
    {
     "name": "stdout",
     "output_type": "stream",
     "text": [
      "[1, 2, 3, 4, 5, 6, 7, 8, 9]\n"
     ]
    }
   ],
   "source": [
    "list = [5,3,8,4,9,1,6,2,7]\n",
    "print(bubble_sort(list))"
   ]
  },
  {
   "cell_type": "markdown",
   "metadata": {
    "id": "xy1clAcm-m_O"
   },
   "source": [
    "29 페이지"
   ]
  },
  {
   "cell_type": "code",
   "execution_count": null,
   "metadata": {
    "colab": {
     "base_uri": "https://localhost:8080/"
    },
    "id": "TRrgdevv-qDD",
    "outputId": "3c2f781c-b37e-4ad6-bbe9-222ecdc14709"
   },
   "outputs": [
    {
     "name": "stdout",
     "output_type": "stream",
     "text": [
      "2\n",
      "3\n",
      "-1\n",
      "0\n"
     ]
    }
   ],
   "source": [
    "# 리스트에서 특정 숫자 위치 찾기\n",
    "# 입력: 리스트 a, 찾는 값 x \n",
    "# 출력: 찾으면 그 값의 위치, 찾지 못하면 -1\n",
    "\n",
    "def search_list(a, x):\n",
    "    n = len(a)              # 입력 크기 n\n",
    "    for i in range(0, n):   # 리스트 a의 모든 값을 차례로\n",
    "        if x == a[i]:       # x 값과 비교하여\n",
    "            return i        # 같으면 위치 돌려줍니다.\n",
    "\n",
    "    return -1   # 끝까지 비교해서 없으면 -1을 돌려줍니다.\n",
    "\n",
    "v = [17, 92, 18, 33, 58, 7, 33, 42]\n",
    "print(search_list(v, 18))   # 2(순서상 세 번째지만, 위치 번호는 2)\n",
    "print(search_list(v, 33))   # 3(33은 리스트에 두 번 나오지만 처음 나온 위치만 출력)\n",
    "print(search_list(v, 900))  # -1(900은 리스트에 없음)"
   ]
  },
  {
   "cell_type": "markdown",
   "metadata": {
    "id": "HG1gTz27OAm4"
   },
   "source": [
    "31 페이지"
   ]
  },
  {
   "cell_type": "code",
   "execution_count": null,
   "metadata": {
    "id": "YopWqoslOCzv"
   },
   "outputs": [],
   "source": [
    "def binary_search(arr, value):\n",
    "    first, last = 0, len(arr)\n",
    "\n",
    "    while first <= last:\n",
    "        mid = (first + last) // 2\n",
    "        print('mid:', mid, ', value:', value)\n",
    "        if arr[mid] == value:\n",
    "            return mid\n",
    "        if arr[mid] > value:\n",
    "            last = mid - 1\n",
    "        else:\n",
    "            first = mid + 1\n",
    "        "
   ]
  },
  {
   "cell_type": "code",
   "execution_count": null,
   "metadata": {
    "colab": {
     "base_uri": "https://localhost:8080/"
    },
    "id": "DNLMF6lmOHyG",
    "outputId": "65328f87-7790-45c3-d020-9b2e7f4e523c"
   },
   "outputs": [
    {
     "name": "stdout",
     "output_type": "stream",
     "text": [
      "mid: 5 , value: 6\n",
      "5 6\n"
     ]
    }
   ],
   "source": [
    "arr = [1, 2, 3, 4, 5, 6, 7, 8, 9, 10]\n",
    "result_index = binary_search(arr, 6)\n",
    "print(result_index, arr[result_index])"
   ]
  },
  {
   "cell_type": "markdown",
   "metadata": {
    "id": "3mbu7wBvO5g-"
   },
   "source": [
    "38 페이지"
   ]
  },
  {
   "cell_type": "code",
   "execution_count": null,
   "metadata": {
    "id": "SVeh2VRGP7wy"
   },
   "outputs": [],
   "source": [
    "def contains(bag, e) :\n",
    "    return e in bag\t\t\n",
    "\n",
    "def append(bag, e) :\n",
    "    # print('APPEND')\n",
    "    bag.append(e)\t\n",
    "\n",
    "def insert(bag, e) :\n",
    "    # print('INSERT')\n",
    "    bag.insert(0, e)\t\n",
    "\n",
    "def remove(bag, e) :\t\n",
    "    bag.remove(e)\t\t\n",
    "\n",
    "def count(bag):\t\t  \n",
    "    return len(bag)\t\t"
   ]
  },
  {
   "cell_type": "code",
   "execution_count": null,
   "metadata": {
    "colab": {
     "base_uri": "https://localhost:8080/"
    },
    "id": "Rmg4Q5--Pzkl",
    "outputId": "508e6819-f430-4dd0-fe3b-63c4eaa9cc99"
   },
   "outputs": [
    {
     "name": "stdout",
     "output_type": "stream",
     "text": [
      "insert : 0.025887012481689453  sec\n",
      "append :  0.0019519329071044922  sec\n"
     ]
    }
   ],
   "source": [
    "import time\t\t\t\n",
    "\n",
    "myBag = []\t\t\n",
    "\n",
    "start = time.time()\t\t\n",
    "\n",
    "for i in range(10000):\n",
    "    insert(myBag, '축구공')\t\n",
    "# ...\n",
    "end = time.time()\t\t\n",
    "print('insert :', end-start,' sec')\n",
    "\n",
    "myBag = []\n",
    "\n",
    "start = time.time()\t\t\n",
    "\n",
    "for i in range(10000):\n",
    "    append(myBag, '농구공')\t\n",
    "# ...\n",
    "end = time.time()\t\n",
    "print('append : ', end-start,' sec')"
   ]
  },
  {
   "cell_type": "markdown",
   "metadata": {
    "id": "t90ImmwCQcV9"
   },
   "source": [
    "39 페이지"
   ]
  },
  {
   "cell_type": "code",
   "execution_count": null,
   "metadata": {
    "colab": {
     "base_uri": "https://localhost:8080/"
    },
    "id": "5T6O8bUSQenn",
    "outputId": "d520830e-0bc2-45ed-a498-fe800465f5e9"
   },
   "outputs": [
    {
     "name": "stdout",
     "output_type": "stream",
     "text": [
      "count1:  0 ,count2:  10 ,count3:  100\n"
     ]
    }
   ],
   "source": [
    "count=0\n",
    "count2=0\n",
    "count3=0\n",
    "\n",
    "n=10\n",
    "sum = n*n\n",
    "\n",
    "for i in range(n):\n",
    "    sum += n\n",
    "    count2+=1\n",
    "\n",
    "for i in range(n):\n",
    "    for j in range(n):\n",
    "        sum += n\n",
    "        count3+=1\n",
    "\n",
    "print('count1: ', count, ',count2: ', count2, ',count3: ', count3)"
   ]
  },
  {
   "cell_type": "markdown",
   "metadata": {
    "id": "H8V8xz_LQohU"
   },
   "source": [
    "44 페이지"
   ]
  },
  {
   "cell_type": "code",
   "execution_count": null,
   "metadata": {
    "colab": {
     "base_uri": "https://localhost:8080/"
    },
    "id": "ArZZVI5hQsBV",
    "outputId": "5d480fed-6485-4399-f921-c3050e9372c3"
   },
   "outputs": [
    {
     "name": "stdout",
     "output_type": "stream",
     "text": [
      "65536.0\n"
     ]
    }
   ],
   "source": [
    "def power_iter(x, n) : \t\t \n",
    "    result = 1.0\n",
    "    for i in range(n):\t\t\n",
    "        result = result * x\n",
    "    return result\n",
    "\n",
    "def power(x, n) :\n",
    "    if n == 0 : return 1\n",
    "    elif (n % 2) == 0 :\t\t\t      \n",
    "        return power(x*x, n//2)\t\t  \n",
    "    else :\n",
    "        return x * power(x*x, (n-1)//2)\n",
    "\n",
    "\n",
    "# print(power(2,16))\n",
    "print(power_iter(2,16))"
   ]
  },
  {
   "cell_type": "markdown",
   "metadata": {
    "id": "sKO0WX4LQ_4Z"
   },
   "source": [
    "46 페이지"
   ]
  },
  {
   "cell_type": "markdown",
   "metadata": {
    "id": "zpP5MibWjh1k"
   },
   "source": [
    "반복문"
   ]
  },
  {
   "cell_type": "code",
   "execution_count": null,
   "metadata": {
    "colab": {
     "base_uri": "https://localhost:8080/"
    },
    "id": "-C1w4D3RRBmF",
    "outputId": "aaa5a98e-9468-43e1-eb3d-1618124e9345"
   },
   "outputs": [
    {
     "data": {
      "text/plain": [
       "12586269025"
      ]
     },
     "execution_count": 46,
     "metadata": {},
     "output_type": "execute_result"
    }
   ],
   "source": [
    "def fib(n):\n",
    "    _curr, _next = 0, 1\n",
    "    for _ in range(n):\n",
    "        _curr, _next = _next, _curr + _next\n",
    "    return _curr\n",
    "\n",
    "fib(50)"
   ]
  },
  {
   "cell_type": "markdown",
   "metadata": {
    "id": "f-5u_RjBjlcT"
   },
   "source": [
    "재귀"
   ]
  },
  {
   "cell_type": "code",
   "execution_count": null,
   "metadata": {
    "colab": {
     "base_uri": "https://localhost:8080/"
    },
    "id": "lytVlTzXjmzS",
    "outputId": "9583d871-7c55-48bb-c02d-e3f3f9a974a6"
   },
   "outputs": [
    {
     "data": {
      "text/plain": [
       "832040"
      ]
     },
     "execution_count": 45,
     "metadata": {},
     "output_type": "execute_result"
    }
   ],
   "source": [
    "def fib(n):\n",
    "    if n == 0:\n",
    "        return 0\n",
    "    elif n == 1 or n == 2:\n",
    "        return 1\n",
    "    else:\n",
    "        return fib(n - 1) + fib(n - 2)\n",
    "\n",
    "fib(30)"
   ]
  },
  {
   "cell_type": "markdown",
   "metadata": {
    "id": "AO9ucAPRjsK8"
   },
   "source": [
    "메모이제이션(Memoization)\n",
    "이전에 계산한 값을 저장해서 중복된 계산을 피하는 방법으로 성능을 대폭 향상"
   ]
  },
  {
   "cell_type": "code",
   "execution_count": null,
   "metadata": {
    "colab": {
     "base_uri": "https://localhost:8080/"
    },
    "id": "gUDkQZexjuZN",
    "outputId": "63562b19-a64c-4dc1-aa1e-3bdc95cb643c"
   },
   "outputs": [
    {
     "name": "stdout",
     "output_type": "stream",
     "text": [
      "Fibonacci(100): 354224848179261915075\n"
     ]
    }
   ],
   "source": [
    "from functools import lru_cache\n",
    "\n",
    "\n",
    "@lru_cache(maxsize=None)\n",
    "def fib(n):\n",
    "    if n == 0:\n",
    "        return 0\n",
    "    elif n == 1 or n == 2:\n",
    "        return 1\n",
    "    else:\n",
    "        return fib(n - 1) + fib(n - 2)\n",
    "\n",
    "\n",
    "n = 100\n",
    "print('Fibonacci({}): {}'.format(n, fib(n)))"
   ]
  },
  {
   "cell_type": "markdown",
   "metadata": {
    "id": "-rVoQ1zlRHp0"
   },
   "source": [
    "52 페이지"
   ]
  },
  {
   "cell_type": "code",
   "execution_count": 1,
   "metadata": {
    "colab": {
     "base_uri": "https://localhost:8080/"
    },
    "id": "JpfsIt8sRJhm",
    "outputId": "2660a467-4ae5-4079-b0fc-83f2b4e6020c"
   },
   "outputs": [
    {
     "name": "stdout",
     "output_type": "stream",
     "text": [
      "원판 1: A --> B\n",
      "원판 2: A --> C\n",
      "원판 1: B --> C\n",
      "원판 3: A --> B\n",
      "원판 1: C --> A\n",
      "원판 2: C --> B\n",
      "원판 1: A --> B\n",
      "원판 4: A --> C\n",
      "원판 1: B --> C\n",
      "원판 2: B --> A\n",
      "원판 1: C --> A\n",
      "원판 3: B --> C\n",
      "원판 1: A --> B\n",
      "원판 2: A --> C\n",
      "원판 1: B --> C\n"
     ]
    }
   ],
   "source": [
    "def hanoi_tower(n, fr, tmp, to) :\t\t        \n",
    "\n",
    "    if (n == 1) :\t\t\t\t                \n",
    "        print(\"원판 1: %s --> %s\" % (fr, to))\t\n",
    "    else :\n",
    "        hanoi_tower(n - 1, fr, to, tmp)\t\t    \n",
    "        print(\"원판 %d: %s --> %s\" % (n,fr,to))\t\n",
    "        hanoi_tower(n - 1, tmp, fr, to)\t\t    \n",
    "\n",
    "hanoi_tower(4, 'A', 'B', 'C')\t"
   ]
  },
  {
   "cell_type": "markdown",
   "metadata": {
    "id": "lq7GgBSYn25_"
   },
   "source": [
    "# PART 2"
   ]
  },
  {
   "cell_type": "markdown",
   "metadata": {
    "id": "1EQEVO87oC6l"
   },
   "source": [
    "### Linked List 60 페이지"
   ]
  },
  {
   "cell_type": "code",
   "execution_count": 7,
   "metadata": {
    "id": "qr2dOaMWpJ7Q"
   },
   "outputs": [],
   "source": [
    "class Node:\t\t\t\t                    \n",
    "    def __init__ (self, elem, link=None):\t ##생성자\n",
    "        self.data = elem \t\t\t        \n",
    "        self.link = link"
   ]
  },
  {
   "cell_type": "code",
   "execution_count": 4,
   "metadata": {
    "id": "s5-yrku8oCNU"
   },
   "outputs": [],
   "source": [
    "class LinkedList:\t\t\t\n",
    "    def __init__( self ):\t\t\t\n",
    "        self.head = None\t\t\t\n",
    "\n",
    "    def isEmpty( self ): return self.head == None\t\n",
    "    def clear( self ) : self.head = None\t\t    \n",
    "\n",
    "    def size( self ):\t\t\t\n",
    "        node = self.head\t\t\n",
    "        count = 0\n",
    "        while not node == None :\n",
    "            node = node.link\t\n",
    "            count += 1\t\t\t\n",
    "        return count\t\t\t\n",
    "\n",
    "    def display( self, msg='LinkedList:'): \n",
    "        print(msg, end='')\t\t        \n",
    "        node = self.head\t\t\t    \n",
    "        while not node == None :\t\t\n",
    "            print(node.data, end=' ')\t\n",
    "            node = node.link\t\t    \n",
    "        print()\n",
    "\n",
    "    def getNode(self, pos) :\t\t     \n",
    "        if pos < 0 : return None\n",
    "        node = self.head;\t\t\t     \n",
    "        while pos > 0 and node != None :\n",
    "            node = node.link\t\t     \n",
    "            pos -= 1\t\t\t         \n",
    "        return node\t\n",
    "\n",
    "    def getEntry(self, pos) :\t\t    \n",
    "        node = self.getNode(pos)\t\t\n",
    "        if node == None : return None\t\n",
    "        else : return node.data\t\t    \n",
    "\n",
    "    def replace(self, pos, elem) :\t    \n",
    "        node = self.getNode(pos)\t\t\n",
    "        if node != None: node.data = elem\t\n",
    "\n",
    "    def find(self, data) :\t\t    \n",
    "        node = self.head;\n",
    "        while node is not None:\t\t\n",
    "            if node.data == data : return node\t\n",
    "            node = node.link\n",
    "        return node\t\t\t\n",
    "\n",
    "    def insert(self, pos, elem) :\n",
    "        before = self.getNode(pos-1)\t\t    \n",
    "        if before == None :         \t\t    \n",
    "            self.head = Node(elem, self.head)\t\n",
    "        else :\t\t\t\t\t                \n",
    "            node = Node(elem, before.link)\t\t\n",
    "            before.link = node\t\t\n",
    "\n",
    "\n",
    "    def delete(self, pos) :\n",
    "        before = self.getNode(pos-1)\t\t\n",
    "        if before == None :         \t\t\n",
    "            if self.head is not None :\t\t\n",
    "                self.head = self.head.link\t\n",
    "        elif before.link != None :\t\t    \n",
    "            before.link = before.link.link\t\n",
    "  "
   ]
  },
  {
   "cell_type": "code",
   "execution_count": 6,
   "metadata": {},
   "outputs": [
    {
     "name": "stdout",
     "output_type": "stream",
     "text": [
      "<__main__.LinkedList object at 0x000001B2273C2880>\n"
     ]
    }
   ],
   "source": [
    "a = LinkedList()\n",
    "print(a)"
   ]
  },
  {
   "cell_type": "code",
   "execution_count": null,
   "metadata": {
    "colab": {
     "base_uri": "https://localhost:8080/"
    },
    "id": "RHjGxrcRozoK",
    "outputId": "0ae6f597-d7ca-4d82-d57e-22a6bafcd8f0"
   },
   "outputs": [
    {
     "name": "stdout",
     "output_type": "stream",
     "text": [
      "단순연결리스트로 구현한 리스트(초기상태):\n",
      "단순연결리스트로 구현한 리스트(삽입x5): 20 30 50 10 40 \n",
      "단순연결리스트로 구현한 리스트(교체x1): 20 30 90 10 40 \n",
      "단순연결리스트로 구현한 리스트(삭제x3): 30 10 \n",
      "단순연결리스트로 구현한 리스트(정리후): \n"
     ]
    }
   ],
   "source": [
    "s = LinkedList()\n",
    "s.display('단순연결리스트로 구현한 리스트(초기상태):')\n",
    "s.insert(0, 10)\t\n",
    "s.insert(0, 20)     \n",
    "s.insert(1, 30)\n",
    "s.insert(s.size(), 40);\ts.insert(2, 50)\n",
    "s.display(\"단순연결리스트로 구현한 리스트(삽입x5): \")\n",
    "s.replace(2, 90)\n",
    "s.display(\"단순연결리스트로 구현한 리스트(교체x1): \")\n",
    "s.delete(2);\ts.delete(s.size() - 1);\ts.delete(0)\n",
    "s.display(\"단순연결리스트로 구현한 리스트(삭제x3): \")\n",
    "s.clear()\n",
    "s.display(\"단순연결리스트로 구현한 리스트(정리후): \")"
   ]
  },
  {
   "cell_type": "markdown",
   "metadata": {
    "id": "Sel6bFISG9-W"
   },
   "source": [
    "### 68 페이지 duble Linked list"
   ]
  },
  {
   "cell_type": "code",
   "execution_count": 8,
   "metadata": {
    "id": "4VTcfWn0G_kP"
   },
   "outputs": [],
   "source": [
    "class Node:\n",
    "  def __init__(self, data):\n",
    "    self.data = data\n",
    "    self.next = None\n",
    "    self.prev = None\n",
    "\n",
    "class doubly_linked_list:\n",
    "  def __init__(self):\n",
    "    self.head = None\n",
    "\n",
    "  def push(self, NewVal):\n",
    "    NewNode = Node(NewVal)\n",
    "    NewNode.next = self.head\n",
    "    if self.head is not None:\n",
    "       self.head.prev = NewNode\n",
    "    self.head = NewNode\n",
    "\n",
    "  def append(self, NewVal):\n",
    "    NewNode = Node(NewVal)\n",
    "    NewNode.next = None\n",
    "    if self.head is None:\n",
    "      NewNode.prev = None\n",
    "      self.head = NewNode\n",
    "      return\n",
    "\n",
    "    last = self.head\n",
    "    while(last.next is not None):\n",
    "      last = last.next\n",
    "    last.next = NewNode\n",
    "    NewNode.prev = last\n",
    "    return\n",
    "\n",
    "  def listprint(self,node):\n",
    "    while(node is not None):\n",
    "      print(node.data)\n",
    "      last = node\n",
    "      node = node.next"
   ]
  },
  {
   "cell_type": "code",
   "execution_count": 9,
   "metadata": {
    "colab": {
     "base_uri": "https://localhost:8080/"
    },
    "id": "FYE__BxTLpJb",
    "outputId": "a27128f6-433b-4ae3-de2e-0fc5180192f8"
   },
   "outputs": [
    {
     "name": "stdout",
     "output_type": "stream",
     "text": [
      "62\n",
      "8\n",
      "12\n",
      "9\n",
      "45\n"
     ]
    }
   ],
   "source": [
    "dlist = doubly_linked_list()\n",
    "dlist.push(12)\n",
    "dlist.append(9)\n",
    "dlist.push(8)\n",
    "dlist.push(62)\n",
    "dlist.append(45)\n",
    "dlist.listprint(dlist.head)"
   ]
  },
  {
   "cell_type": "markdown",
   "metadata": {
    "id": "SW4JcbNcp11M"
   },
   "source": [
    "### Stack 74 페이지"
   ]
  },
  {
   "cell_type": "code",
   "execution_count": null,
   "metadata": {
    "colab": {
     "base_uri": "https://localhost:8080/"
    },
    "id": "GZUPHeMup6kt",
    "outputId": "88d74934-db2a-4323-e4c6-e91f0388e8e9"
   },
   "outputs": [
    {
     "name": "stdout",
     "output_type": "stream",
     "text": [
      "push 5회:  [1, 2, 3, 4, 5]\n",
      "pop())-->  5\n",
      "pop())-->  4\n",
      "pop 2회:  [1, 2, 3]\n"
     ]
    }
   ],
   "source": [
    "top=[]\n",
    "\n",
    "def isEmpty( ): return top == None\n",
    "def clear(  ): top = None\t\t    \n",
    "def push( item ):\t                \t\n",
    "  \ttop.append(item)\n",
    "\n",
    "def pop(  ):\t\t\t ##하나 꺼내짐\n",
    "    if not isEmpty():\t\n",
    "        return top.pop(-1)\t\t\n",
    "\n",
    "def peek(  ):\t\t\t ##조회만\n",
    "    if not isEmpty():\t\n",
    "        return top[-1]\n",
    "\n",
    "\n",
    "def size(  ):\t\t\t\n",
    "    return len(top)\t\t\t\n",
    "\t\n",
    "def clear():\n",
    "    global top\n",
    "    top = []\n",
    "\n",
    "for i in range(1,6):\n",
    "  push(i)\n",
    "\n",
    "print('push 5회: ', top)\n",
    "print('pop())--> ', pop())\n",
    "print('pop())--> ', pop())\n",
    "print('pop 2회: ', top)"
   ]
  },
  {
   "cell_type": "markdown",
   "metadata": {
    "id": "bRKat0KPag9y"
   },
   "source": [
    "### Queue 87 페이지\n",
    "\n",
    "`front` :  첫번째 요소\n",
    "\n",
    "`rear` : 마지막 요소\n",
    "\n",
    "**원형 큐** 코드 확인"
   ]
  },
  {
   "cell_type": "code",
   "execution_count": 5,
   "metadata": {
    "id": "xruBIF8eaf_S"
   },
   "outputs": [],
   "source": [
    "class Node:\t\t\t\t                    \n",
    "    def __init__ (self, elem, link=None):\t\n",
    "        self.data = elem \t\t\t        \n",
    "        self.link = link"
   ]
  },
  {
   "cell_type": "code",
   "execution_count": 6,
   "metadata": {
    "colab": {
     "base_uri": "https://localhost:8080/"
    },
    "id": "aLUOVq09D-Nq",
    "outputId": "e07cfe24-6caa-4f66-d426-3e00bd6a1c05"
   },
   "outputs": [
    {
     "name": "stdout",
     "output_type": "stream",
     "text": [
      "CircularLinkedQueue:0 1 2 3 4 5 6 7 \n",
      "CircularLinkedQueue:5 6 7 \n",
      "CircularLinkedQueue:5 6 7 8 9 10 11 12 13 \n"
     ]
    }
   ],
   "source": [
    "class CircularLinkedQueue:\n",
    "    def __init__( self ):\t\t\n",
    "        self.tail = None\t\t\t\n",
    "\n",
    "    def isEmpty( self ): return self.tail == None \n",
    "    def clear( self ): self.tail = None\t\t\n",
    "    def peek( self ):\t\t\t\t        \n",
    "        if not self.isEmpty():\t\t\t    \n",
    "            return self.tail.link.data\t\t\n",
    "\n",
    "    def enqueue( self, item ):\t ##삽입\n",
    "        node = Node(item, None)\t\n",
    "        if self.isEmpty() :\t\t ##self.isFull() 포화상태 아니면\n",
    "           node.link = node\t\t ##link주소에 node를 넣음\n",
    "           self.tail = node\t\t\n",
    "        else :\t\t\t\t           \n",
    "            node.link = self.tail.link\t\n",
    "            self.tail.link = node\t   \n",
    "            self.tail = node\t\t   \n",
    "\n",
    "    def dequeue( self ):  #삭제\n",
    "        if not self.isEmpty():\n",
    "            data = self.tail.link.data\t\t   \n",
    "            if self.tail.link == self.tail :\n",
    "                self.tail = None\t\t               \n",
    "            else:\t\t\t                \t\n",
    "                self.tail.link = self.tail.link.link\n",
    "            return data\t\t\t\n",
    "\n",
    "    def size( self ):\n",
    "        if self.isEmpty() : return 0\t\n",
    "        else :\t\t\t\t            \n",
    "            count = 1\t\t\t        \n",
    "            node = self.tail.link   \t\n",
    "            while not node == self.tail:\n",
    "                node = node.link        \n",
    "                count += 1\t\t        \n",
    "            return count\t\t        \n",
    "\n",
    "    def display( self, msg='CircularLinkedQueue:' ):\n",
    "        print(msg, end='')\n",
    "        if not self.isEmpty() :\n",
    "            node = self.tail.link\t\t    \n",
    "            while not node == self.tail :\t\n",
    "                print(node.data, end=' ')\t\n",
    "                node = node.link\t\t    \n",
    "            print(node.data, end=' ')\t\t\n",
    "        print()\t\t\t\t\t            \n",
    "\n",
    "\n",
    "q = CircularLinkedQueue()\n",
    "for i in range(8): q.enqueue(i)\t\t\n",
    "q.display()\t\t\t            \t\n",
    "for i in range(5): q.dequeue();\t\t\n",
    "q.display()\n",
    "for i in range(8,14): q.enqueue(i)\t\n",
    "q.display()"
   ]
  },
  {
   "cell_type": "markdown",
   "metadata": {
    "id": "jBmEfWYgbEWf"
   },
   "source": [
    "### Deque 88 페이지"
   ]
  },
  {
   "cell_type": "code",
   "execution_count": 17,
   "metadata": {
    "colab": {
     "base_uri": "https://localhost:8080/"
    },
    "id": "dGHq3oGlSJEm",
    "outputId": "449fbeb4-aa6f-442f-c80b-77475c62fd18"
   },
   "outputs": [
    {
     "name": "stdout",
     "output_type": "stream",
     "text": [
      "deque([1, 2, 3, 4])\n",
      "deque([1, 2, 3, 4, 'a'])\n"
     ]
    }
   ],
   "source": [
    "from collections import deque\n",
    "dq = deque([1,2,3,4])\n",
    "print(dq)\n",
    "dq.append('a')\n",
    "print(dq)"
   ]
  },
  {
   "cell_type": "code",
   "execution_count": 18,
   "metadata": {
    "colab": {
     "base_uri": "https://localhost:8080/"
    },
    "id": "aOz2Sg8rShyS",
    "outputId": "153eff0d-4f28-4547-bd4a-1bc209158ca1"
   },
   "outputs": [
    {
     "name": "stdout",
     "output_type": "stream",
     "text": [
      "deque(['a', 1, 2, 3, 4])\n"
     ]
    }
   ],
   "source": [
    "from collections import deque\n",
    "dq = deque([1,2,3,4])\n",
    "dq.appendleft('a')\n",
    "print(dq)"
   ]
  },
  {
   "cell_type": "code",
   "execution_count": 19,
   "metadata": {
    "colab": {
     "base_uri": "https://localhost:8080/"
    },
    "id": "_VbjMP7JSupH",
    "outputId": "4eb7fc61-962f-441a-e59c-f3ef77b5dd52"
   },
   "outputs": [
    {
     "name": "stdout",
     "output_type": "stream",
     "text": [
      "deque([])\n"
     ]
    }
   ],
   "source": [
    "dq.clear()\n",
    "print(dq)"
   ]
  },
  {
   "cell_type": "code",
   "execution_count": 20,
   "metadata": {
    "colab": {
     "base_uri": "https://localhost:8080/"
    },
    "id": "i4yCWHf_S01l",
    "outputId": "f07d12e8-d6c1-4468-dcf2-e6f30a2d89f3"
   },
   "outputs": [
    {
     "name": "stdout",
     "output_type": "stream",
     "text": [
      "deque([1, 2, 3, 'a', 4])\n"
     ]
    }
   ],
   "source": [
    "from collections import deque\n",
    "dq = deque([1,2,3,4])\n",
    "dq.insert(3,'a')\n",
    "print(dq)"
   ]
  },
  {
   "cell_type": "code",
   "execution_count": 21,
   "metadata": {
    "colab": {
     "base_uri": "https://localhost:8080/"
    },
    "id": "g74YelrkTCg_",
    "outputId": "28b676a4-a882-49fc-d407-094722bad59c"
   },
   "outputs": [
    {
     "name": "stdout",
     "output_type": "stream",
     "text": [
      "deque([1, 2, 3])\n",
      "4\n"
     ]
    }
   ],
   "source": [
    "from collections import deque\n",
    "dq = deque([1,2,3,4])\n",
    "pop_x=dq.pop()\n",
    "print(dq)\n",
    "print(pop_x)"
   ]
  },
  {
   "cell_type": "code",
   "execution_count": 22,
   "metadata": {
    "colab": {
     "base_uri": "https://localhost:8080/"
    },
    "id": "QI-hwbfGTWqK",
    "outputId": "0dccd44c-08da-4e2b-f0b3-e9f669432910"
   },
   "outputs": [
    {
     "name": "stdout",
     "output_type": "stream",
     "text": [
      "deque([2, 3, 4])\n",
      "1\n"
     ]
    }
   ],
   "source": [
    "from collections import deque\n",
    "dq = deque([1,2,3,4])\n",
    "\n",
    "pop_x = dq.popleft()\n",
    "print(dq)\n",
    "print(pop_x)"
   ]
  },
  {
   "cell_type": "markdown",
   "metadata": {
    "id": "2_k2kir3br_l"
   },
   "source": [
    "### Tree 98 페이지 "
   ]
  },
  {
   "cell_type": "code",
   "execution_count": 10,
   "metadata": {
    "colab": {
     "base_uri": "https://localhost:8080/"
    },
    "id": "JA2NAV-vsPEM",
    "outputId": "b6ca44de-c556-41ad-dd40-c13be524c5bc"
   },
   "outputs": [
    {
     "name": "stdout",
     "output_type": "stream",
     "text": [
      "10\n"
     ]
    }
   ],
   "source": [
    "class Node:\n",
    "\n",
    "    def __init__(self, data):\n",
    "        self.left = None\n",
    "        self.right = None\n",
    "        self.data = data\n",
    "\n",
    "    def PrintTree(self):\n",
    "        print(self.data)  # 10\n",
    "\n",
    "\n",
    "root = Node(10)\n",
    "root.PrintTree()"
   ]
  },
  {
   "cell_type": "code",
   "execution_count": 11,
   "metadata": {
    "colab": {
     "base_uri": "https://localhost:8080/"
    },
    "id": "PM1dgeAnbp-9",
    "outputId": "d36ac674-8485-4a84-b8b3-d8b3e1206b12"
   },
   "outputs": [
    {
     "name": "stdout",
     "output_type": "stream",
     "text": [
      "3\n",
      "6\n",
      "12\n",
      "14\n"
     ]
    }
   ],
   "source": [
    "class Node:\n",
    "\n",
    "    def __init__(self, data):\n",
    "\n",
    "        self.left = None\n",
    "        self.right = None\n",
    "        self.data = data\n",
    "\n",
    "    def insert(self, data): # 재귀\n",
    "        # Compare the new value with the parent node\n",
    "        if self.data:\n",
    "            if data < self.data:\n",
    "                if self.left is None:\n",
    "                    self.left = Node(data)\n",
    "                else:\n",
    "                    self.left.insert(data)\n",
    "            elif data > self.data:\n",
    "                if self.right is None:\n",
    "                    self.right = Node(data)\n",
    "                else:\n",
    "                    self.right.insert(data)\n",
    "        else:\n",
    "            self.data = data\n",
    "\n",
    "    # Print the tree\n",
    "    def PrintTree(self):\n",
    "        if self.left:\n",
    "            self.left.PrintTree()\n",
    "        print(self.data),\n",
    "        if self.right:\n",
    "            self.right.PrintTree()\n",
    "\n",
    "\n",
    "# Use the insert method to add nodes\n",
    "root = Node(12)\n",
    "root.insert(6)\n",
    "root.insert(14)\n",
    "root.insert(3)\n",
    "\n",
    "root.PrintTree()"
   ]
  },
  {
   "cell_type": "markdown",
   "metadata": {
    "id": "2RlsUf2kT_ww"
   },
   "source": [
    "### Heap page 101"
   ]
  },
  {
   "cell_type": "code",
   "execution_count": 13,
   "metadata": {
    "colab": {
     "base_uri": "https://localhost:8080/"
    },
    "id": "mwLWjcZUUCGT",
    "outputId": "c34f4ef0-f6a8-4f39-b2e6-5404c549dbe8"
   },
   "outputs": [
    {
     "name": "stdout",
     "output_type": "stream",
     "text": [
      "8\n",
      "7\n",
      "5\n",
      "4\n",
      "3\n",
      "1\n"
     ]
    }
   ],
   "source": [
    "import heapq\n",
    "\n",
    "nums = [4,1,7,3,8,5]\n",
    "heap=[]\n",
    "\n",
    "for num in nums:\n",
    "  heapq.heappush(heap,(-num,num))   # 우선순위, 값 , 삽입\n",
    "\n",
    "while heap:\n",
    "  print(heapq.heappop(heap)[1])     # index 1 , 삭제"
   ]
  },
  {
   "cell_type": "code",
   "execution_count": null,
   "metadata": {},
   "outputs": [],
   "source": []
  }
 ],
 "metadata": {
  "colab": {
   "collapsed_sections": [],
   "name": "Python_algorithm_1.ipynb",
   "provenance": []
  },
  "kernelspec": {
   "display_name": "Python 3 (ipykernel)",
   "language": "python",
   "name": "python3"
  },
  "language_info": {
   "codemirror_mode": {
    "name": "ipython",
    "version": 3
   },
   "file_extension": ".py",
   "mimetype": "text/x-python",
   "name": "python",
   "nbconvert_exporter": "python",
   "pygments_lexer": "ipython3",
   "version": "3.9.12"
  }
 },
 "nbformat": 4,
 "nbformat_minor": 1
}
